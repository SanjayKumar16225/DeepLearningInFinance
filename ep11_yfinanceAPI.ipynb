{
  "nbformat": 4,
  "nbformat_minor": 0,
  "metadata": {
    "colab": {
      "name": "ep11_yfinanceAPI.ipynb",
      "provenance": [],
      "collapsed_sections": []
    },
    "kernelspec": {
      "name": "python3",
      "display_name": "Python 3"
    },
    "language_info": {
      "name": "python"
    }
  },
  "cells": [
    {
      "cell_type": "markdown",
      "source": [
        "# Access Stock Prices Using Yahoo Finance API"
      ],
      "metadata": {
        "id": "2AFSVlXwlcbd"
      }
    },
    {
      "cell_type": "code",
      "source": [
        "!pip install yfinance\n",
        "import yfinance as yf"
      ],
      "metadata": {
        "colab": {
          "base_uri": "https://localhost:8080/"
        },
        "id": "3hIfIUc9lhKz",
        "outputId": "f3369903-9aa5-44a4-b1db-c412a7af1806"
      },
      "execution_count": 1,
      "outputs": [
        {
          "output_type": "stream",
          "name": "stdout",
          "text": [
            "Collecting yfinance\n",
            "  Downloading yfinance-0.1.69-py2.py3-none-any.whl (26 kB)\n",
            "Requirement already satisfied: numpy>=1.15 in /usr/local/lib/python3.7/dist-packages (from yfinance) (1.19.5)\n",
            "Requirement already satisfied: pandas>=0.24 in /usr/local/lib/python3.7/dist-packages (from yfinance) (1.1.5)\n",
            "Collecting requests>=2.26\n",
            "  Downloading requests-2.27.1-py2.py3-none-any.whl (63 kB)\n",
            "\u001b[K     |████████████████████████████████| 63 kB 1.0 MB/s \n",
            "\u001b[?25hRequirement already satisfied: multitasking>=0.0.7 in /usr/local/lib/python3.7/dist-packages (from yfinance) (0.0.10)\n",
            "Collecting lxml>=4.5.1\n",
            "  Downloading lxml-4.7.1-cp37-cp37m-manylinux_2_17_x86_64.manylinux2014_x86_64.manylinux_2_24_x86_64.whl (6.4 MB)\n",
            "\u001b[K     |████████████████████████████████| 6.4 MB 45.1 MB/s \n",
            "\u001b[?25hRequirement already satisfied: pytz>=2017.2 in /usr/local/lib/python3.7/dist-packages (from pandas>=0.24->yfinance) (2018.9)\n",
            "Requirement already satisfied: python-dateutil>=2.7.3 in /usr/local/lib/python3.7/dist-packages (from pandas>=0.24->yfinance) (2.8.2)\n",
            "Requirement already satisfied: six>=1.5 in /usr/local/lib/python3.7/dist-packages (from python-dateutil>=2.7.3->pandas>=0.24->yfinance) (1.15.0)\n",
            "Requirement already satisfied: urllib3<1.27,>=1.21.1 in /usr/local/lib/python3.7/dist-packages (from requests>=2.26->yfinance) (1.24.3)\n",
            "Requirement already satisfied: idna<4,>=2.5 in /usr/local/lib/python3.7/dist-packages (from requests>=2.26->yfinance) (2.10)\n",
            "Requirement already satisfied: charset-normalizer~=2.0.0 in /usr/local/lib/python3.7/dist-packages (from requests>=2.26->yfinance) (2.0.10)\n",
            "Requirement already satisfied: certifi>=2017.4.17 in /usr/local/lib/python3.7/dist-packages (from requests>=2.26->yfinance) (2021.10.8)\n",
            "Installing collected packages: requests, lxml, yfinance\n",
            "  Attempting uninstall: requests\n",
            "    Found existing installation: requests 2.23.0\n",
            "    Uninstalling requests-2.23.0:\n",
            "      Successfully uninstalled requests-2.23.0\n",
            "  Attempting uninstall: lxml\n",
            "    Found existing installation: lxml 4.2.6\n",
            "    Uninstalling lxml-4.2.6:\n",
            "      Successfully uninstalled lxml-4.2.6\n",
            "\u001b[31mERROR: pip's dependency resolver does not currently take into account all the packages that are installed. This behaviour is the source of the following dependency conflicts.\n",
            "google-colab 1.0.0 requires requests~=2.23.0, but you have requests 2.27.1 which is incompatible.\n",
            "datascience 0.10.6 requires folium==0.2.1, but you have folium 0.8.3 which is incompatible.\u001b[0m\n",
            "Successfully installed lxml-4.7.1 requests-2.27.1 yfinance-0.1.69\n"
          ]
        }
      ]
    },
    {
      "cell_type": "code",
      "source": [
        "sbux = yf.Ticker(\"SBUX\")\n",
        "\n",
        "# get stock info\n",
        "print(sbux.info)"
      ],
      "metadata": {
        "colab": {
          "base_uri": "https://localhost:8080/"
        },
        "id": "-AdrjaQZlhOc",
        "outputId": "aed65275-da90-4b95-c55f-a1ba38612670"
      },
      "execution_count": 4,
      "outputs": [
        {
          "output_type": "stream",
          "name": "stdout",
          "text": [
            "{'zip': '98134', 'sector': 'Consumer Cyclical', 'fullTimeEmployees': 383000, 'longBusinessSummary': \"Starbucks Corporation, together with its subsidiaries, operates as a roaster, marketer, and retailer of specialty coffee worldwide. The company operates through three segments: North America, International, and Channel Development. Its stores offer coffee and tea beverages, roasted whole beans and ground coffees, single serve products, and ready-to-drink beverages; and various food products, such as pastries, breakfast sandwiches, and lunch items. The company also licenses its trademarks through licensed stores, and grocery and foodservice accounts. The company offers its products under the Starbucks, Teavana, Seattle's Best Coffee, Evolution Fresh, Ethos, Starbucks Reserve, and Princi brands. As of October 3, 2021, it operated 16,826 company-operated and licensed stores in North America; and 17,007 company-operated and licensed stores internationally. The company was founded in 1971 and is based in Seattle, Washington.\", 'city': 'Seattle', 'phone': '206 447 1575', 'state': 'WA', 'country': 'United States', 'companyOfficers': [], 'website': 'https://www.starbucks.com', 'maxAge': 1, 'address1': '2401 Utah Avenue South', 'industry': 'Restaurants', 'ebitdaMargins': 0.21423, 'profitMargins': 0.1445, 'grossMargins': 0.29027, 'operatingCashflow': 5989100032, 'revenueGrowth': 0.313, 'operatingMargins': 0.16179001, 'ebitda': 6225699840, 'targetLowPrice': 96, 'recommendationKey': 'buy', 'grossProfits': 8435400000, 'freeCashflow': 4545775104, 'targetMedianPrice': 123.5, 'currentPrice': 100.12, 'earningsGrowth': 3.44, 'currentRatio': 1.197, 'returnOnAssets': 0.09671, 'numberOfAnalystOpinions': 32, 'targetMeanPrice': 123, 'debtToEquity': None, 'returnOnEquity': None, 'targetHighPrice': 148, 'totalCash': 6617900032, 'totalDebt': 23606398976, 'totalRevenue': 29060599808, 'totalCashPerShare': 5.641, 'financialCurrency': 'USD', 'revenuePerShare': 24.678, 'quickRatio': 0.951, 'recommendationMean': 2.3, 'exchange': 'NMS', 'shortName': 'Starbucks Corporation', 'longName': 'Starbucks Corporation', 'exchangeTimezoneName': 'America/New_York', 'exchangeTimezoneShortName': 'EST', 'isEsgPopulated': False, 'gmtOffSetMilliseconds': '-18000000', 'quoteType': 'EQUITY', 'symbol': 'SBUX', 'messageBoardId': 'finmb_34745', 'market': 'us_market', 'annualHoldingsTurnover': None, 'enterpriseToRevenue': 4.627, 'beta3Year': None, 'enterpriseToEbitda': 21.597, '52WeekChange': -0.023600519, 'morningStarRiskRating': None, 'forwardEps': 3.99, 'revenueQuarterlyGrowth': None, 'sharesOutstanding': 1173200000, 'fundInceptionDate': None, 'annualReportExpenseRatio': None, 'totalAssets': None, 'bookValue': -4.509, 'sharesShort': 11829251, 'sharesPercentSharesOut': 0.0101, 'fundFamily': None, 'lastFiscalYearEnd': 1633219200, 'heldPercentInstitutions': 0.70844, 'netIncomeToCommon': 4199300096, 'trailingEps': 3.54, 'lastDividendValue': 0.49, 'SandP52WeekChange': 0.22741783, 'priceToBook': None, 'heldPercentInsiders': 0.00189, 'nextFiscalYearEnd': 1696291200, 'yield': None, 'mostRecentQuarter': 1633219200, 'shortRatio': 1.86, 'sharesShortPreviousMonthDate': 1638230400, 'floatShares': 1171029580, 'beta': 0.821084, 'enterpriseValue': 134455984128, 'priceHint': 2, 'threeYearAverageReturn': None, 'lastSplitDate': 1428537600, 'lastSplitFactor': '2:1', 'legalType': None, 'lastDividendDate': 1636502400, 'morningStarOverallRating': None, 'earningsQuarterlyGrowth': 3.494, 'priceToSalesTrailing12Months': 4.041926, 'dateShortInterest': 1640908800, 'pegRatio': 0.91, 'ytdReturn': None, 'forwardPE': 25.092733, 'lastCapGain': None, 'shortPercentOfFloat': 0.0101, 'sharesShortPriorMonth': 11327934, 'impliedSharesOutstanding': None, 'category': None, 'fiveYearAverageReturn': None, 'previousClose': 102.4, 'regularMarketOpen': 101.91, 'twoHundredDayAverage': 113.992, 'trailingAnnualDividendYield': 0.01796875, 'payoutRatio': 0.5085, 'volume24Hr': None, 'regularMarketDayHigh': 101.85, 'navPrice': None, 'averageDailyVolume10Day': 9677080, 'regularMarketPreviousClose': 102.4, 'fiftyDayAverage': 112.0004, 'trailingAnnualDividendRate': 1.84, 'open': 101.91, 'toCurrency': None, 'averageVolume10days': 9677080, 'expireDate': None, 'algorithm': None, 'dividendRate': 1.96, 'exDividendDate': 1644451200, 'circulatingSupply': None, 'startDate': None, 'regularMarketDayLow': 99.09, 'currency': 'USD', 'trailingPE': 28.282488, 'regularMarketVolume': 13703172, 'lastMarket': None, 'maxSupply': None, 'openInterest': None, 'marketCap': 117460787200, 'volumeAllCurrencies': None, 'strikePrice': None, 'averageVolume': 7490050, 'dayLow': 99.09, 'ask': 100.5, 'askSize': 2200, 'volume': 13703172, 'fiftyTwoWeekHigh': 126.32, 'fromCurrency': None, 'fiveYearAvgDividendYield': 1.81, 'fiftyTwoWeekLow': 95.92, 'bid': 100.21, 'tradeable': False, 'dividendYield': 0.0196, 'bidSize': 3000, 'dayHigh': 101.85, 'regularMarketPrice': 100.12, 'preMarketPrice': None, 'logo_url': 'https://logo.clearbit.com/starbucks.com', 'trailingPegRatio': 3.1285}\n"
          ]
        }
      ]
    },
    {
      "cell_type": "code",
      "source": [
        "# get historical market data (5 days)\n",
        "hist_5d = sbux.history(period=\"5d\")\n",
        "print(hist_5d)"
      ],
      "metadata": {
        "colab": {
          "base_uri": "https://localhost:8080/"
        },
        "id": "0Y3ITMsYVIUy",
        "outputId": "2a58a2eb-9e6d-405c-b421-e5a38b31a44b"
      },
      "execution_count": 5,
      "outputs": [
        {
          "output_type": "stream",
          "name": "stdout",
          "text": [
            "                  Open        High  ...  Dividends  Stock Splits\n",
            "Date                                ...                         \n",
            "2022-01-10  106.620003  107.010002  ...          0             0\n",
            "2022-01-11  106.040001  106.169998  ...          0             0\n",
            "2022-01-12  104.440002  105.320000  ...          0             0\n",
            "2022-01-13  104.150002  104.669998  ...          0             0\n",
            "2022-01-14  101.910004  101.910004  ...          0             0\n",
            "\n",
            "[5 rows x 7 columns]\n"
          ]
        }
      ]
    },
    {
      "cell_type": "code",
      "source": [
        "# get historical market data (1 year)\n",
        "hist_253d = sbux.history(period=\"253d\")\n",
        "print(hist_253d)"
      ],
      "metadata": {
        "id": "0_VY_JKElhRj",
        "colab": {
          "base_uri": "https://localhost:8080/"
        },
        "outputId": "b01d57ca-0268-4cfd-dd03-f1845ca6103e"
      },
      "execution_count": 6,
      "outputs": [
        {
          "output_type": "stream",
          "name": "stdout",
          "text": [
            "                  Open        High  ...  Dividends  Stock Splits\n",
            "Date                                ...                         \n",
            "2021-01-15   99.731376  101.020078  ...        0.0             0\n",
            "2021-01-19  101.128287  101.915273  ...        0.0             0\n",
            "2021-01-20  100.744636  104.128691  ...        0.0             0\n",
            "2021-01-21  103.745028  103.774539  ...        0.0             0\n",
            "2021-01-22  102.466172  102.771129  ...        0.0             0\n",
            "...                ...         ...  ...        ...           ...\n",
            "2022-01-10  106.620003  107.010002  ...        0.0             0\n",
            "2022-01-11  106.040001  106.169998  ...        0.0             0\n",
            "2022-01-12  104.440002  105.320000  ...        0.0             0\n",
            "2022-01-13  104.150002  104.669998  ...        0.0             0\n",
            "2022-01-14  101.910004  101.910004  ...        0.0             0\n",
            "\n",
            "[253 rows x 7 columns]\n"
          ]
        }
      ]
    },
    {
      "cell_type": "code",
      "source": [
        "# get historical market data (1 year)\n",
        "hist_1y = sbux.history(period=\"1y\")\n",
        "print(hist_1y)"
      ],
      "metadata": {
        "colab": {
          "base_uri": "https://localhost:8080/"
        },
        "id": "eGU68nH1W18s",
        "outputId": "9de9a215-459f-4c6b-ff5c-1aaad37d18c8"
      },
      "execution_count": 7,
      "outputs": [
        {
          "output_type": "stream",
          "name": "stdout",
          "text": [
            "                  Open        High  ...  Dividends  Stock Splits\n",
            "Date                                ...                         \n",
            "2021-01-15   99.731376  101.020078  ...        0.0             0\n",
            "2021-01-19  101.128287  101.915273  ...        0.0             0\n",
            "2021-01-20  100.744629  104.128683  ...        0.0             0\n",
            "2021-01-21  103.745020  103.774531  ...        0.0             0\n",
            "2021-01-22  102.466165  102.771121  ...        0.0             0\n",
            "...                ...         ...  ...        ...           ...\n",
            "2022-01-10  106.620003  107.010002  ...        0.0             0\n",
            "2022-01-11  106.040001  106.169998  ...        0.0             0\n",
            "2022-01-12  104.440002  105.320000  ...        0.0             0\n",
            "2022-01-13  104.150002  104.669998  ...        0.0             0\n",
            "2022-01-14  101.910004  101.910004  ...        0.0             0\n",
            "\n",
            "[253 rows x 7 columns]\n"
          ]
        }
      ]
    },
    {
      "cell_type": "code",
      "source": [
        "import matplotlib.pyplot as plt"
      ],
      "metadata": {
        "id": "ChY19uA0lrGk"
      },
      "execution_count": 8,
      "outputs": []
    },
    {
      "cell_type": "code",
      "source": [
        "# Plot\n",
        "hist_1y['Close'].plot(figsize=(16, 9))"
      ],
      "metadata": {
        "colab": {
          "base_uri": "https://localhost:8080/",
          "height": 539
        },
        "id": "_oRKs0GklsvZ",
        "outputId": "fb10c3b2-7374-46f8-e4b0-1ca52f4b6196"
      },
      "execution_count": 9,
      "outputs": [
        {
          "output_type": "execute_result",
          "data": {
            "text/plain": [
              "<matplotlib.axes._subplots.AxesSubplot at 0x7f31c030bfd0>"
            ]
          },
          "metadata": {},
          "execution_count": 9
        },
        {
          "output_type": "display_data",
          "data": {
            "image/png": "[encoded data removed]",
            "text/plain": [
              "<Figure size 1152x648 with 1 Axes>"
            ]
          },
          "metadata": {
            "needs_background": "light"
          }
        }
      ]
    },
    {
      "cell_type": "code",
      "source": [
        "# show actions (dividends, splits)\n",
        "sbux.actions"
      ],
      "metadata": {
        "id": "ZBtabi8vagip",
        "colab": {
          "base_uri": "https://localhost:8080/",
          "height": 206
        },
        "outputId": "e0d7da5b-22d6-4a10-e577-b4f6debf283a"
      },
      "execution_count": 10,
      "outputs": [
        {
          "output_type": "execute_result",
          "data": {
            "text/html": [
              "\n",
              "  <div id=\"df-277088a5-83b2-4298-9a32-e81126f52c2e\">\n",
              "    <div class=\"colab-df-container\">\n",
              "      <div>\n",
              "<style scoped>\n",
              "    .dataframe tbody tr th:only-of-type {\n",
              "        vertical-align: middle;\n",
              "    }\n",
              "\n",
              "    .dataframe tbody tr th {\n",
              "        vertical-align: top;\n",
              "    }\n",
              "\n",
              "    .dataframe thead th {\n",
              "        text-align: right;\n",
              "    }\n",
              "</style>\n",
              "<table border=\"1\" class=\"dataframe\">\n",
              "  <thead>\n",
              "    <tr style=\"text-align: right;\">\n",
              "      <th></th>\n",
              "      <th>Dividends</th>\n",
              "      <th>Stock Splits</th>\n",
              "    </tr>\n",
              "    <tr>\n",
              "      <th>Date</th>\n",
              "      <th></th>\n",
              "      <th></th>\n",
              "    </tr>\n",
              "  </thead>\n",
              "  <tbody>\n",
              "    <tr>\n",
              "      <th>2021-02-17</th>\n",
              "      <td>0.45</td>\n",
              "      <td>0.0</td>\n",
              "    </tr>\n",
              "    <tr>\n",
              "      <th>2021-05-12</th>\n",
              "      <td>0.45</td>\n",
              "      <td>0.0</td>\n",
              "    </tr>\n",
              "    <tr>\n",
              "      <th>2021-08-11</th>\n",
              "      <td>0.45</td>\n",
              "      <td>0.0</td>\n",
              "    </tr>\n",
              "    <tr>\n",
              "      <th>2021-11-10</th>\n",
              "      <td>0.49</td>\n",
              "      <td>0.0</td>\n",
              "    </tr>\n",
              "  </tbody>\n",
              "</table>\n",
              "</div>\n",
              "      <button class=\"colab-df-convert\" onclick=\"convertToInteractive('df-277088a5-83b2-4298-9a32-e81126f52c2e')\"\n",
              "              title=\"Convert this dataframe to an interactive table.\"\n",
              "              style=\"display:none;\">\n",
              "        \n",
              "  <svg xmlns=\"http://www.w3.org/2000/svg\" height=\"24px\"viewBox=\"0 0 24 24\"\n",
              "       width=\"24px\">\n",
              "    <path d=\"M0 0h24v24H0V0z\" fill=\"none\"/>\n",
              "    <path d=\"M18.56 5.44l.94 2.06.94-2.06 2.06-.94-2.06-.94-.94-2.06-.94 2.06-2.06.94zm-11 1L8.5 8.5l.94-2.06 2.06-.94-2.06-.94L8.5 2.5l-.94 2.06-2.06.94zm10 10l.94 2.06.94-2.06 2.06-.94-2.06-.94-.94-2.06-.94 2.06-2.06.94z\"/><path d=\"M17.41 7.96l-1.37-1.37c-.4-.4-.92-.59-1.43-.59-.52 0-1.04.2-1.43.59L10.3 9.45l-7.72 7.72c-.78.78-.78 2.05 0 2.83L4 21.41c.39.39.9.59 1.41.59.51 0 1.02-.2 1.41-.59l7.78-7.78 2.81-2.81c.8-.78.8-2.07 0-2.86zM5.41 20L4 18.59l7.72-7.72 1.47 1.35L5.41 20z\"/>\n",
              "  </svg>\n",
              "      </button>\n",
              "      \n",
              "  <style>\n",
              "    .colab-df-container {\n",
              "      display:flex;\n",
              "      flex-wrap:wrap;\n",
              "      gap: 12px;\n",
              "    }\n",
              "\n",
              "    .colab-df-convert {\n",
              "      background-color: #E8F0FE;\n",
              "      border: none;\n",
              "      border-radius: 50%;\n",
              "      cursor: pointer;\n",
              "      display: none;\n",
              "      fill: #1967D2;\n",
              "      height: 32px;\n",
              "      padding: 0 0 0 0;\n",
              "      width: 32px;\n",
              "    }\n",
              "\n",
              "    .colab-df-convert:hover {\n",
              "      background-color: #E2EBFA;\n",
              "      box-shadow: 0px 1px 2px rgba(60, 64, 67, 0.3), 0px 1px 3px 1px rgba(60, 64, 67, 0.15);\n",
              "      fill: #174EA6;\n",
              "    }\n",
              "\n",
              "    [theme=dark] .colab-df-convert {\n",
              "      background-color: #3B4455;\n",
              "      fill: #D2E3FC;\n",
              "    }\n",
              "\n",
              "    [theme=dark] .colab-df-convert:hover {\n",
              "      background-color: #434B5C;\n",
              "      box-shadow: 0px 1px 3px 1px rgba(0, 0, 0, 0.15);\n",
              "      filter: drop-shadow(0px 1px 2px rgba(0, 0, 0, 0.3));\n",
              "      fill: #FFFFFF;\n",
              "    }\n",
              "  </style>\n",
              "\n",
              "      <script>\n",
              "        const buttonEl =\n",
              "          document.querySelector('#df-277088a5-83b2-4298-9a32-e81126f52c2e button.colab-df-convert');\n",
              "        buttonEl.style.display =\n",
              "          google.colab.kernel.accessAllowed ? 'block' : 'none';\n",
              "\n",
              "        async function convertToInteractive(key) {\n",
              "          const element = document.querySelector('#df-277088a5-83b2-4298-9a32-e81126f52c2e');\n",
              "          const dataTable =\n",
              "            await google.colab.kernel.invokeFunction('convertToInteractive',\n",
              "                                                     [key], {});\n",
              "          if (!dataTable) return;\n",
              "\n",
              "          const docLinkHtml = 'Like what you see? Visit the ' +\n",
              "            '<a target=\"_blank\" href=https://colab.research.google.com/notebooks/data_table.ipynb>data table notebook</a>'\n",
              "            + ' to learn more about interactive tables.';\n",
              "          element.innerHTML = '';\n",
              "          dataTable['output_type'] = 'display_data';\n",
              "          await google.colab.output.renderOutput(dataTable, element);\n",
              "          const docLink = document.createElement('div');\n",
              "          docLink.innerHTML = docLinkHtml;\n",
              "          element.appendChild(docLink);\n",
              "        }\n",
              "      </script>\n",
              "    </div>\n",
              "  </div>\n",
              "  "
            ],
            "text/plain": [
              "            Dividends  Stock Splits\n",
              "Date                               \n",
              "2021-02-17       0.45           0.0\n",
              "2021-05-12       0.45           0.0\n",
              "2021-08-11       0.45           0.0\n",
              "2021-11-10       0.49           0.0"
            ]
          },
          "metadata": {},
          "execution_count": 10
        }
      ]
    },
    {
      "cell_type": "code",
      "source": [
        "# Download stock data then export as CSV, save on local drive\n",
        "df1 = yf.download(\"SBUX\", start=\"2021-01-01\", end=\"2021-12-31\")\n",
        "from google.colab import files\n",
        "df1.to_csv('sbux1.csv') \n",
        "files.download('sbux1.csv')"
      ],
      "metadata": {
        "colab": {
          "base_uri": "https://localhost:8080/",
          "height": 34
        },
        "id": "ROCTe7UdZZly",
        "outputId": "2ecdc413-90c4-441a-c841-ed4a069e6dce"
      },
      "execution_count": 11,
      "outputs": [
        {
          "output_type": "stream",
          "name": "stdout",
          "text": [
            "\r[*********************100%***********************]  1 of 1 completed\n"
          ]
        },
        {
          "output_type": "display_data",
          "data": {
            "application/javascript": [
              "\n",
              "    async function download(id, filename, size) {\n",
              "      if (!google.colab.kernel.accessAllowed) {\n",
              "        return;\n",
              "      }\n",
              "      const div = document.createElement('div');\n",
              "      const label = document.createElement('label');\n",
              "      label.textContent = `Downloading \"${filename}\": `;\n",
              "      div.appendChild(label);\n",
              "      const progress = document.createElement('progress');\n",
              "      progress.max = size;\n",
              "      div.appendChild(progress);\n",
              "      document.body.appendChild(div);\n",
              "\n",
              "      const buffers = [];\n",
              "      let downloaded = 0;\n",
              "\n",
              "      const channel = await google.colab.kernel.comms.open(id);\n",
              "      // Send a message to notify the kernel that we're ready.\n",
              "      channel.send({})\n",
              "\n",
              "      for await (const message of channel.messages) {\n",
              "        // Send a message to notify the kernel that we're ready.\n",
              "        channel.send({})\n",
              "        if (message.buffers) {\n",
              "          for (const buffer of message.buffers) {\n",
              "            buffers.push(buffer);\n",
              "            downloaded += buffer.byteLength;\n",
              "            progress.value = downloaded;\n",
              "          }\n",
              "        }\n",
              "      }\n",
              "      const blob = new Blob(buffers, {type: 'application/binary'});\n",
              "      const a = document.createElement('a');\n",
              "      a.href = window.URL.createObjectURL(blob);\n",
              "      a.download = filename;\n",
              "      div.appendChild(a);\n",
              "      a.click();\n",
              "      div.remove();\n",
              "    }\n",
              "  "
            ],
            "text/plain": [
              "<IPython.core.display.Javascript object>"
            ]
          },
          "metadata": {}
        },
        {
          "output_type": "display_data",
          "data": {
            "application/javascript": [
              "download(\"download_bdc9012d-74ff-4414-ab60-05828714eecc\", \"sbux1.csv\", 27703)"
            ],
            "text/plain": [
              "<IPython.core.display.Javascript object>"
            ]
          },
          "metadata": {}
        }
      ]
    },
    {
      "cell_type": "code",
      "source": [
        "# How to save on Google Drive\n",
        "from google.colab import drive\n",
        "drive.mount('drive')"
      ],
      "metadata": {
        "colab": {
          "base_uri": "https://localhost:8080/"
        },
        "id": "O2cOmiN_aH8j",
        "outputId": "fdad81a3-4e23-40f3-cd62-a489408cae4d"
      },
      "execution_count": null,
      "outputs": [
        {
          "output_type": "stream",
          "name": "stdout",
          "text": [
            "Mounted at drive\n"
          ]
        }
      ]
    },
    {
      "cell_type": "code",
      "source": [
        "# Download stock data then export as CSV, save on Google Drive\n",
        "df2 = yf.download(\"SBUX\", start=\"2021-01-01\", end=\"2021-12-31\")\n",
        "df2.to_csv('sbux2.csv')\n",
        "!cp sbux2.csv \"drive/My Drive/Colab Notebooks/\""
      ],
      "metadata": {
        "colab": {
          "base_uri": "https://localhost:8080/"
        },
        "id": "NYF-hT1vZ3xD",
        "outputId": "9177d80c-5473-427d-a4de-63600d64918b"
      },
      "execution_count": null,
      "outputs": [
        {
          "output_type": "stream",
          "name": "stdout",
          "text": [
            "\r[*********************100%***********************]  1 of 1 completed\n"
          ]
        }
      ]
    }
  ]
}