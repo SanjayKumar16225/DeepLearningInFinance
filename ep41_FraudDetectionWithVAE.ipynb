{
  "nbformat": 4,
  "nbformat_minor": 0,
  "metadata": {
    "colab": {
      "name": "ep41_FraudDetectionWithVAE.ipynb",
      "provenance": [],
      "collapsed_sections": []
    },
    "kernelspec": {
      "name": "python3",
      "display_name": "Python 3"
    },
    "language_info": {
      "name": "python"
    }
  },
  "cells": [
    {
      "cell_type": "markdown",
      "source": [
        "# Episode 41. Credit Card Fraud Detection With VAE"
      ],
      "metadata": {
        "id": "Co2QmJ2r9-34"
      }
    },
    {
      "cell_type": "markdown",
      "source": [
        "## Preparation Steps From Episode 35"
      ],
      "metadata": {
        "id": "UIk1tWMR_lmU"
      }
    },
    {
      "cell_type": "code",
      "source": [
        "# import libraries\n",
        "import numpy as np\n",
        "import pandas as pd\n",
        "import seaborn as sns\n",
        "import matplotlib.pyplot as plt\n",
        "from sklearn.model_selection import train_test_split\n",
        "from sklearn.preprocessing import StandardScaler\n",
        "import tensorflow as tf\n",
        "from tensorflow.keras.layers import Input, Dense, Lambda\n",
        "from tensorflow.keras.models import Model\n",
        "from tensorflow.keras import backend as K\n",
        "from tensorflow.keras import metrics\n",
        "from tensorflow.keras import regularizers"
      ],
      "metadata": {
        "id": "EaSLWUZX9_I-"
      },
      "execution_count": 3,
      "outputs": []
    },
    {
      "cell_type": "code",
      "source": [
        "# Set Environment Variables\n",
        "%matplotlib inline\n",
        "RANDOM_SEED = 27\n",
        "LABELS = [\"Normal\", \"Fraud\"]"
      ],
      "metadata": {
        "id": "JBPr7Mt-_Bj_"
      },
      "execution_count": 4,
      "outputs": []
    },
    {
      "cell_type": "code",
      "source": [
        "# Kaggle Credit Card Fraud Detection Data: https://www.kaggle.com/mlg-ulb/creditcardfraud6\n",
        "# Mount Your Account at Google Drive\n",
        "from google.colab import drive\n",
        "drive.mount('./mount')"
      ],
      "metadata": {
        "colab": {
          "base_uri": "https://localhost:8080/"
        },
        "id": "Vy8NwYlZ9_Pg",
        "outputId": "7854aa78-7311-45d2-bdb4-305642732e67"
      },
      "execution_count": 5,
      "outputs": [
        {
          "output_type": "stream",
          "name": "stdout",
          "text": [
            "Mounted at ./mount\n"
          ]
        }
      ]
    },
    {
      "cell_type": "code",
      "source": [
        "df = pd.read_csv(\"mount/My Drive/Colab Notebooks/creditcard.csv\")"
      ],
      "metadata": {
        "id": "4MdoHiel9_Ta"
      },
      "execution_count": 6,
      "outputs": []
    },
    {
      "cell_type": "code",
      "source": [
        "# Time is irrelevant\n",
        "df2 = df.drop(['Time'], axis=1)\n",
        "# Standardize Amount\n",
        "#df2['Amount'] = StandardScaler().fit_transform(df2['Amount'].values.reshape(-1, 1))\n",
        "# split data\n",
        "X_train, X_test = train_test_split(df2, test_size=0.2, random_state=RANDOM_SEED)\n",
        "# Train on Normal (Class=0)\n",
        "X_train = X_train[X_train.Class == 0]\n",
        "# \"Class\" variable is not needed\n",
        "X_train = X_train.drop(['Class'], axis=1)\n",
        "# test data\n",
        "y_test = X_test['Class']\n",
        "X_test = X_test.drop(['Class'], axis=1)\n",
        "\n",
        "# Standardize data based on mean & sd of X_train\n",
        "mean = X_train.mean(axis=0)\n",
        "std = X_train.std(axis=0)\n",
        "X_train = (X_train - mean) / std\n",
        "X_test = (X_test - mean) / std\n",
        "\n",
        "# convert to numpy\n",
        "X_train = X_train.to_numpy()\n",
        "X_test = X_test.to_numpy()\n",
        "y_test = y_test.to_numpy()"
      ],
      "metadata": {
        "id": "5wkNh8a9-KgT"
      },
      "execution_count": 7,
      "outputs": []
    },
    {
      "cell_type": "code",
      "source": [
        "# check standardization of the data\n",
        "print(np.mean(X_train,axis=0))\n",
        "print(np.std(X_train,axis=0))\n",
        "print(np.mean(X_test,axis=0))\n",
        "print(np.std(X_test,axis=0))"
      ],
      "metadata": {
        "id": "WGBeuOqa-Kjk"
      },
      "execution_count": null,
      "outputs": []
    },
    {
      "cell_type": "markdown",
      "source": [
        "## Now Start Fraud Detection"
      ],
      "metadata": {
        "id": "6dtSVGmHCtcw"
      }
    },
    {
      "cell_type": "markdown",
      "source": [
        "### (1) Set Up Variational Autoencoder Network"
      ],
      "metadata": {
        "id": "PeqOP18O5xw2"
      }
    },
    {
      "cell_type": "code",
      "source": [
        "import tensorflow as tf\n",
        "from tensorflow.keras.layers import Input, Dense, Lambda\n",
        "from tensorflow.keras.models import Model\n",
        "from tensorflow.keras import backend as K\n",
        "from tensorflow.keras import metrics\n",
        "from tensorflow.keras import regularizers"
      ],
      "metadata": {
        "id": "65SlRyJL6ZpJ"
      },
      "execution_count": 9,
      "outputs": []
    },
    {
      "cell_type": "code",
      "source": [
        "# defining the key parameters\n",
        "batch_size = 100\n",
        "original_dim = 29\n",
        "latent_dim = 5\n",
        "intermediate_dim1 = 20\n",
        "intermediate_dim2 = 10\n",
        "epochs = 50\n",
        "epsilon_std = 1.0"
      ],
      "metadata": {
        "id": "JhnRM9xp5qos"
      },
      "execution_count": 10,
      "outputs": []
    },
    {
      "cell_type": "code",
      "source": [
        "# sampling from mean and sd in VAE\n",
        "def sampling(args: tuple):\n",
        "    # we grab the variables from the tuple\n",
        "    z_mean, z_log_var = args\n",
        "    epsilon = K.random_normal(shape=(K.shape(z_mean)[0], latent_dim), mean=0.,\n",
        "                              stddev=epsilon_std)\n",
        "    return z_mean + K.exp(z_log_var / 2) * epsilon"
      ],
      "metadata": {
        "id": "ZsHkjMETWkP_"
      },
      "execution_count": 11,
      "outputs": []
    },
    {
      "cell_type": "code",
      "source": [
        "#########################\n",
        "# input to our encoder\n",
        "#########################\n",
        "x = Input(shape=(original_dim,), name=\"input\")\n",
        "# intermediate layer\n",
        "#h1 = Dense(intermediate_dim1, activation='tanh', name=\"encoding1\")(x)\n",
        "h1 = Dense(intermediate_dim1, activation=\"tanh\", name=\"encoding1\", activity_regularizer=regularizers.l1(10e-5))(x)\n",
        "h = Dense(intermediate_dim2, activation='relu', name=\"encoding\")(h1)\n",
        "# defining the mean of the latent space\n",
        "z_mean = Dense(latent_dim, name=\"mean\")(h)\n",
        "# defining the log variance of the latent space\n",
        "z_log_var = Dense(latent_dim, name=\"log-variance\")(h)\n",
        "# note that \"output_shape\" isn't necessary with the TensorFlow backend\n",
        "z = Lambda(sampling, output_shape=(latent_dim,))([z_mean, z_log_var])\n",
        "# defining the encoder as a keras model\n",
        "encoder = Model(x, [z_mean, z_log_var, z], name=\"encoder\")\n",
        "# print out summary of what we just did\n",
        "encoder.summary()"
      ],
      "metadata": {
        "id": "ROnHTL-LWkUK"
      },
      "execution_count": null,
      "outputs": []
    },
    {
      "cell_type": "code",
      "source": [
        "#########################\n",
        "# Input to the decoder\n",
        "#########################\n",
        "input_decoder = Input(shape=(latent_dim,), name=\"decoder_input\")\n",
        "# taking the latent space to intermediate dimension\n",
        "decoder_h1 = Dense(intermediate_dim2, activation='relu', name=\"decoder_h2\")(input_decoder)\n",
        "decoder_h = Dense(intermediate_dim1, activation='relu', name=\"decoder_h\")(decoder_h1)\n",
        "# getting the mean from the original dimension\n",
        "x_decoded = Dense(original_dim, activation='tanh', name=\"flat_decoded\")(decoder_h)\n",
        "# defining the decoder as a keras model\n",
        "decoder = Model(input_decoder, x_decoded, name=\"decoder\")\n",
        "decoder.summary()"
      ],
      "metadata": {
        "id": "-DwdMUSTWkW-"
      },
      "execution_count": null,
      "outputs": []
    },
    {
      "cell_type": "code",
      "source": [
        "##########################\n",
        "# variational Autoencoder\n",
        "##########################\n",
        "# grab the output. Recall, that we need to grab the 3rd element our sampling z\n",
        "output_combined = decoder(encoder(x)[2])\n",
        "# link the input and the overall output\n",
        "vae = Model(x, output_combined)\n",
        "# print out what the overall model looks like\n",
        "vae.summary()"
      ],
      "metadata": {
        "id": "vbk62db2WkZn"
      },
      "execution_count": null,
      "outputs": []
    },
    {
      "cell_type": "code",
      "source": [
        "# Defina VAE Loss Function\n",
        "def vae_loss(x: tf.Tensor, x_decoded_mean: tf.Tensor,z_log_var=z_log_var, z_mean=z_mean, original_dim=original_dim):\n",
        "    xent_loss = original_dim * metrics.binary_crossentropy(x, x_decoded_mean)\n",
        "    kl_loss = - 0.5 * K.sum(1 + z_log_var - K.square(z_mean) - K.exp(z_log_var), axis=-1)\n",
        "    vae_loss = K.mean(xent_loss + kl_loss)\n",
        "    return vae_loss"
      ],
      "metadata": {
        "id": "8WjoRPpdWkca"
      },
      "execution_count": 16,
      "outputs": []
    },
    {
      "cell_type": "code",
      "source": [
        "vae.compile(optimizer='adam', loss='mean_squared_error', metrics=['accuracy'])"
      ],
      "metadata": {
        "id": "2p7iGPS-Wkfh"
      },
      "execution_count": 17,
      "outputs": []
    },
    {
      "cell_type": "markdown",
      "source": [
        "### (2) Train Neural Network"
      ],
      "metadata": {
        "id": "waiNSchtXFj7"
      }
    },
    {
      "cell_type": "code",
      "source": [
        "history = vae.fit(X_train, X_train,\n",
        "                    epochs=epochs,\n",
        "                    batch_size=batch_size,\n",
        "                    shuffle=True,\n",
        "                    validation_data=(X_test, X_test),\n",
        "                    verbose=1).history"
      ],
      "metadata": {
        "id": "hhYg1VmjWkiN"
      },
      "execution_count": null,
      "outputs": []
    },
    {
      "cell_type": "markdown",
      "source": [
        "### (3) Reconstruction Error"
      ],
      "metadata": {
        "id": "PcPQDR5u8SsK"
      }
    },
    {
      "cell_type": "code",
      "source": [
        "##########################################\n",
        "# prediction & reconstruction error\n",
        "##########################################\n",
        "predictions = vae.predict(X_test)\n",
        "mse = np.mean(np.power(X_test - predictions, 2), axis=1)\n",
        "error_df = pd.DataFrame({'reconstruction_error': mse, 'true_class': y_test})\n",
        "print(\"Full Sample\",error_df.describe())\n",
        "error_df_true = error_df[(error_df['true_class']== 0)]\n",
        "print(\"Normal Sample\",error_df_true.describe())\n",
        "error_df_false = error_df[(error_df['true_class']== 1)]\n",
        "print(\"Fraud Sample\",error_df_false.describe())"
      ],
      "metadata": {
        "id": "s6UURTLC59WQ"
      },
      "execution_count": null,
      "outputs": []
    },
    {
      "cell_type": "markdown",
      "source": [
        "## Post Analysis"
      ],
      "metadata": {
        "id": "ASzvIz8WFtrV"
      }
    },
    {
      "cell_type": "code",
      "source": [
        "from sklearn.metrics import (confusion_matrix, precision_recall_curve, auc,\n",
        "                             roc_curve, recall_score, classification_report, f1_score,\n",
        "                             precision_recall_fscore_support)"
      ],
      "metadata": {
        "id": "AaxdUNrVHCVp"
      },
      "execution_count": 22,
      "outputs": []
    },
    {
      "cell_type": "markdown",
      "source": [
        "### (1) Scatter Plot"
      ],
      "metadata": {
        "id": "41U2tYxbGst1"
      }
    },
    {
      "cell_type": "code",
      "source": [
        "# scatter plot\n",
        "threshold = 0.9\n",
        "groups = error_df.groupby('true_class')\n",
        "fig, ax = plt.subplots(figsize=(15, 10))\n",
        "\n",
        "for name, group in groups:\n",
        "    ax.plot(group.index, group.reconstruction_error, marker='o', ms=3.5, linestyle='',\n",
        "            label= \"Fraud\" if name == 1 else \"Normal\")\n",
        "ax.hlines(threshold, ax.get_xlim()[0], ax.get_xlim()[1], colors=\"r\", zorder=100, label='Threshold')\n",
        "ax.legend()\n",
        "plt.title(\"Reconstruction error for different classes\")\n",
        "plt.ylabel(\"Reconstruction error\")\n",
        "plt.xlabel(\"Data point index\")\n",
        "plt.show();"
      ],
      "metadata": {
        "colab": {
          "base_uri": "https://localhost:8080/",
          "height": 621
        },
        "id": "Jkz1XFEUDUwE",
        "outputId": "14dc27cd-d947-413e-a91f-8582cf2b61ba"
      },
      "execution_count": 23,
      "outputs": [
        {
          "output_type": "display_data",
          "data": {
            "image/png": "[encoded data removed]",
            "text/plain": [
              "<Figure size 1080x720 with 1 Axes>"
            ]
          },
          "metadata": {
            "needs_background": "light"
          }
        }
      ]
    },
    {
      "cell_type": "markdown",
      "source": [
        "### (2) Confusion Matrix"
      ],
      "metadata": {
        "id": "PB7WEcz8Gvlj"
      }
    },
    {
      "cell_type": "code",
      "source": [
        "# confusion matrix\n",
        "threshold = 0.9\n",
        "# And see how well we're dividing the two types of transactions:\n",
        "groups = error_df.groupby('true_class')\n",
        "# predict fraud\n",
        "y_pred = [1 if e > threshold else 0 for e in error_df.reconstruction_error.values]\n",
        "conf_matrix = confusion_matrix(error_df.true_class, y_pred)\n",
        "# plot confusion matrix\n",
        "plt.figure(figsize=(8, 8))\n",
        "sns.heatmap(conf_matrix, xticklabels=LABELS, yticklabels=LABELS, annot=True, fmt=\"d\");\n",
        "plt.title(\"Confusion matrix\")\n",
        "plt.ylabel('True Class')\n",
        "plt.xlabel('Predicted Class')\n",
        "plt.show()"
      ],
      "metadata": {
        "colab": {
          "base_uri": "https://localhost:8080/",
          "height": 513
        },
        "id": "xEgxfBQvDUy_",
        "outputId": "dad078ba-4753-4bbc-8946-6ee03b32495c"
      },
      "execution_count": 24,
      "outputs": [
        {
          "output_type": "display_data",
          "data": {
            "image/png": "[encoded data removed]",
            "text/plain": [
              "<Figure size 576x576 with 2 Axes>"
            ]
          },
          "metadata": {
            "needs_background": "light"
          }
        }
      ]
    },
    {
      "cell_type": "markdown",
      "source": [
        "### (3) ROC Curve"
      ],
      "metadata": {
        "id": "4JJW59VKHI65"
      }
    },
    {
      "cell_type": "code",
      "source": [
        "# ROC\n",
        "fpr, tpr, thresholds = roc_curve(error_df.true_class, error_df.reconstruction_error)\n",
        "roc_auc = auc(fpr, tpr)\n",
        "# plot\n",
        "plt.title('Receiver Operating Characteristic')\n",
        "plt.plot(fpr, tpr, label='AUC = %0.4f'% roc_auc)\n",
        "plt.legend(loc='lower right')\n",
        "plt.plot([0,1],[0,1],'r--')\n",
        "plt.xlim([-0.001, 1])\n",
        "plt.ylim([0, 1.001])\n",
        "plt.ylabel('True Positive Rate')\n",
        "plt.xlabel('False Positive Rate')\n",
        "plt.show();"
      ],
      "metadata": {
        "colab": {
          "base_uri": "https://localhost:8080/",
          "height": 295
        },
        "id": "0WuqIHdNHJFb",
        "outputId": "0c46ba6c-c27d-4c2c-be86-091134e47c23"
      },
      "execution_count": 25,
      "outputs": [
        {
          "output_type": "display_data",
          "data": {
            "image/png": "[encoded data removed]",
            "text/plain": [
              "<Figure size 432x288 with 1 Axes>"
            ]
          },
          "metadata": {
            "needs_background": "light"
          }
        }
      ]
    },
    {
      "cell_type": "code",
      "source": [
        ""
      ],
      "metadata": {
        "id": "ix21AL9LDU1y"
      },
      "execution_count": null,
      "outputs": []
    }
  ]
}