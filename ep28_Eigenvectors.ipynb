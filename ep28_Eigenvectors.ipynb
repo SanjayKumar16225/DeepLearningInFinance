{
  "nbformat": 4,
  "nbformat_minor": 0,
  "metadata": {
    "colab": {
      "name": "ep28_Eigenvectors.ipynb",
      "provenance": [],
      "collapsed_sections": []
    },
    "kernelspec": {
      "name": "python3",
      "display_name": "Python 3"
    },
    "language_info": {
      "name": "python"
    }
  },
  "cells": [
    {
      "cell_type": "markdown",
      "source": [
        "# Episode 28. What Are Eigenvalues and Eigenvectors"
      ],
      "metadata": {
        "id": "73cP11F5S0Zo"
      }
    },
    {
      "cell_type": "markdown",
      "source": [
        "## Import Libraries"
      ],
      "metadata": {
        "id": "dUMuX5LXS_yW"
      }
    },
    {
      "cell_type": "code",
      "source": [
        "import numpy as np\n",
        "from numpy import linalg as LA\n",
        "import matplotlib.pyplot as plt"
      ],
      "metadata": {
        "id": "oe5PrdNuS4pt"
      },
      "execution_count": 9,
      "outputs": []
    },
    {
      "cell_type": "markdown",
      "source": [
        "## Set Matrix A"
      ],
      "metadata": {
        "id": "HisfzGKXUKKp"
      }
    },
    {
      "cell_type": "code",
      "source": [
        "A = np.array([[1,2],[3,-4]])\n",
        "print(A)"
      ],
      "metadata": {
        "colab": {
          "base_uri": "https://localhost:8080/"
        },
        "id": "qdXIEmQLTCm9",
        "outputId": "35d49d97-d0a9-4444-90ee-7e3374162bc7"
      },
      "execution_count": 2,
      "outputs": [
        {
          "output_type": "stream",
          "name": "stdout",
          "text": [
            "[[ 1  2]\n",
            " [ 3 -4]]\n"
          ]
        }
      ]
    },
    {
      "cell_type": "markdown",
      "source": [
        "## Get Eigenvalues and Eigenvectors"
      ],
      "metadata": {
        "id": "17ooco7-VIb5"
      }
    },
    {
      "cell_type": "code",
      "source": [
        "# use numpy to get eigenvalues (w) and eigenvectors (v)\n",
        "w, v = LA.eig(A)\n",
        "print(\"w=\",w)\n",
        "print(\"v=\",v)"
      ],
      "metadata": {
        "colab": {
          "base_uri": "https://localhost:8080/"
        },
        "id": "QoTObbnPTDA9",
        "outputId": "4213fd27-eeb2-4b3c-d544-afa4d5c70f67"
      },
      "execution_count": 3,
      "outputs": [
        {
          "output_type": "stream",
          "name": "stdout",
          "text": [
            "w= [ 2. -5.]\n",
            "v= [[ 0.89442719 -0.31622777]\n",
            " [ 0.4472136   0.9486833 ]]\n"
          ]
        }
      ]
    },
    {
      "cell_type": "code",
      "source": [
        "# sort by largest eigenvalue\n",
        "idx = w.argsort()[::-1]   \n",
        "w = w[idx]\n",
        "v = v[:,idx]\n",
        "print(\"w=\",w)\n",
        "print(\"v=\",v)"
      ],
      "metadata": {
        "colab": {
          "base_uri": "https://localhost:8080/"
        },
        "id": "dqueKkiITDFq",
        "outputId": "ccb10910-3ad6-4408-b76a-1fc14cbc152e"
      },
      "execution_count": 4,
      "outputs": [
        {
          "output_type": "stream",
          "name": "stdout",
          "text": [
            "w= [ 2. -5.]\n",
            "v= [[ 0.89442719 -0.31622777]\n",
            " [ 0.4472136   0.9486833 ]]\n"
          ]
        }
      ]
    },
    {
      "cell_type": "code",
      "source": [
        "# v1 & w1\n",
        "w1 = w[0]\n",
        "v1 = v[:,0]/np.min(np.abs(v[:,0]))\n",
        "print(\"w1=\",w1,\"; v1=\",v1)\n",
        "\n",
        "# v2 & w2\n",
        "w2 = w[1]\n",
        "v2 = v[:,1]/np.min(np.abs(v[:,1]))\n",
        "print(\"w2=\",w2,\"; v2=\",v2)"
      ],
      "metadata": {
        "colab": {
          "base_uri": "https://localhost:8080/"
        },
        "id": "JyHMrZcgWJmJ",
        "outputId": "225e3420-28fb-48ee-ddab-3d303181e090"
      },
      "execution_count": 5,
      "outputs": [
        {
          "output_type": "stream",
          "name": "stdout",
          "text": [
            "w1= 2.0 ; v1= [2. 1.]\n",
            "w2= -5.0 ; v2= [-1.  3.]\n"
          ]
        }
      ]
    },
    {
      "cell_type": "markdown",
      "source": [
        "## Check whether A*v = w*v"
      ],
      "metadata": {
        "id": "pcWOSsH7b0sS"
      }
    },
    {
      "cell_type": "code",
      "source": [
        "# Check A*v1 = lambda1*v1\n",
        "A_v1 = np.matmul(A,v1)\n",
        "w_v1= w1*v1\n",
        "print(\"A*v1=\",A_v1)\n",
        "print(\"w1*v1=\",w_v1)"
      ],
      "metadata": {
        "colab": {
          "base_uri": "https://localhost:8080/"
        },
        "id": "dPNtYl8QTDMM",
        "outputId": "0609b4dc-c17e-43ea-f31a-8699f2aa4ad6"
      },
      "execution_count": 6,
      "outputs": [
        {
          "output_type": "stream",
          "name": "stdout",
          "text": [
            "A*v1= [4. 2.]\n",
            "w1*v1= [4. 2.]\n"
          ]
        }
      ]
    },
    {
      "cell_type": "code",
      "source": [
        "# Check A*v2 = lambda1*v2\n",
        "A_v2 = np.matmul(A,v2)\n",
        "w_v2= w2*v2\n",
        "print(\"A*v2=\",A_v2)\n",
        "print(\"w2*v2=\",w_v2)"
      ],
      "metadata": {
        "colab": {
          "base_uri": "https://localhost:8080/"
        },
        "id": "7ptHLHtwXVSK",
        "outputId": "afc901c7-0ab6-45d2-a4e2-fdab7be2ee4d"
      },
      "execution_count": 7,
      "outputs": [
        {
          "output_type": "stream",
          "name": "stdout",
          "text": [
            "A*v2= [  5. -15.]\n",
            "w2*v2= [  5. -15.]\n"
          ]
        }
      ]
    },
    {
      "cell_type": "markdown",
      "source": [
        "## Geometric Interpretation"
      ],
      "metadata": {
        "id": "yNpMuu8i2MxA"
      }
    },
    {
      "cell_type": "markdown",
      "source": [
        "### Pick an arbitrary vector"
      ],
      "metadata": {
        "id": "XKF5gcIv0i3d"
      }
    },
    {
      "cell_type": "code",
      "source": [
        "# pick arbitrary vector\n",
        "vp = np.array([1,1])\n",
        "# origin vector\n",
        "vo = np.array([[0,0],[0,0]])\n",
        "\n",
        "fig, ax = plt.subplots()\n",
        "q = ax.quiver(vo[0],vo[1],vp[0],vp[1],units='xy',scale=1)\n",
        "plt.title('Vector vp',fontsize=10)\n",
        "ax.set_aspect('equal')\n",
        "plt.xlim(-1,2)\n",
        "plt.ylim(-1,2)\n",
        "plt.grid()\n",
        "plt.show()"
      ],
      "metadata": {
        "colab": {
          "base_uri": "https://localhost:8080/",
          "height": 279
        },
        "id": "3gdL7NhneK6Q",
        "outputId": "c21077b5-90f8-426b-e1e5-6438b7ffa652"
      },
      "execution_count": 10,
      "outputs": [
        {
          "output_type": "display_data",
          "data": {
            "image/png": "[encoded data removed]",
            "text/plain": [
              "<Figure size 432x288 with 1 Axes>"
            ]
          },
          "metadata": {
            "needs_background": "light"
          }
        }
      ]
    },
    {
      "cell_type": "markdown",
      "source": [
        "### Multiplying a matrix to a vector does two things: ***rescale*** & ***rotate*** the vector"
      ],
      "metadata": {
        "id": "_kNzVOHU0ocq"
      }
    },
    {
      "cell_type": "code",
      "source": [
        "# pick arbitrary vector\n",
        "vp = np.array([1,1])\n",
        "# origin vector\n",
        "vo = np.array([[0,0],[0,0]])\n",
        "# v2 & A*v2\n",
        "A_vp = np.matmul(A,vp)\n",
        "v_Av = np.vstack((vp,A_vp))\n",
        "print(\"vp=\",vp)\n",
        "print(\"A*vp=\",A_vp)\n",
        "print(\"v_Av=\",v_Av)\n",
        "\n",
        "fig, ax = plt.subplots()\n",
        "q = ax.quiver(vo[:,0],vo[:,1],v_Av[:,0],v_Av[:,1],units='xy',scale=1,color=['k','r'])\n",
        "plt.title('vp vs. A*vp',fontsize=10)\n",
        "ax.set_aspect('equal')\n",
        "plt.xlim(0,3)\n",
        "plt.ylim(-1,2)\n",
        "plt.grid()\n",
        "plt.show()"
      ],
      "metadata": {
        "colab": {
          "base_uri": "https://localhost:8080/",
          "height": 348
        },
        "id": "8igynyI_2QHm",
        "outputId": "85a28183-604c-46eb-c6f5-045a3d106a8c"
      },
      "execution_count": 11,
      "outputs": [
        {
          "output_type": "stream",
          "name": "stdout",
          "text": [
            "vp= [1 1]\n",
            "A*vp= [ 3 -1]\n",
            "v_Av= [[ 1  1]\n",
            " [ 3 -1]]\n"
          ]
        },
        {
          "output_type": "display_data",
          "data": {
            "image/png": "[encoded data removed]",
            "text/plain": [
              "<Figure size 432x288 with 1 Axes>"
            ]
          },
          "metadata": {
            "needs_background": "light"
          }
        }
      ]
    },
    {
      "cell_type": "markdown",
      "source": [
        "## Compare eigenvector v and A*v"
      ],
      "metadata": {
        "id": "FUh7UtsgWTJf"
      }
    },
    {
      "cell_type": "markdown",
      "source": [
        "### (1) v1 vs. A*v1"
      ],
      "metadata": {
        "id": "B7gNoer4afSg"
      }
    },
    {
      "cell_type": "code",
      "source": [
        "# origin vector\n",
        "vo = np.array([[0,0],[0,0]])\n",
        "# v1 & A*v1\n",
        "A_v1 = np.matmul(A,v1)\n",
        "vv = np.vstack((v1,A_v1))\n",
        "print(\"v1=\",v1)\n",
        "print(\"A*v1=\",A_v1)\n",
        "print(\"vv=\",vv)\n",
        "\n",
        "fig, ax = plt.subplots()\n",
        "q = ax.quiver(vo[:,0],vo[:,1],vv[:,0],vv[:,1],units='xy',scale=1,color=['k','r'])\n",
        "plt.title('v1 vs. A*v1',fontsize=10)\n",
        "ax.set_aspect('equal')\n",
        "plt.xlim(-1,3)\n",
        "plt.ylim(-1,3)\n",
        "plt.grid()\n",
        "plt.show()"
      ],
      "metadata": {
        "colab": {
          "base_uri": "https://localhost:8080/",
          "height": 348
        },
        "id": "5MtRYZHADRT9",
        "outputId": "4589deac-925e-4ff9-d757-b3e9c912d425"
      },
      "execution_count": 12,
      "outputs": [
        {
          "output_type": "stream",
          "name": "stdout",
          "text": [
            "v1= [2. 1.]\n",
            "A*v1= [4. 2.]\n",
            "vv= [[2. 1.]\n",
            " [4. 2.]]\n"
          ]
        },
        {
          "output_type": "display_data",
          "data": {
            "image/png": "[encoded data removed]",
            "text/plain": [
              "<Figure size 432x288 with 1 Axes>"
            ]
          },
          "metadata": {
            "needs_background": "light"
          }
        }
      ]
    },
    {
      "cell_type": "markdown",
      "source": [
        "### (2) v2 vs. A*v2"
      ],
      "metadata": {
        "id": "ln6hinXYalh4"
      }
    },
    {
      "cell_type": "code",
      "source": [
        "# origin vector\n",
        "vo = np.array([[0,0],[0,0]])\n",
        "# v2 & A*v2\n",
        "A_v2 = np.matmul(A,v2)\n",
        "vvv = np.vstack((v2,A_v2))\n",
        "print(\"v2=\",v2)\n",
        "print(\"A*v2=\",A_v2)\n",
        "print(\"vvv=\",vvv)\n",
        "\n",
        "fig, ax = plt.subplots()\n",
        "q = ax.quiver(vo[:,0],vo[:,1],vvv[:,0],vvv[:,1],units='xy',scale=1,color=['k','r'])\n",
        "plt.title('v2 vs. A*v2',fontsize=10)\n",
        "ax.set_aspect('equal')\n",
        "plt.xlim(-10,10)\n",
        "plt.ylim(-15,5)\n",
        "plt.grid()\n",
        "plt.show()"
      ],
      "metadata": {
        "colab": {
          "base_uri": "https://localhost:8080/",
          "height": 348
        },
        "id": "YFe6pCrqW1J-",
        "outputId": "65000f19-6f9d-4dd3-e87d-8e1ce4f6019a"
      },
      "execution_count": 13,
      "outputs": [
        {
          "output_type": "stream",
          "name": "stdout",
          "text": [
            "v2= [-1.  3.]\n",
            "A*v2= [  5. -15.]\n",
            "vvv= [[ -1.   3.]\n",
            " [  5. -15.]]\n"
          ]
        },
        {
          "output_type": "display_data",
          "data": {
            "image/png": "[encoded data removed]",
            "text/plain": [
              "<Figure size 432x288 with 1 Axes>"
            ]
          },
          "metadata": {
            "needs_background": "light"
          }
        }
      ]
    }
  ]
}