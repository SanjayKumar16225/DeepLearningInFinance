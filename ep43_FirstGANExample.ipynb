{
  "nbformat": 4,
  "nbformat_minor": 0,
  "metadata": {
    "colab": {
      "name": "ep43_FirstGANExample.ipynb",
      "provenance": [],
      "collapsed_sections": []
    },
    "kernelspec": {
      "name": "python3",
      "display_name": "Python 3"
    },
    "language_info": {
      "name": "python"
    }
  },
  "cells": [
    {
      "cell_type": "markdown",
      "source": [
        "# Episode 43. The First GAN Example"
      ],
      "metadata": {
        "id": "o7ib5Xe8YxBk"
      }
    },
    {
      "cell_type": "markdown",
      "source": [
        "## Task: Train a Generative Adversarial Network that Outputs [1, 0, 1, 0]"
      ],
      "metadata": {
        "id": "W4Sv6MxaY4kt"
      }
    },
    {
      "cell_type": "markdown",
      "source": [
        "### 1. Real Data"
      ],
      "metadata": {
        "id": "ibAkWuPFc25g"
      }
    },
    {
      "cell_type": "code",
      "source": [
        "import numpy as np\n",
        "import pandas as pd\n",
        "import matplotlib.pyplot as plt"
      ],
      "metadata": {
        "id": "5Xp-vSxkY2VR"
      },
      "execution_count": 1,
      "outputs": []
    },
    {
      "cell_type": "code",
      "source": [
        "# target function is noised version of [1, 0, 1, 0]\n",
        "def generate_real_samples(n=10):\n",
        "  dx = 0.2\n",
        "  x = np.array([1.0-dx, 0.0, 1.0-dx, 0.0])\n",
        "  x = x+dx*np.random.rand(n,4)\n",
        "  # generate class labels: real=1\n",
        "  y = np.ones((n, 1))\n",
        "  return x,y"
      ],
      "metadata": {
        "id": "NUVFy4JaeOah"
      },
      "execution_count": 3,
      "outputs": []
    },
    {
      "cell_type": "code",
      "source": [
        "# generate sample data\n",
        "x,y = generate_real_samples(10)\n",
        "print(x)"
      ],
      "metadata": {
        "colab": {
          "base_uri": "https://localhost:8080/"
        },
        "id": "TtEK988kY2Yz",
        "outputId": "2ab054cd-2ce7-4ed6-bb49-8febf4b6042e"
      },
      "execution_count": 4,
      "outputs": [
        {
          "output_type": "stream",
          "name": "stdout",
          "text": [
            "[[0.91806918 0.02994886 0.88302639 0.08992712]\n",
            " [0.98461778 0.11583668 0.93293262 0.10352837]\n",
            " [0.9737006  0.07051605 0.9957809  0.19212383]\n",
            " [0.80406261 0.0406483  0.99687065 0.1930446 ]\n",
            " [0.92755147 0.12361607 0.84518238 0.10731669]\n",
            " [0.93627664 0.1998905  0.85516953 0.02302624]\n",
            " [0.84838464 0.05862135 0.83591727 0.07427591]\n",
            " [0.92102733 0.12677437 0.86619807 0.12215614]\n",
            " [0.9124072  0.1890898  0.81843344 0.10491957]\n",
            " [0.83170687 0.00439394 0.93937288 0.07668938]]\n"
          ]
        }
      ]
    },
    {
      "cell_type": "code",
      "source": [
        "# show real data\n",
        "plt.imshow(x,cmap='Greys',interpolation='None')"
      ],
      "metadata": {
        "colab": {
          "base_uri": "https://localhost:8080/",
          "height": 282
        },
        "id": "xcYNY2zoY2b0",
        "outputId": "48a9e761-105e-41f2-f95d-a69814498a6e"
      },
      "execution_count": 5,
      "outputs": [
        {
          "output_type": "execute_result",
          "data": {
            "text/plain": [
              "<matplotlib.image.AxesImage at 0x7f89d2ab7050>"
            ]
          },
          "metadata": {},
          "execution_count": 5
        },
        {
          "output_type": "display_data",
          "data": {
            "image/png": "[encoded data removed]",
            "text/plain": [
              "<Figure size 432x288 with 1 Axes>"
            ]
          },
          "metadata": {
            "needs_background": "light"
          }
        }
      ]
    },
    {
      "cell_type": "code",
      "source": [
        "# generate n fake samples with class labels\n",
        "def generate_fake(n):\n",
        "\tx = np.random.rand(n,4)\n",
        "\t# generate class labels: fake=0\n",
        "\ty = np.zeros((n, 1))\n",
        "\treturn x, y"
      ],
      "metadata": {
        "id": "1QlWCZO48cpl"
      },
      "execution_count": 6,
      "outputs": []
    },
    {
      "cell_type": "code",
      "source": [
        "# generate sample data\n",
        "xf,yf = generate_fake(10)\n",
        "print(xf)"
      ],
      "metadata": {
        "colab": {
          "base_uri": "https://localhost:8080/"
        },
        "id": "wHD_jvqI8p76",
        "outputId": "c1a8ea5a-656d-43de-b5a1-688cda6a6eed"
      },
      "execution_count": 7,
      "outputs": [
        {
          "output_type": "stream",
          "name": "stdout",
          "text": [
            "[[0.26223383 0.53294568 0.98987654 0.4116902 ]\n",
            " [0.23948407 0.72659683 0.95494668 0.40559603]\n",
            " [0.06646902 0.44604716 0.93713207 0.38845368]\n",
            " [0.95730455 0.22622794 0.1861652  0.18941046]\n",
            " [0.51116284 0.57327159 0.15529209 0.21386874]\n",
            " [0.7118074  0.13728609 0.28571485 0.42436418]\n",
            " [0.96851225 0.01937434 0.1197674  0.61057492]\n",
            " [0.66080089 0.79115248 0.72272166 0.31323167]\n",
            " [0.6858767  0.33493273 0.28475246 0.83797255]\n",
            " [0.05554323 0.02644502 0.63473896 0.37257676]]\n"
          ]
        }
      ]
    },
    {
      "cell_type": "code",
      "source": [
        "# show fake data\n",
        "plt.imshow(xf,cmap='Greys',interpolation='None')"
      ],
      "metadata": {
        "colab": {
          "base_uri": "https://localhost:8080/",
          "height": 282
        },
        "id": "5WNAiLhZ8lr7",
        "outputId": "a0267bec-5303-40a7-c628-d3f7e4ea993f"
      },
      "execution_count": 8,
      "outputs": [
        {
          "output_type": "execute_result",
          "data": {
            "text/plain": [
              "<matplotlib.image.AxesImage at 0x7f89cc90cb50>"
            ]
          },
          "metadata": {},
          "execution_count": 8
        },
        {
          "output_type": "display_data",
          "data": {
            "image/png": "[encoded data removed]",
            "text/plain": [
              "<Figure size 432x288 with 1 Axes>"
            ]
          },
          "metadata": {
            "needs_background": "light"
          }
        }
      ]
    },
    {
      "cell_type": "markdown",
      "source": [
        "### 2. Define Discriminator"
      ],
      "metadata": {
        "id": "GJfSwfkLnRCy"
      }
    },
    {
      "cell_type": "code",
      "source": [
        "from tensorflow.keras.models import Sequential\n",
        "from tensorflow.keras.layers import Dense"
      ],
      "metadata": {
        "id": "wSuS0FRXY2ep"
      },
      "execution_count": 9,
      "outputs": []
    },
    {
      "cell_type": "code",
      "source": [
        "d_in = 4"
      ],
      "metadata": {
        "id": "S3SZdP2AGS4W"
      },
      "execution_count": 10,
      "outputs": []
    },
    {
      "cell_type": "code",
      "source": [
        "# define the standalone discriminator model\n",
        "def define_discriminator(n_inputs=4):\n",
        "\tmodel = Sequential()\n",
        "\tmodel.add(Dense(25, activation='relu', kernel_initializer='he_uniform', input_dim=n_inputs))\n",
        "\tmodel.add(Dense(1, activation='sigmoid'))\n",
        "\t# compile model\n",
        "\tmodel.compile(loss='binary_crossentropy', optimizer='adam', metrics=['accuracy'])\n",
        "\treturn model"
      ],
      "metadata": {
        "id": "JuDL7JF-Y2he"
      },
      "execution_count": 11,
      "outputs": []
    },
    {
      "cell_type": "code",
      "source": [
        "# define the discriminator model\n",
        "d_model = define_discriminator(d_in)\n",
        "# summarize the model\n",
        "d_model.summary()"
      ],
      "metadata": {
        "colab": {
          "base_uri": "https://localhost:8080/"
        },
        "id": "oqGZQljiY2kY",
        "outputId": "1335b15e-3ccf-443b-ae18-07bfbc43d261"
      },
      "execution_count": 12,
      "outputs": [
        {
          "output_type": "stream",
          "name": "stdout",
          "text": [
            "Model: \"sequential\"\n",
            "_________________________________________________________________\n",
            " Layer (type)                Output Shape              Param #   \n",
            "=================================================================\n",
            " dense (Dense)               (None, 25)                125       \n",
            "                                                                 \n",
            " dense_1 (Dense)             (None, 1)                 26        \n",
            "                                                                 \n",
            "=================================================================\n",
            "Total params: 151\n",
            "Trainable params: 151\n",
            "Non-trainable params: 0\n",
            "_________________________________________________________________\n"
          ]
        }
      ]
    },
    {
      "cell_type": "markdown",
      "source": [
        "### 3. Train Discriminator"
      ],
      "metadata": {
        "id": "3BWeDdge6Zfb"
      }
    },
    {
      "cell_type": "code",
      "source": [
        "# train the discriminator model\n",
        "def train_discriminator(model, n_epochs=300, n_batch=100):\n",
        "\thalf_batch = int(n_batch / 2)\n",
        "\t# run epochs manually\n",
        "\tfor i in range(n_epochs):\n",
        "\t\t# generate real examples\n",
        "\t\tX_real, y_real = generate_real_samples(half_batch)\n",
        "\t\t# update model\n",
        "\t\tmodel.train_on_batch(X_real, y_real)\n",
        "\t\t# generate fake examples\n",
        "\t\tX_fake, y_fake = generate_fake(half_batch)\n",
        "\t\t# update model\n",
        "\t\tmodel.train_on_batch(X_fake, y_fake)\n",
        "\t\t# evaluate the model\n",
        "\t\t_, acc_real = model.evaluate(X_real, y_real, verbose=0)\n",
        "\t\t_, acc_fake = model.evaluate(X_fake, y_fake, verbose=0)\n",
        "\t\tprint(i, acc_real, acc_fake)\n"
      ],
      "metadata": {
        "id": "PwZfU_m6Y2nb"
      },
      "execution_count": 15,
      "outputs": []
    },
    {
      "cell_type": "code",
      "source": [
        "# fit the model\n",
        "train_discriminator(d_model)"
      ],
      "metadata": {
        "id": "PtaeuPFk6d65"
      },
      "execution_count": null,
      "outputs": []
    },
    {
      "cell_type": "code",
      "source": [
        "# test discriminator: real=1\n",
        "x1,y1 = generate_real_samples(5)\n",
        "y1_pred = d_model.predict(x1)\n",
        "print(y1)"
      ],
      "metadata": {
        "id": "U4zqpaBr6d-Y"
      },
      "execution_count": null,
      "outputs": []
    },
    {
      "cell_type": "code",
      "source": [
        "# test discriminator: fake=0\n",
        "x2,y2 = generate_fake(5)\n",
        "y2_pred = d_model.predict(x2)\n",
        "print(y2)"
      ],
      "metadata": {
        "id": "bXCaWQ5Q6eB-"
      },
      "execution_count": null,
      "outputs": []
    },
    {
      "cell_type": "markdown",
      "source": [
        "### 4. Define Generator"
      ],
      "metadata": {
        "id": "47rn7LjdBy9B"
      }
    },
    {
      "cell_type": "code",
      "source": [
        "n_batch = 10\n",
        "latent_dim = 5\n",
        "g_out = 4"
      ],
      "metadata": {
        "id": "tJTewELJEeC7"
      },
      "execution_count": 20,
      "outputs": []
    },
    {
      "cell_type": "code",
      "source": [
        "# define the standalone generator model\n",
        "def define_generator(latent_dim, n_outputs=4):\n",
        "\tmodel = Sequential()\n",
        "\tmodel.add(Dense(15, activation='relu', kernel_initializer='he_uniform', input_dim=latent_dim))\n",
        "\tmodel.add(Dense(n_outputs, activation='linear'))\n",
        "\treturn model"
      ],
      "metadata": {
        "id": "O_2wVnIwY2tp"
      },
      "execution_count": 21,
      "outputs": []
    },
    {
      "cell_type": "code",
      "source": [
        "# define the generator model\n",
        "g_model = define_generator(latent_dim,g_out)\n",
        "# summarize the model\n",
        "g_model.summary()"
      ],
      "metadata": {
        "colab": {
          "base_uri": "https://localhost:8080/"
        },
        "id": "_ySs9LAPY2x_",
        "outputId": "7328f48b-aa34-4577-de79-867f8327ca77"
      },
      "execution_count": 22,
      "outputs": [
        {
          "output_type": "stream",
          "name": "stdout",
          "text": [
            "Model: \"sequential_1\"\n",
            "_________________________________________________________________\n",
            " Layer (type)                Output Shape              Param #   \n",
            "=================================================================\n",
            " dense_2 (Dense)             (None, 15)                90        \n",
            "                                                                 \n",
            " dense_3 (Dense)             (None, 4)                 64        \n",
            "                                                                 \n",
            "=================================================================\n",
            "Total params: 154\n",
            "Trainable params: 154\n",
            "Non-trainable params: 0\n",
            "_________________________________________________________________\n"
          ]
        }
      ]
    },
    {
      "cell_type": "markdown",
      "source": [
        "### 5. Train Generator"
      ],
      "metadata": {
        "id": "TjrJSBlwCThn"
      }
    },
    {
      "cell_type": "code",
      "source": [
        "# generate points in latent space as input for the generator\n",
        "def generate_latent_points(latent_dim, n):\n",
        "\t# generate points in the latent space\n",
        "\tx_input = np.random.randn(latent_dim * n)\n",
        "\t# reshape into a batch of inputs for the network\n",
        "\tx_input = x_input.reshape(n, latent_dim)\n",
        "\treturn x_input"
      ],
      "metadata": {
        "id": "XY85dJf3Y21b"
      },
      "execution_count": 23,
      "outputs": []
    },
    {
      "cell_type": "code",
      "source": [
        "# use the generator to generate n fake examples, with class labels\n",
        "def generate_fake_samples(generator, latent_dim, n):\n",
        "\t# generate points in latent space\n",
        "\tx_input = generate_latent_points(latent_dim, n)\n",
        "\t# predict outputs\n",
        "\tX = generator.predict(x_input)\n",
        "\t# create class labels\n",
        "\ty = np.zeros((n, 1))\n",
        "\treturn X, y"
      ],
      "metadata": {
        "id": "tZyN505TIoZB"
      },
      "execution_count": 24,
      "outputs": []
    },
    {
      "cell_type": "code",
      "source": [
        "# predict outputs\n",
        "x_gen,y_gen = generate_fake_samples(g_model, latent_dim, n_batch)"
      ],
      "metadata": {
        "id": "R166WnnDCV8j"
      },
      "execution_count": 25,
      "outputs": []
    },
    {
      "cell_type": "code",
      "source": [
        "# show generator output\n",
        "plt.imshow(x_gen,cmap='Greys',interpolation='None')"
      ],
      "metadata": {
        "colab": {
          "base_uri": "https://localhost:8080/",
          "height": 282
        },
        "id": "CB_r1qIxCV_W",
        "outputId": "ab53d2e5-b143-4075-dd4c-c34deb2333e4"
      },
      "execution_count": 26,
      "outputs": [
        {
          "output_type": "execute_result",
          "data": {
            "text/plain": [
              "<matplotlib.image.AxesImage at 0x7f895342b390>"
            ]
          },
          "metadata": {},
          "execution_count": 26
        },
        {
          "output_type": "display_data",
          "data": {
            "image/png": "[encoded data removed]",
            "text/plain": [
              "<Figure size 432x288 with 1 Axes>"
            ]
          },
          "metadata": {
            "needs_background": "light"
          }
        }
      ]
    },
    {
      "cell_type": "markdown",
      "source": [
        "### 6. Define GAN"
      ],
      "metadata": {
        "id": "EOYng3pMIVcC"
      }
    },
    {
      "cell_type": "code",
      "source": [
        "# define the combined generator and discriminator model, for updating the generator\n",
        "def define_gan(generator, discriminator):\n",
        "\t# make weights in the discriminator not trainable\n",
        "\tdiscriminator.trainable = False\n",
        "\t# connect them\n",
        "\tmodel = Sequential()\n",
        "\t# add generator\n",
        "\tmodel.add(generator)\n",
        "\t# add the discriminator\n",
        "\tmodel.add(discriminator)\n",
        "\t# compile model\n",
        "\tmodel.compile(loss='binary_crossentropy', optimizer='adam')\n",
        "\treturn model"
      ],
      "metadata": {
        "id": "SCQHJeVEIX2v"
      },
      "execution_count": 27,
      "outputs": []
    },
    {
      "cell_type": "code",
      "source": [
        "# evaluate the discriminator and plot real and fake points\n",
        "def summarize_performance(epoch, generator, discriminator, latent_dim, n=100):\n",
        "\t# prepare real samples\n",
        "\tx_real, y_real = generate_real_samples(n)\n",
        "\t# evaluate discriminator on real examples\n",
        "\t_, acc_real = discriminator.evaluate(x_real, y_real, verbose=0)\n",
        "\t# prepare fake examples\n",
        "\tx_fake, y_fake = generate_fake_samples(generator, latent_dim, n)\n",
        "\t# evaluate discriminator on fake examples\n",
        "\t_, acc_fake = discriminator.evaluate(x_fake, y_fake, verbose=0)\n",
        "\t# summarize discriminator performance\n",
        "\tprint(epoch, acc_real, acc_fake)"
      ],
      "metadata": {
        "id": "2gN8zkPeIX9D"
      },
      "execution_count": 41,
      "outputs": []
    },
    {
      "cell_type": "code",
      "source": [
        "# train the generator and discriminator\n",
        "def train(g_model, d_model, gan_model, latent_dim, n_epochs=1000, n_batch=100, n_eval=100):\n",
        "\t# determine half the size of one batch, for updating the discriminator\n",
        "\thalf_batch = int(n_batch / 2)\n",
        "\t# manually enumerate epochs\n",
        "\tfor i in range(n_epochs):\n",
        "\t\t# prepare real samples\n",
        "\t\tx_real, y_real = generate_real_samples(half_batch)\n",
        "\t\t# prepare fake examples\n",
        "\t\tx_fake, y_fake = generate_fake_samples(g_model, latent_dim, half_batch)\n",
        "\t\t# update discriminator\n",
        "\t\td_model.train_on_batch(x_real, y_real)\n",
        "\t\td_model.train_on_batch(x_fake, y_fake)\n",
        "\t\t# prepare points in latent space as input for the generator\n",
        "\t\tx_gan = generate_latent_points(latent_dim, n_batch)\n",
        "\t\t# create inverted labels for the fake samples\n",
        "\t\ty_gan = np.ones((n_batch, 1))\n",
        "\t\t# update the generator via the discriminator's error\n",
        "\t\tgan_model.train_on_batch(x_gan, y_gan)\n",
        "\t\t# evaluate the model every n_eval epochs\n",
        "\t\tif (i+1) % n_eval == 0:\n",
        "\t\t\tsummarize_performance(i, g_model, d_model, latent_dim)"
      ],
      "metadata": {
        "id": "6FfVTSdfIYAx"
      },
      "execution_count": 44,
      "outputs": []
    },
    {
      "cell_type": "code",
      "source": [
        "# size of the latent space\n",
        "latent_dim = 5\n",
        "# create the discriminator\n",
        "discriminator = define_discriminator()\n",
        "# create the generator\n",
        "generator = define_generator(latent_dim)\n",
        "# create the gan\n",
        "gan_model = define_gan(generator, discriminator)\n",
        "# train model\n",
        "train(generator, discriminator, gan_model, latent_dim)"
      ],
      "metadata": {
        "id": "yPgQ21nYIYEC"
      },
      "execution_count": null,
      "outputs": []
    },
    {
      "cell_type": "code",
      "source": [
        "# test generator\n",
        "x_ginput = generate_latent_points(latent_dim, 10)\n",
        "x_gtest = generator.predict(x_ginput)\n",
        "print(x_gtest)\n",
        "# show generator output\n",
        "plt.imshow(x_gtest,cmap='Greys',interpolation='None')"
      ],
      "metadata": {
        "colab": {
          "base_uri": "https://localhost:8080/",
          "height": 456
        },
        "id": "AMMiHFcXIYGq",
        "outputId": "dc5fbe82-0ea8-4906-ef95-0931e963ff0f"
      },
      "execution_count": 50,
      "outputs": [
        {
          "output_type": "stream",
          "name": "stdout",
          "text": [
            "[[1.1036419  0.05606163 0.9109112  0.22017491]\n",
            " [0.8091551  0.04302312 0.8099662  0.11551551]\n",
            " [1.1104815  0.06684767 1.0398444  0.04906427]\n",
            " [1.0287684  0.12453613 0.9044044  0.12307488]\n",
            " [0.6907859  0.08675451 0.6585132  0.10878652]\n",
            " [0.8985368  0.07713385 0.8906744  0.06370806]\n",
            " [0.8795854  0.06770068 0.89310414 0.08201819]\n",
            " [0.7404354  0.02254511 0.6768963  0.11430764]\n",
            " [0.7001559  0.09468743 0.88342875 0.15675837]\n",
            " [0.9610189  0.04358491 0.98649484 0.08102803]]\n"
          ]
        },
        {
          "output_type": "execute_result",
          "data": {
            "text/plain": [
              "<matplotlib.image.AxesImage at 0x7f894d394e50>"
            ]
          },
          "metadata": {},
          "execution_count": 50
        },
        {
          "output_type": "display_data",
          "data": {
            "image/png": "[encoded data removed]",
            "text/plain": [
              "<Figure size 432x288 with 1 Axes>"
            ]
          },
          "metadata": {
            "needs_background": "light"
          }
        }
      ]
    },
    {
      "cell_type": "markdown",
      "source": [
        "# SUMMARY"
      ],
      "metadata": {
        "id": "as6YPkUKQQBe"
      }
    },
    {
      "cell_type": "markdown",
      "source": [
        "## Step 1. Define Neural Networks"
      ],
      "metadata": {
        "id": "t7eCR5MqQrmb"
      }
    },
    {
      "cell_type": "code",
      "source": [
        "import numpy as np\n",
        "import pandas as pd\n",
        "import matplotlib.pyplot as plt\n",
        "from tensorflow.keras.models import Sequential\n",
        "from tensorflow.keras.layers import Dense"
      ],
      "metadata": {
        "id": "fJ5y0Y6QQThy"
      },
      "execution_count": 1,
      "outputs": []
    },
    {
      "cell_type": "code",
      "source": [
        "# Set Ket Parameters\n",
        "n_epochs=1000\n",
        "n_batch=100\n",
        "n_eval=100\n",
        "latent_dim = 5\n",
        "g_out = 4\n",
        "d_in = 4"
      ],
      "metadata": {
        "id": "f_i-0IJoQwvn"
      },
      "execution_count": 11,
      "outputs": []
    },
    {
      "cell_type": "code",
      "source": [
        "# define the standalone discriminator model\n",
        "def define_discriminator(n_inputs=4):\n",
        "\tmodel = Sequential()\n",
        "\tmodel.add(Dense(25, activation='relu', kernel_initializer='he_uniform', input_dim=n_inputs))\n",
        "\tmodel.add(Dense(1, activation='sigmoid'))\n",
        "\t# compile model\n",
        "\tmodel.compile(loss='binary_crossentropy', optimizer='adam', metrics=['accuracy'])\n",
        "\treturn model"
      ],
      "metadata": {
        "id": "SgWJbIqiQTk7"
      },
      "execution_count": 3,
      "outputs": []
    },
    {
      "cell_type": "code",
      "source": [
        "# define the standalone generator model\n",
        "def define_generator(latent_dim, n_outputs=4):\n",
        "\tmodel = Sequential()\n",
        "\tmodel.add(Dense(15, activation='relu', kernel_initializer='he_uniform', input_dim=latent_dim))\n",
        "\tmodel.add(Dense(n_outputs, activation='linear'))\n",
        "\treturn model"
      ],
      "metadata": {
        "id": "IiBt9AlmQTox"
      },
      "execution_count": 4,
      "outputs": []
    },
    {
      "cell_type": "code",
      "source": [
        "# define the combined generator and discriminator model, for updating the generator\n",
        "def define_gan(generator, discriminator):\n",
        "\t# make weights in the discriminator not trainable\n",
        "\tdiscriminator.trainable = False\n",
        "\t# connect them\n",
        "\tmodel = Sequential()\n",
        "\t# add generator\n",
        "\tmodel.add(generator)\n",
        "\t# add the discriminator\n",
        "\tmodel.add(discriminator)\n",
        "\t# compile model\n",
        "\tmodel.compile(loss='binary_crossentropy', optimizer='adam')\n",
        "\treturn model"
      ],
      "metadata": {
        "id": "bMtmmfMoQTtZ"
      },
      "execution_count": 5,
      "outputs": []
    },
    {
      "cell_type": "markdown",
      "source": [
        "## Step 2. Real & Fake Data"
      ],
      "metadata": {
        "id": "SaCG2OKiRAXm"
      }
    },
    {
      "cell_type": "code",
      "source": [
        "# target function is noised version of [1, 0, 1, 0]\n",
        "def generate_real_samples(n=10):\n",
        "  dx = 0.2\n",
        "  x = np.array([1.0-dx, 0.0, 1.0-dx, 0.0])\n",
        "  x = x+dx*np.random.rand(n,4)\n",
        "  # generate class labels: real=1\n",
        "  y = np.ones((n, 1))\n",
        "  return x,y"
      ],
      "metadata": {
        "id": "n3YOkZ3IQTyH"
      },
      "execution_count": 6,
      "outputs": []
    },
    {
      "cell_type": "code",
      "source": [
        "# generate points in latent space as input for the generator\n",
        "def generate_latent_points(latent_dim, n):\n",
        "\t# generate points in the latent space\n",
        "\tx_input = np.random.randn(latent_dim * n)\n",
        "\t# reshape into a batch of inputs for the network\n",
        "\tx_input = x_input.reshape(n, latent_dim)\n",
        "\treturn x_input"
      ],
      "metadata": {
        "id": "rM51F6zVRDqR"
      },
      "execution_count": 7,
      "outputs": []
    },
    {
      "cell_type": "code",
      "source": [
        "# use the generator to generate n fake examples, with class labels\n",
        "def generate_fake_samples(generator, latent_dim, n):\n",
        "\t# generate points in latent space\n",
        "\tx_input = generate_latent_points(latent_dim, n)\n",
        "\t# predict outputs\n",
        "\tX = generator.predict(x_input)\n",
        "\t# create class labels\n",
        "\ty = np.zeros((n, 1))\n",
        "\treturn X, y"
      ],
      "metadata": {
        "id": "36N1NrSHRDtk"
      },
      "execution_count": 8,
      "outputs": []
    },
    {
      "cell_type": "markdown",
      "source": [
        "## Step 3. Train Network"
      ],
      "metadata": {
        "id": "cKBGpYDnRSGO"
      }
    },
    {
      "cell_type": "code",
      "source": [
        "# evaluate the discriminator and plot real and fake points\n",
        "def summarize_performance(epoch, generator, discriminator, latent_dim, n=100):\n",
        "\t# prepare real samples\n",
        "\tx_real, y_real = generate_real_samples(n)\n",
        "\t# evaluate discriminator on real examples\n",
        "\t_, acc_real = discriminator.evaluate(x_real, y_real, verbose=0)\n",
        "\t# prepare fake examples\n",
        "\tx_fake, y_fake = generate_fake_samples(generator, latent_dim, n)\n",
        "\t# evaluate discriminator on fake examples\n",
        "\t_, acc_fake = discriminator.evaluate(x_fake, y_fake, verbose=0)\n",
        "\t# summarize discriminator performance\n",
        "\tprint(epoch, acc_real, acc_fake)"
      ],
      "metadata": {
        "id": "euLWAT3LRDys"
      },
      "execution_count": 9,
      "outputs": []
    },
    {
      "cell_type": "code",
      "source": [
        "# train the generator and discriminator\n",
        "def train(g_model, d_model, gan_model, latent_dim, n_epochs=1000, n_batch=100, n_eval=100):\n",
        "\t# determine half the size of one batch, for updating the discriminator\n",
        "\thalf_batch = int(n_batch / 2)\n",
        "\t# manually enumerate epochs\n",
        "\tfor i in range(n_epochs):\n",
        "\t\t# prepare real samples\n",
        "\t\tx_real, y_real = generate_real_samples(half_batch)\n",
        "\t\t# prepare fake examples\n",
        "\t\tx_fake, y_fake = generate_fake_samples(g_model, latent_dim, half_batch)\n",
        "\t\t# update discriminator\n",
        "\t\td_model.train_on_batch(x_real, y_real)\n",
        "\t\td_model.train_on_batch(x_fake, y_fake)\n",
        "\t\t# prepare points in latent space as input for the generator\n",
        "\t\tx_gan = generate_latent_points(latent_dim, n_batch)\n",
        "\t\t# create inverted labels for the fake samples\n",
        "\t\ty_gan = np.ones((n_batch, 1))\n",
        "\t\t# update the generator via the discriminator's error\n",
        "\t\tgan_model.train_on_batch(x_gan, y_gan)\n",
        "\t\t# evaluate the model every n_eval epochs\n",
        "\t\tif (i+1) % n_eval == 0:\n",
        "\t\t\tsummarize_performance(i, g_model, d_model, latent_dim)"
      ],
      "metadata": {
        "id": "P6P_G7CHRUyK"
      },
      "execution_count": 13,
      "outputs": []
    },
    {
      "cell_type": "code",
      "source": [
        "# create the discriminator\n",
        "discriminator = define_discriminator(d_in)\n",
        "# create the generator\n",
        "generator = define_generator(latent_dim,g_out)\n",
        "# create the gan\n",
        "gan_model = define_gan(generator, discriminator)\n",
        "# train model\n",
        "train(generator, discriminator, gan_model, latent_dim, n_epochs, n_batch, n_eval)"
      ],
      "metadata": {
        "colab": {
          "base_uri": "https://localhost:8080/"
        },
        "id": "83Xydok9RfFH",
        "outputId": "5b9b8f8e-7ee3-4fba-882f-d1ee78104997"
      },
      "execution_count": 14,
      "outputs": [
        {
          "output_type": "stream",
          "name": "stdout",
          "text": [
            "99 1.0 0.6700000166893005\n",
            "199 1.0 0.6499999761581421\n",
            "299 0.05000000074505806 1.0\n",
            "399 0.1599999964237213 0.9800000190734863\n",
            "499 0.6899999976158142 0.6600000262260437\n",
            "599 0.8299999833106995 0.5600000023841858\n",
            "699 0.7099999785423279 0.4300000071525574\n",
            "799 0.5299999713897705 0.550000011920929\n",
            "899 0.36000001430511475 0.47999998927116394\n",
            "999 0.33000001311302185 0.6299999952316284\n"
          ]
        }
      ]
    },
    {
      "cell_type": "code",
      "source": [
        "# test generator\n",
        "x_ginput = generate_latent_points(latent_dim, 10)\n",
        "x_gtest = generator.predict(x_ginput)\n",
        "print(x_gtest)\n",
        "# show generator output\n",
        "plt.imshow(x_gtest,cmap='Greys',interpolation='None')"
      ],
      "metadata": {
        "colab": {
          "base_uri": "https://localhost:8080/",
          "height": 456
        },
        "id": "W4UD2ujHTB8H",
        "outputId": "149e36eb-5277-45c1-a14e-107ec32bfff8"
      },
      "execution_count": 15,
      "outputs": [
        {
          "output_type": "stream",
          "name": "stdout",
          "text": [
            "[[0.8230494  0.10135699 0.8123342  0.08066786]\n",
            " [0.7696618  0.09331491 0.7860017  0.08498926]\n",
            " [1.0226302  0.14183065 1.0589412  0.16029292]\n",
            " [1.3833047  0.20243691 1.2998801  0.18765223]\n",
            " [0.88039225 0.1475288  0.8493495  0.15431595]\n",
            " [0.8778555  0.07658694 0.789683   0.05481561]\n",
            " [1.3500026  0.18567769 1.2112831  0.18848343]\n",
            " [1.1403332  0.12803747 1.0795754  0.11907785]\n",
            " [0.7909275  0.11064049 0.8182672  0.09281893]\n",
            " [0.978162   0.09241084 1.0214217  0.13777022]]\n"
          ]
        },
        {
          "output_type": "execute_result",
          "data": {
            "text/plain": [
              "<matplotlib.image.AxesImage at 0x7f0ce52c1f10>"
            ]
          },
          "metadata": {},
          "execution_count": 15
        },
        {
          "output_type": "display_data",
          "data": {
            "image/png": "[encoded data removed]",
            "text/plain": [
              "<Figure size 432x288 with 1 Axes>"
            ]
          },
          "metadata": {
            "needs_background": "light"
          }
        }
      ]
    }
  ]
}