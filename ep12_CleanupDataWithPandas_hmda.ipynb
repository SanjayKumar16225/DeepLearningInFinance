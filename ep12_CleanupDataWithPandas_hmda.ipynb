{
  "nbformat": 4,
  "nbformat_minor": 0,
  "metadata": {
    "colab": {
      "name": "ep12_CleanupDataWithPandas_hmda.ipynb",
      "provenance": [],
      "collapsed_sections": []
    },
    "kernelspec": {
      "name": "python3",
      "display_name": "Python 3"
    },
    "language_info": {
      "name": "python"
    }
  },
  "cells": [
    {
      "cell_type": "code",
      "source": [
        ""
      ],
      "metadata": {
        "id": "u2gLsiQ7NNfH"
      },
      "execution_count": null,
      "outputs": []
    },
    {
      "cell_type": "markdown",
      "source": [
        "# Episode 12. Cleanup Data With Pandas"
      ],
      "metadata": {
        "id": "IyL5HHCHkTbs"
      }
    },
    {
      "cell_type": "markdown",
      "source": [
        "## Part 1. Read Data"
      ],
      "metadata": {
        "id": "SoFuqhId1eoy"
      }
    },
    {
      "cell_type": "code",
      "source": [
        "import pandas as pd\n",
        "import numpy as np \n",
        "import matplotlib.pyplot as plt\n",
        "import seaborn as sns"
      ],
      "metadata": {
        "id": "1sFa4M2LkjsM"
      },
      "execution_count": null,
      "outputs": []
    },
    {
      "cell_type": "code",
      "source": [
        "# import Data\n",
        "# Original Data Source - Home mortgage Disclosure Act Data (Delaware, 2017)\n",
        "# https://www.consumerfinance.gov/data-research/hmda/historic-data/\n",
        "\n",
        "from google.colab import files\n",
        "uploaded = files.upload()"
      ],
      "metadata": {
        "colab": {
          "resources": {
            "http://localhost:8080/nbextensions/google.colab/files.js": {
              "data": "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",
              "ok": true,
              "headers": [
                [
                  "content-type",
                  "application/javascript"
                ]
              ],
              "status": 200,
              "status_text": ""
            }
          },
          "base_uri": "https://localhost:8080/",
          "height": 73
        },
        "id": "1WFZB3TwkGIz",
        "outputId": "e5074008-2b86-4beb-c264-4d82115d0019"
      },
      "execution_count": null,
      "outputs": [
        {
          "output_type": "display_data",
          "data": {
            "text/html": [
              "\n",
              "     <input type=\"file\" id=\"files-999aa18e-3fc1-4af6-ae87-a0977e8396b3\" name=\"files[]\" multiple disabled\n",
              "        style=\"border:none\" />\n",
              "     <output id=\"result-999aa18e-3fc1-4af6-ae87-a0977e8396b3\">\n",
              "      Upload widget is only available when the cell has been executed in the\n",
              "      current browser session. Please rerun this cell to enable.\n",
              "      </output>\n",
              "      <script src=\"/nbextensions/google.colab/files.js\"></script> "
            ],
            "text/plain": [
              "<IPython.core.display.HTML object>"
            ]
          },
          "metadata": {}
        },
        {
          "output_type": "stream",
          "name": "stdout",
          "text": [
            "Saving hmda_2017_de_all-records_labels.csv to hmda_2017_de_all-records_labels.csv\n"
          ]
        }
      ]
    },
    {
      "cell_type": "code",
      "source": [
        "# Store data in DataFrame\n",
        "df = pd.read_csv(\"hmda_2017_de_all-records_labels.csv\")\n"
      ],
      "metadata": {
        "id": "29bOpjs3kZ9l",
        "colab": {
          "base_uri": "https://localhost:8080/"
        },
        "outputId": "108a100b-7587-4002-ea1c-9f4c6ce7bc34"
      },
      "execution_count": null,
      "outputs": [
        {
          "output_type": "stream",
          "name": "stderr",
          "text": [
            "/usr/local/lib/python3.7/dist-packages/IPython/core/interactiveshell.py:2718: DtypeWarning: Columns (34,36,38,44,46,48) have mixed types.Specify dtype option on import or set low_memory=False.\n",
            "  interactivity=interactivity, compiler=compiler, result=result)\n"
          ]
        }
      ]
    },
    {
      "cell_type": "markdown",
      "source": [
        "## Part 2. Explore Data"
      ],
      "metadata": {
        "id": "eCkTJBgUFobR"
      }
    },
    {
      "cell_type": "code",
      "source": [
        "# shape of data\n",
        "df.shape"
      ],
      "metadata": {
        "colab": {
          "base_uri": "https://localhost:8080/"
        },
        "id": "naZXaguhlZPM",
        "outputId": "39738f7d-378e-469f-f1c3-005c8a419ecb"
      },
      "execution_count": null,
      "outputs": [
        {
          "output_type": "execute_result",
          "data": {
            "text/plain": [
              "(49695, 78)"
            ]
          },
          "metadata": {},
          "execution_count": 4
        }
      ]
    },
    {
      "cell_type": "code",
      "source": [
        "# column names\n",
        "df.keys()"
      ],
      "metadata": {
        "colab": {
          "base_uri": "https://localhost:8080/"
        },
        "id": "bKZMVFM5lZtN",
        "outputId": "382074e7-a59a-4c6f-a7d1-8233530a40c7"
      },
      "execution_count": null,
      "outputs": [
        {
          "output_type": "execute_result",
          "data": {
            "text/plain": [
              "Index(['as_of_year', 'respondent_id', 'agency_name', 'agency_abbr',\n",
              "       'agency_code', 'loan_type_name', 'loan_type', 'property_type_name',\n",
              "       'property_type', 'loan_purpose_name', 'loan_purpose',\n",
              "       'owner_occupancy_name', 'owner_occupancy', 'loan_amount_000s',\n",
              "       'preapproval_name', 'preapproval', 'action_taken_name', 'action_taken',\n",
              "       'msamd_name', 'msamd', 'state_name', 'state_abbr', 'state_code',\n",
              "       'county_name', 'county_code', 'census_tract_number',\n",
              "       'applicant_ethnicity_name', 'applicant_ethnicity',\n",
              "       'co_applicant_ethnicity_name', 'co_applicant_ethnicity',\n",
              "       'applicant_race_name_1', 'applicant_race_1', 'applicant_race_name_2',\n",
              "       'applicant_race_2', 'applicant_race_name_3', 'applicant_race_3',\n",
              "       'applicant_race_name_4', 'applicant_race_4', 'applicant_race_name_5',\n",
              "       'applicant_race_5', 'co_applicant_race_name_1', 'co_applicant_race_1',\n",
              "       'co_applicant_race_name_2', 'co_applicant_race_2',\n",
              "       'co_applicant_race_name_3', 'co_applicant_race_3',\n",
              "       'co_applicant_race_name_4', 'co_applicant_race_4',\n",
              "       'co_applicant_race_name_5', 'co_applicant_race_5', 'applicant_sex_name',\n",
              "       'applicant_sex', 'co_applicant_sex_name', 'co_applicant_sex',\n",
              "       'applicant_income_000s', 'purchaser_type_name', 'purchaser_type',\n",
              "       'denial_reason_name_1', 'denial_reason_1', 'denial_reason_name_2',\n",
              "       'denial_reason_2', 'denial_reason_name_3', 'denial_reason_3',\n",
              "       'rate_spread', 'hoepa_status_name', 'hoepa_status', 'lien_status_name',\n",
              "       'lien_status', 'edit_status_name', 'edit_status', 'sequence_number',\n",
              "       'population', 'minority_population', 'hud_median_family_income',\n",
              "       'tract_to_msamd_income', 'number_of_owner_occupied_units',\n",
              "       'number_of_1_to_4_family_units', 'application_date_indicator'],\n",
              "      dtype='object')"
            ]
          },
          "metadata": {},
          "execution_count": 5
        }
      ]
    },
    {
      "cell_type": "code",
      "source": [
        "df.head(5)"
      ],
      "metadata": {
        "colab": {
          "base_uri": "https://localhost:8080/",
          "height": 531
        },
        "id": "gAUkKRNI9nwE",
        "outputId": "abcec444-7725-496f-9eb2-1918dd357e9c"
      },
      "execution_count": null,
      "outputs": [
        {
          "output_type": "execute_result",
          "data": {
            "text/html": [
              "\n",
              "  <div id=\"df-5f6a52f0-1e27-4cb3-904a-9cc89d6935cb\">\n",
              "    <div class=\"colab-df-container\">\n",
              "      <div>\n",
              "<style scoped>\n",
              "    .dataframe tbody tr th:only-of-type {\n",
              "        vertical-align: middle;\n",
              "    }\n",
              "\n",
              "    .dataframe tbody tr th {\n",
              "        vertical-align: top;\n",
              "    }\n",
              "\n",
              "    .dataframe thead th {\n",
              "        text-align: right;\n",
              "    }\n",
              "</style>\n",
              "<table border=\"1\" class=\"dataframe\">\n",
              "  <thead>\n",
              "    <tr style=\"text-align: right;\">\n",
              "      <th></th>\n",
              "      <th>as_of_year</th>\n",
              "      <th>respondent_id</th>\n",
              "      <th>agency_name</th>\n",
              "      <th>agency_abbr</th>\n",
              "      <th>agency_code</th>\n",
              "      <th>loan_type_name</th>\n",
              "      <th>loan_type</th>\n",
              "      <th>property_type_name</th>\n",
              "      <th>property_type</th>\n",
              "      <th>loan_purpose_name</th>\n",
              "      <th>loan_purpose</th>\n",
              "      <th>owner_occupancy_name</th>\n",
              "      <th>owner_occupancy</th>\n",
              "      <th>loan_amount_000s</th>\n",
              "      <th>preapproval_name</th>\n",
              "      <th>preapproval</th>\n",
              "      <th>action_taken_name</th>\n",
              "      <th>action_taken</th>\n",
              "      <th>msamd_name</th>\n",
              "      <th>msamd</th>\n",
              "      <th>state_name</th>\n",
              "      <th>state_abbr</th>\n",
              "      <th>state_code</th>\n",
              "      <th>county_name</th>\n",
              "      <th>county_code</th>\n",
              "      <th>census_tract_number</th>\n",
              "      <th>applicant_ethnicity_name</th>\n",
              "      <th>applicant_ethnicity</th>\n",
              "      <th>co_applicant_ethnicity_name</th>\n",
              "      <th>co_applicant_ethnicity</th>\n",
              "      <th>applicant_race_name_1</th>\n",
              "      <th>applicant_race_1</th>\n",
              "      <th>applicant_race_name_2</th>\n",
              "      <th>applicant_race_2</th>\n",
              "      <th>applicant_race_name_3</th>\n",
              "      <th>applicant_race_3</th>\n",
              "      <th>applicant_race_name_4</th>\n",
              "      <th>applicant_race_4</th>\n",
              "      <th>applicant_race_name_5</th>\n",
              "      <th>applicant_race_5</th>\n",
              "      <th>co_applicant_race_name_1</th>\n",
              "      <th>co_applicant_race_1</th>\n",
              "      <th>co_applicant_race_name_2</th>\n",
              "      <th>co_applicant_race_2</th>\n",
              "      <th>co_applicant_race_name_3</th>\n",
              "      <th>co_applicant_race_3</th>\n",
              "      <th>co_applicant_race_name_4</th>\n",
              "      <th>co_applicant_race_4</th>\n",
              "      <th>co_applicant_race_name_5</th>\n",
              "      <th>co_applicant_race_5</th>\n",
              "      <th>applicant_sex_name</th>\n",
              "      <th>applicant_sex</th>\n",
              "      <th>co_applicant_sex_name</th>\n",
              "      <th>co_applicant_sex</th>\n",
              "      <th>applicant_income_000s</th>\n",
              "      <th>purchaser_type_name</th>\n",
              "      <th>purchaser_type</th>\n",
              "      <th>denial_reason_name_1</th>\n",
              "      <th>denial_reason_1</th>\n",
              "      <th>denial_reason_name_2</th>\n",
              "      <th>denial_reason_2</th>\n",
              "      <th>denial_reason_name_3</th>\n",
              "      <th>denial_reason_3</th>\n",
              "      <th>rate_spread</th>\n",
              "      <th>hoepa_status_name</th>\n",
              "      <th>hoepa_status</th>\n",
              "      <th>lien_status_name</th>\n",
              "      <th>lien_status</th>\n",
              "      <th>edit_status_name</th>\n",
              "      <th>edit_status</th>\n",
              "      <th>sequence_number</th>\n",
              "      <th>population</th>\n",
              "      <th>minority_population</th>\n",
              "      <th>hud_median_family_income</th>\n",
              "      <th>tract_to_msamd_income</th>\n",
              "      <th>number_of_owner_occupied_units</th>\n",
              "      <th>number_of_1_to_4_family_units</th>\n",
              "      <th>application_date_indicator</th>\n",
              "    </tr>\n",
              "  </thead>\n",
              "  <tbody>\n",
              "    <tr>\n",
              "      <th>0</th>\n",
              "      <td>2017</td>\n",
              "      <td>75-2921540</td>\n",
              "      <td>Department of Housing and Urban Development</td>\n",
              "      <td>HUD</td>\n",
              "      <td>7</td>\n",
              "      <td>Conventional</td>\n",
              "      <td>1</td>\n",
              "      <td>One-to-four family dwelling (other than manufa...</td>\n",
              "      <td>1</td>\n",
              "      <td>Refinancing</td>\n",
              "      <td>3</td>\n",
              "      <td>Owner-occupied as a principal dwelling</td>\n",
              "      <td>1</td>\n",
              "      <td>331</td>\n",
              "      <td>Not applicable</td>\n",
              "      <td>3</td>\n",
              "      <td>Application withdrawn by applicant</td>\n",
              "      <td>4</td>\n",
              "      <td>Salisbury - MD, DE</td>\n",
              "      <td>41540.0</td>\n",
              "      <td>Delaware</td>\n",
              "      <td>DE</td>\n",
              "      <td>10</td>\n",
              "      <td>Sussex County</td>\n",
              "      <td>5.0</td>\n",
              "      <td>511.01</td>\n",
              "      <td>Not Hispanic or Latino</td>\n",
              "      <td>2</td>\n",
              "      <td>No co-applicant</td>\n",
              "      <td>5</td>\n",
              "      <td>White</td>\n",
              "      <td>5</td>\n",
              "      <td>NaN</td>\n",
              "      <td>NaN</td>\n",
              "      <td>NaN</td>\n",
              "      <td>NaN</td>\n",
              "      <td>NaN</td>\n",
              "      <td>NaN</td>\n",
              "      <td>NaN</td>\n",
              "      <td>NaN</td>\n",
              "      <td>No co-applicant</td>\n",
              "      <td>8</td>\n",
              "      <td>NaN</td>\n",
              "      <td>NaN</td>\n",
              "      <td>NaN</td>\n",
              "      <td>NaN</td>\n",
              "      <td>NaN</td>\n",
              "      <td>NaN</td>\n",
              "      <td>NaN</td>\n",
              "      <td>NaN</td>\n",
              "      <td>Male</td>\n",
              "      <td>1</td>\n",
              "      <td>No co-applicant</td>\n",
              "      <td>5</td>\n",
              "      <td>77.0</td>\n",
              "      <td>Loan was not originated or was not sold in cal...</td>\n",
              "      <td>0</td>\n",
              "      <td>NaN</td>\n",
              "      <td>NaN</td>\n",
              "      <td>NaN</td>\n",
              "      <td>NaN</td>\n",
              "      <td>NaN</td>\n",
              "      <td>NaN</td>\n",
              "      <td>NaN</td>\n",
              "      <td>Not a HOEPA loan</td>\n",
              "      <td>2</td>\n",
              "      <td>Secured by a first lien</td>\n",
              "      <td>1</td>\n",
              "      <td>NaN</td>\n",
              "      <td>NaN</td>\n",
              "      <td>NaN</td>\n",
              "      <td>666.0</td>\n",
              "      <td>0.000000</td>\n",
              "      <td>65500.0</td>\n",
              "      <td>262.649994</td>\n",
              "      <td>298.0</td>\n",
              "      <td>1372.0</td>\n",
              "      <td>NaN</td>\n",
              "    </tr>\n",
              "    <tr>\n",
              "      <th>1</th>\n",
              "      <td>2017</td>\n",
              "      <td>7197000003</td>\n",
              "      <td>Department of Housing and Urban Development</td>\n",
              "      <td>HUD</td>\n",
              "      <td>7</td>\n",
              "      <td>FHA-insured</td>\n",
              "      <td>2</td>\n",
              "      <td>One-to-four family dwelling (other than manufa...</td>\n",
              "      <td>1</td>\n",
              "      <td>Home purchase</td>\n",
              "      <td>1</td>\n",
              "      <td>Owner-occupied as a principal dwelling</td>\n",
              "      <td>1</td>\n",
              "      <td>94</td>\n",
              "      <td>Preapproval was not requested</td>\n",
              "      <td>2</td>\n",
              "      <td>Application denied by financial institution</td>\n",
              "      <td>3</td>\n",
              "      <td>Salisbury - MD, DE</td>\n",
              "      <td>41540.0</td>\n",
              "      <td>Delaware</td>\n",
              "      <td>DE</td>\n",
              "      <td>10</td>\n",
              "      <td>Sussex County</td>\n",
              "      <td>5.0</td>\n",
              "      <td>519.00</td>\n",
              "      <td>Not Hispanic or Latino</td>\n",
              "      <td>2</td>\n",
              "      <td>No co-applicant</td>\n",
              "      <td>5</td>\n",
              "      <td>White</td>\n",
              "      <td>5</td>\n",
              "      <td>NaN</td>\n",
              "      <td>NaN</td>\n",
              "      <td>NaN</td>\n",
              "      <td>NaN</td>\n",
              "      <td>NaN</td>\n",
              "      <td>NaN</td>\n",
              "      <td>NaN</td>\n",
              "      <td>NaN</td>\n",
              "      <td>No co-applicant</td>\n",
              "      <td>8</td>\n",
              "      <td>NaN</td>\n",
              "      <td>NaN</td>\n",
              "      <td>NaN</td>\n",
              "      <td>NaN</td>\n",
              "      <td>NaN</td>\n",
              "      <td>NaN</td>\n",
              "      <td>NaN</td>\n",
              "      <td>NaN</td>\n",
              "      <td>Female</td>\n",
              "      <td>2</td>\n",
              "      <td>No co-applicant</td>\n",
              "      <td>5</td>\n",
              "      <td>19.0</td>\n",
              "      <td>Loan was not originated or was not sold in cal...</td>\n",
              "      <td>0</td>\n",
              "      <td>Debt-to-income ratio</td>\n",
              "      <td>1.0</td>\n",
              "      <td>NaN</td>\n",
              "      <td>NaN</td>\n",
              "      <td>NaN</td>\n",
              "      <td>NaN</td>\n",
              "      <td>NaN</td>\n",
              "      <td>Not a HOEPA loan</td>\n",
              "      <td>2</td>\n",
              "      <td>Secured by a first lien</td>\n",
              "      <td>1</td>\n",
              "      <td>NaN</td>\n",
              "      <td>NaN</td>\n",
              "      <td>NaN</td>\n",
              "      <td>4483.0</td>\n",
              "      <td>20.320000</td>\n",
              "      <td>65500.0</td>\n",
              "      <td>96.750000</td>\n",
              "      <td>1112.0</td>\n",
              "      <td>1671.0</td>\n",
              "      <td>NaN</td>\n",
              "    </tr>\n",
              "    <tr>\n",
              "      <th>2</th>\n",
              "      <td>2017</td>\n",
              "      <td>7197000003</td>\n",
              "      <td>Department of Housing and Urban Development</td>\n",
              "      <td>HUD</td>\n",
              "      <td>7</td>\n",
              "      <td>Conventional</td>\n",
              "      <td>1</td>\n",
              "      <td>One-to-four family dwelling (other than manufa...</td>\n",
              "      <td>1</td>\n",
              "      <td>Refinancing</td>\n",
              "      <td>3</td>\n",
              "      <td>Owner-occupied as a principal dwelling</td>\n",
              "      <td>1</td>\n",
              "      <td>216</td>\n",
              "      <td>Not applicable</td>\n",
              "      <td>3</td>\n",
              "      <td>Loan originated</td>\n",
              "      <td>1</td>\n",
              "      <td>Dover - DE</td>\n",
              "      <td>20100.0</td>\n",
              "      <td>Delaware</td>\n",
              "      <td>DE</td>\n",
              "      <td>10</td>\n",
              "      <td>Kent County</td>\n",
              "      <td>1.0</td>\n",
              "      <td>422.01</td>\n",
              "      <td>Not Hispanic or Latino</td>\n",
              "      <td>2</td>\n",
              "      <td>No co-applicant</td>\n",
              "      <td>5</td>\n",
              "      <td>White</td>\n",
              "      <td>5</td>\n",
              "      <td>NaN</td>\n",
              "      <td>NaN</td>\n",
              "      <td>NaN</td>\n",
              "      <td>NaN</td>\n",
              "      <td>NaN</td>\n",
              "      <td>NaN</td>\n",
              "      <td>NaN</td>\n",
              "      <td>NaN</td>\n",
              "      <td>No co-applicant</td>\n",
              "      <td>8</td>\n",
              "      <td>NaN</td>\n",
              "      <td>NaN</td>\n",
              "      <td>NaN</td>\n",
              "      <td>NaN</td>\n",
              "      <td>NaN</td>\n",
              "      <td>NaN</td>\n",
              "      <td>NaN</td>\n",
              "      <td>NaN</td>\n",
              "      <td>Female</td>\n",
              "      <td>2</td>\n",
              "      <td>No co-applicant</td>\n",
              "      <td>5</td>\n",
              "      <td>70.0</td>\n",
              "      <td>Fannie Mae (FNMA)</td>\n",
              "      <td>1</td>\n",
              "      <td>NaN</td>\n",
              "      <td>NaN</td>\n",
              "      <td>NaN</td>\n",
              "      <td>NaN</td>\n",
              "      <td>NaN</td>\n",
              "      <td>NaN</td>\n",
              "      <td>NaN</td>\n",
              "      <td>Not a HOEPA loan</td>\n",
              "      <td>2</td>\n",
              "      <td>Secured by a first lien</td>\n",
              "      <td>1</td>\n",
              "      <td>NaN</td>\n",
              "      <td>NaN</td>\n",
              "      <td>NaN</td>\n",
              "      <td>10556.0</td>\n",
              "      <td>39.950001</td>\n",
              "      <td>65000.0</td>\n",
              "      <td>111.169998</td>\n",
              "      <td>2373.0</td>\n",
              "      <td>3883.0</td>\n",
              "      <td>NaN</td>\n",
              "    </tr>\n",
              "    <tr>\n",
              "      <th>3</th>\n",
              "      <td>2017</td>\n",
              "      <td>54-1094297</td>\n",
              "      <td>Department of Housing and Urban Development</td>\n",
              "      <td>HUD</td>\n",
              "      <td>7</td>\n",
              "      <td>Conventional</td>\n",
              "      <td>1</td>\n",
              "      <td>One-to-four family dwelling (other than manufa...</td>\n",
              "      <td>1</td>\n",
              "      <td>Home purchase</td>\n",
              "      <td>1</td>\n",
              "      <td>Not owner-occupied as a principal dwelling</td>\n",
              "      <td>2</td>\n",
              "      <td>137</td>\n",
              "      <td>Not applicable</td>\n",
              "      <td>3</td>\n",
              "      <td>Loan originated</td>\n",
              "      <td>1</td>\n",
              "      <td>NaN</td>\n",
              "      <td>NaN</td>\n",
              "      <td>Delaware</td>\n",
              "      <td>DE</td>\n",
              "      <td>10</td>\n",
              "      <td>NaN</td>\n",
              "      <td>NaN</td>\n",
              "      <td>NaN</td>\n",
              "      <td>Not Hispanic or Latino</td>\n",
              "      <td>2</td>\n",
              "      <td>Not Hispanic or Latino</td>\n",
              "      <td>2</td>\n",
              "      <td>Information not provided by applicant in mail,...</td>\n",
              "      <td>6</td>\n",
              "      <td>NaN</td>\n",
              "      <td>NaN</td>\n",
              "      <td>NaN</td>\n",
              "      <td>NaN</td>\n",
              "      <td>NaN</td>\n",
              "      <td>NaN</td>\n",
              "      <td>NaN</td>\n",
              "      <td>NaN</td>\n",
              "      <td>Information not provided by applicant in mail,...</td>\n",
              "      <td>6</td>\n",
              "      <td>NaN</td>\n",
              "      <td>NaN</td>\n",
              "      <td>NaN</td>\n",
              "      <td>NaN</td>\n",
              "      <td>NaN</td>\n",
              "      <td>NaN</td>\n",
              "      <td>NaN</td>\n",
              "      <td>NaN</td>\n",
              "      <td>Male</td>\n",
              "      <td>1</td>\n",
              "      <td>Female</td>\n",
              "      <td>2</td>\n",
              "      <td>276.0</td>\n",
              "      <td>Commercial bank, savings bank or savings assoc...</td>\n",
              "      <td>6</td>\n",
              "      <td>NaN</td>\n",
              "      <td>NaN</td>\n",
              "      <td>NaN</td>\n",
              "      <td>NaN</td>\n",
              "      <td>NaN</td>\n",
              "      <td>NaN</td>\n",
              "      <td>NaN</td>\n",
              "      <td>Not a HOEPA loan</td>\n",
              "      <td>2</td>\n",
              "      <td>Secured by a first lien</td>\n",
              "      <td>1</td>\n",
              "      <td>NaN</td>\n",
              "      <td>NaN</td>\n",
              "      <td>NaN</td>\n",
              "      <td>NaN</td>\n",
              "      <td>NaN</td>\n",
              "      <td>NaN</td>\n",
              "      <td>NaN</td>\n",
              "      <td>NaN</td>\n",
              "      <td>NaN</td>\n",
              "      <td>NaN</td>\n",
              "    </tr>\n",
              "    <tr>\n",
              "      <th>4</th>\n",
              "      <td>2017</td>\n",
              "      <td>26-4599244</td>\n",
              "      <td>Department of Housing and Urban Development</td>\n",
              "      <td>HUD</td>\n",
              "      <td>7</td>\n",
              "      <td>VA-guaranteed</td>\n",
              "      <td>3</td>\n",
              "      <td>One-to-four family dwelling (other than manufa...</td>\n",
              "      <td>1</td>\n",
              "      <td>Refinancing</td>\n",
              "      <td>3</td>\n",
              "      <td>Owner-occupied as a principal dwelling</td>\n",
              "      <td>1</td>\n",
              "      <td>161</td>\n",
              "      <td>Not applicable</td>\n",
              "      <td>3</td>\n",
              "      <td>Application approved but not accepted</td>\n",
              "      <td>2</td>\n",
              "      <td>Wilmington - DE, MD, NJ</td>\n",
              "      <td>48864.0</td>\n",
              "      <td>Delaware</td>\n",
              "      <td>DE</td>\n",
              "      <td>10</td>\n",
              "      <td>New Castle County</td>\n",
              "      <td>3.0</td>\n",
              "      <td>166.08</td>\n",
              "      <td>Information not provided by applicant in mail,...</td>\n",
              "      <td>3</td>\n",
              "      <td>No co-applicant</td>\n",
              "      <td>5</td>\n",
              "      <td>Information not provided by applicant in mail,...</td>\n",
              "      <td>6</td>\n",
              "      <td>NaN</td>\n",
              "      <td>NaN</td>\n",
              "      <td>NaN</td>\n",
              "      <td>NaN</td>\n",
              "      <td>NaN</td>\n",
              "      <td>NaN</td>\n",
              "      <td>NaN</td>\n",
              "      <td>NaN</td>\n",
              "      <td>No co-applicant</td>\n",
              "      <td>8</td>\n",
              "      <td>NaN</td>\n",
              "      <td>NaN</td>\n",
              "      <td>NaN</td>\n",
              "      <td>NaN</td>\n",
              "      <td>NaN</td>\n",
              "      <td>NaN</td>\n",
              "      <td>NaN</td>\n",
              "      <td>NaN</td>\n",
              "      <td>Male</td>\n",
              "      <td>1</td>\n",
              "      <td>No co-applicant</td>\n",
              "      <td>5</td>\n",
              "      <td>NaN</td>\n",
              "      <td>Loan was not originated or was not sold in cal...</td>\n",
              "      <td>0</td>\n",
              "      <td>NaN</td>\n",
              "      <td>NaN</td>\n",
              "      <td>NaN</td>\n",
              "      <td>NaN</td>\n",
              "      <td>NaN</td>\n",
              "      <td>NaN</td>\n",
              "      <td>NaN</td>\n",
              "      <td>Not a HOEPA loan</td>\n",
              "      <td>2</td>\n",
              "      <td>Secured by a first lien</td>\n",
              "      <td>1</td>\n",
              "      <td>NaN</td>\n",
              "      <td>NaN</td>\n",
              "      <td>NaN</td>\n",
              "      <td>4642.0</td>\n",
              "      <td>12.470000</td>\n",
              "      <td>81400.0</td>\n",
              "      <td>144.029999</td>\n",
              "      <td>1438.0</td>\n",
              "      <td>1548.0</td>\n",
              "      <td>NaN</td>\n",
              "    </tr>\n",
              "  </tbody>\n",
              "</table>\n",
              "</div>\n",
              "      <button class=\"colab-df-convert\" onclick=\"convertToInteractive('df-5f6a52f0-1e27-4cb3-904a-9cc89d6935cb')\"\n",
              "              title=\"Convert this dataframe to an interactive table.\"\n",
              "              style=\"display:none;\">\n",
              "        \n",
              "  <svg xmlns=\"http://www.w3.org/2000/svg\" height=\"24px\"viewBox=\"0 0 24 24\"\n",
              "       width=\"24px\">\n",
              "    <path d=\"M0 0h24v24H0V0z\" fill=\"none\"/>\n",
              "    <path d=\"M18.56 5.44l.94 2.06.94-2.06 2.06-.94-2.06-.94-.94-2.06-.94 2.06-2.06.94zm-11 1L8.5 8.5l.94-2.06 2.06-.94-2.06-.94L8.5 2.5l-.94 2.06-2.06.94zm10 10l.94 2.06.94-2.06 2.06-.94-2.06-.94-.94-2.06-.94 2.06-2.06.94z\"/><path d=\"M17.41 7.96l-1.37-1.37c-.4-.4-.92-.59-1.43-.59-.52 0-1.04.2-1.43.59L10.3 9.45l-7.72 7.72c-.78.78-.78 2.05 0 2.83L4 21.41c.39.39.9.59 1.41.59.51 0 1.02-.2 1.41-.59l7.78-7.78 2.81-2.81c.8-.78.8-2.07 0-2.86zM5.41 20L4 18.59l7.72-7.72 1.47 1.35L5.41 20z\"/>\n",
              "  </svg>\n",
              "      </button>\n",
              "      \n",
              "  <style>\n",
              "    .colab-df-container {\n",
              "      display:flex;\n",
              "      flex-wrap:wrap;\n",
              "      gap: 12px;\n",
              "    }\n",
              "\n",
              "    .colab-df-convert {\n",
              "      background-color: #E8F0FE;\n",
              "      border: none;\n",
              "      border-radius: 50%;\n",
              "      cursor: pointer;\n",
              "      display: none;\n",
              "      fill: #1967D2;\n",
              "      height: 32px;\n",
              "      padding: 0 0 0 0;\n",
              "      width: 32px;\n",
              "    }\n",
              "\n",
              "    .colab-df-convert:hover {\n",
              "      background-color: #E2EBFA;\n",
              "      box-shadow: 0px 1px 2px rgba(60, 64, 67, 0.3), 0px 1px 3px 1px rgba(60, 64, 67, 0.15);\n",
              "      fill: #174EA6;\n",
              "    }\n",
              "\n",
              "    [theme=dark] .colab-df-convert {\n",
              "      background-color: #3B4455;\n",
              "      fill: #D2E3FC;\n",
              "    }\n",
              "\n",
              "    [theme=dark] .colab-df-convert:hover {\n",
              "      background-color: #434B5C;\n",
              "      box-shadow: 0px 1px 3px 1px rgba(0, 0, 0, 0.15);\n",
              "      filter: drop-shadow(0px 1px 2px rgba(0, 0, 0, 0.3));\n",
              "      fill: #FFFFFF;\n",
              "    }\n",
              "  </style>\n",
              "\n",
              "      <script>\n",
              "        const buttonEl =\n",
              "          document.querySelector('#df-5f6a52f0-1e27-4cb3-904a-9cc89d6935cb button.colab-df-convert');\n",
              "        buttonEl.style.display =\n",
              "          google.colab.kernel.accessAllowed ? 'block' : 'none';\n",
              "\n",
              "        async function convertToInteractive(key) {\n",
              "          const element = document.querySelector('#df-5f6a52f0-1e27-4cb3-904a-9cc89d6935cb');\n",
              "          const dataTable =\n",
              "            await google.colab.kernel.invokeFunction('convertToInteractive',\n",
              "                                                     [key], {});\n",
              "          if (!dataTable) return;\n",
              "\n",
              "          const docLinkHtml = 'Like what you see? Visit the ' +\n",
              "            '<a target=\"_blank\" href=https://colab.research.google.com/notebooks/data_table.ipynb>data table notebook</a>'\n",
              "            + ' to learn more about interactive tables.';\n",
              "          element.innerHTML = '';\n",
              "          dataTable['output_type'] = 'display_data';\n",
              "          await google.colab.output.renderOutput(dataTable, element);\n",
              "          const docLink = document.createElement('div');\n",
              "          docLink.innerHTML = docLinkHtml;\n",
              "          element.appendChild(docLink);\n",
              "        }\n",
              "      </script>\n",
              "    </div>\n",
              "  </div>\n",
              "  "
            ],
            "text/plain": [
              "   as_of_year  ... application_date_indicator\n",
              "0        2017  ...                        NaN\n",
              "1        2017  ...                        NaN\n",
              "2        2017  ...                        NaN\n",
              "3        2017  ...                        NaN\n",
              "4        2017  ...                        NaN\n",
              "\n",
              "[5 rows x 78 columns]"
            ]
          },
          "metadata": {},
          "execution_count": 6
        }
      ]
    },
    {
      "cell_type": "code",
      "source": [
        "# check data types\n",
        "df.dtypes"
      ],
      "metadata": {
        "colab": {
          "base_uri": "https://localhost:8080/"
        },
        "id": "nXcswokrGhJa",
        "outputId": "30cd357e-9456-4871-bb05-053122577563"
      },
      "execution_count": null,
      "outputs": [
        {
          "output_type": "execute_result",
          "data": {
            "text/plain": [
              "as_of_year                          int64\n",
              "respondent_id                      object\n",
              "agency_name                        object\n",
              "agency_abbr                        object\n",
              "agency_code                         int64\n",
              "                                   ...   \n",
              "hud_median_family_income          float64\n",
              "tract_to_msamd_income             float64\n",
              "number_of_owner_occupied_units    float64\n",
              "number_of_1_to_4_family_units     float64\n",
              "application_date_indicator        float64\n",
              "Length: 78, dtype: object"
            ]
          },
          "metadata": {},
          "execution_count": 7
        }
      ]
    },
    {
      "cell_type": "code",
      "source": [
        "# summary statistics\n",
        "df.describe()"
      ],
      "metadata": {
        "colab": {
          "base_uri": "https://localhost:8080/",
          "height": 364
        },
        "id": "H-ueZt6DFtnT",
        "outputId": "d0be3a59-c461-44d7-d17f-23aa3b8d3e4b"
      },
      "execution_count": null,
      "outputs": [
        {
          "output_type": "execute_result",
          "data": {
            "text/html": [
              "\n",
              "  <div id=\"df-1feade72-2b6b-4b0b-8f43-128bf34d7b0a\">\n",
              "    <div class=\"colab-df-container\">\n",
              "      <div>\n",
              "<style scoped>\n",
              "    .dataframe tbody tr th:only-of-type {\n",
              "        vertical-align: middle;\n",
              "    }\n",
              "\n",
              "    .dataframe tbody tr th {\n",
              "        vertical-align: top;\n",
              "    }\n",
              "\n",
              "    .dataframe thead th {\n",
              "        text-align: right;\n",
              "    }\n",
              "</style>\n",
              "<table border=\"1\" class=\"dataframe\">\n",
              "  <thead>\n",
              "    <tr style=\"text-align: right;\">\n",
              "      <th></th>\n",
              "      <th>as_of_year</th>\n",
              "      <th>agency_code</th>\n",
              "      <th>loan_type</th>\n",
              "      <th>property_type</th>\n",
              "      <th>loan_purpose</th>\n",
              "      <th>owner_occupancy</th>\n",
              "      <th>loan_amount_000s</th>\n",
              "      <th>preapproval</th>\n",
              "      <th>action_taken</th>\n",
              "      <th>msamd</th>\n",
              "      <th>state_code</th>\n",
              "      <th>county_code</th>\n",
              "      <th>census_tract_number</th>\n",
              "      <th>applicant_ethnicity</th>\n",
              "      <th>co_applicant_ethnicity</th>\n",
              "      <th>applicant_race_1</th>\n",
              "      <th>applicant_race_2</th>\n",
              "      <th>applicant_race_3</th>\n",
              "      <th>applicant_race_4</th>\n",
              "      <th>applicant_race_5</th>\n",
              "      <th>co_applicant_race_1</th>\n",
              "      <th>co_applicant_race_2</th>\n",
              "      <th>co_applicant_race_3</th>\n",
              "      <th>co_applicant_race_4</th>\n",
              "      <th>co_applicant_race_5</th>\n",
              "      <th>applicant_sex</th>\n",
              "      <th>co_applicant_sex</th>\n",
              "      <th>applicant_income_000s</th>\n",
              "      <th>purchaser_type</th>\n",
              "      <th>denial_reason_1</th>\n",
              "      <th>denial_reason_2</th>\n",
              "      <th>denial_reason_3</th>\n",
              "      <th>rate_spread</th>\n",
              "      <th>hoepa_status</th>\n",
              "      <th>lien_status</th>\n",
              "      <th>edit_status_name</th>\n",
              "      <th>edit_status</th>\n",
              "      <th>sequence_number</th>\n",
              "      <th>population</th>\n",
              "      <th>minority_population</th>\n",
              "      <th>hud_median_family_income</th>\n",
              "      <th>tract_to_msamd_income</th>\n",
              "      <th>number_of_owner_occupied_units</th>\n",
              "      <th>number_of_1_to_4_family_units</th>\n",
              "      <th>application_date_indicator</th>\n",
              "    </tr>\n",
              "  </thead>\n",
              "  <tbody>\n",
              "    <tr>\n",
              "      <th>count</th>\n",
              "      <td>49695.0</td>\n",
              "      <td>49695.000000</td>\n",
              "      <td>49695.000000</td>\n",
              "      <td>49695.000000</td>\n",
              "      <td>49695.000000</td>\n",
              "      <td>49695.000000</td>\n",
              "      <td>49695.000000</td>\n",
              "      <td>49695.000000</td>\n",
              "      <td>49695.000000</td>\n",
              "      <td>49466.000000</td>\n",
              "      <td>49695.0</td>\n",
              "      <td>49569.000000</td>\n",
              "      <td>49480.000000</td>\n",
              "      <td>49695.000000</td>\n",
              "      <td>49695.000000</td>\n",
              "      <td>49695.000000</td>\n",
              "      <td>339.000000</td>\n",
              "      <td>22.000000</td>\n",
              "      <td>2.0</td>\n",
              "      <td>2.0</td>\n",
              "      <td>49695.000000</td>\n",
              "      <td>100.000000</td>\n",
              "      <td>8.000000</td>\n",
              "      <td>2.0</td>\n",
              "      <td>2.0</td>\n",
              "      <td>49695.000000</td>\n",
              "      <td>49695.000000</td>\n",
              "      <td>41784.000000</td>\n",
              "      <td>49695.000000</td>\n",
              "      <td>4876.000000</td>\n",
              "      <td>936.000000</td>\n",
              "      <td>116.000000</td>\n",
              "      <td>1835.000000</td>\n",
              "      <td>49695.000000</td>\n",
              "      <td>49695.000000</td>\n",
              "      <td>0.0</td>\n",
              "      <td>0.0</td>\n",
              "      <td>0.0</td>\n",
              "      <td>49480.000000</td>\n",
              "      <td>49480.000000</td>\n",
              "      <td>49480.000000</td>\n",
              "      <td>49480.000000</td>\n",
              "      <td>49480.000000</td>\n",
              "      <td>49480.000000</td>\n",
              "      <td>0.0</td>\n",
              "    </tr>\n",
              "    <tr>\n",
              "      <th>mean</th>\n",
              "      <td>2017.0</td>\n",
              "      <td>6.949613</td>\n",
              "      <td>1.541865</td>\n",
              "      <td>1.055901</td>\n",
              "      <td>1.814086</td>\n",
              "      <td>1.139270</td>\n",
              "      <td>236.625415</td>\n",
              "      <td>2.841453</td>\n",
              "      <td>2.683328</td>\n",
              "      <td>41251.589698</td>\n",
              "      <td>10.0</td>\n",
              "      <td>3.244023</td>\n",
              "      <td>300.421052</td>\n",
              "      <td>2.305363</td>\n",
              "      <td>3.808653</td>\n",
              "      <td>4.950458</td>\n",
              "      <td>4.283186</td>\n",
              "      <td>4.409091</td>\n",
              "      <td>4.0</td>\n",
              "      <td>5.0</td>\n",
              "      <td>6.710715</td>\n",
              "      <td>4.440000</td>\n",
              "      <td>4.000000</td>\n",
              "      <td>4.0</td>\n",
              "      <td>5.0</td>\n",
              "      <td>1.780360</td>\n",
              "      <td>3.725264</td>\n",
              "      <td>108.571582</td>\n",
              "      <td>1.766536</td>\n",
              "      <td>3.845570</td>\n",
              "      <td>4.226496</td>\n",
              "      <td>5.206897</td>\n",
              "      <td>2.328687</td>\n",
              "      <td>1.999839</td>\n",
              "      <td>1.609921</td>\n",
              "      <td>NaN</td>\n",
              "      <td>NaN</td>\n",
              "      <td>NaN</td>\n",
              "      <td>5509.423040</td>\n",
              "      <td>31.065304</td>\n",
              "      <td>73457.251415</td>\n",
              "      <td>108.180865</td>\n",
              "      <td>1549.341593</td>\n",
              "      <td>2196.106225</td>\n",
              "      <td>NaN</td>\n",
              "    </tr>\n",
              "    <tr>\n",
              "      <th>std</th>\n",
              "      <td>0.0</td>\n",
              "      <td>2.071584</td>\n",
              "      <td>0.809011</td>\n",
              "      <td>0.235528</td>\n",
              "      <td>0.942135</td>\n",
              "      <td>0.353308</td>\n",
              "      <td>1789.233413</td>\n",
              "      <td>0.414934</td>\n",
              "      <td>1.931273</td>\n",
              "      <td>10610.570892</td>\n",
              "      <td>0.0</td>\n",
              "      <td>1.384459</td>\n",
              "      <td>176.638192</td>\n",
              "      <td>0.728333</td>\n",
              "      <td>1.378353</td>\n",
              "      <td>1.230556</td>\n",
              "      <td>1.118450</td>\n",
              "      <td>1.259595</td>\n",
              "      <td>0.0</td>\n",
              "      <td>0.0</td>\n",
              "      <td>1.581293</td>\n",
              "      <td>0.956847</td>\n",
              "      <td>1.069045</td>\n",
              "      <td>0.0</td>\n",
              "      <td>0.0</td>\n",
              "      <td>1.010506</td>\n",
              "      <td>1.497667</td>\n",
              "      <td>727.626354</td>\n",
              "      <td>2.467739</td>\n",
              "      <td>2.439366</td>\n",
              "      <td>2.634202</td>\n",
              "      <td>2.500495</td>\n",
              "      <td>1.394774</td>\n",
              "      <td>0.012687</td>\n",
              "      <td>1.154811</td>\n",
              "      <td>NaN</td>\n",
              "      <td>NaN</td>\n",
              "      <td>NaN</td>\n",
              "      <td>2779.048489</td>\n",
              "      <td>18.468178</td>\n",
              "      <td>8045.438144</td>\n",
              "      <td>30.811210</td>\n",
              "      <td>796.823270</td>\n",
              "      <td>1044.649521</td>\n",
              "      <td>NaN</td>\n",
              "    </tr>\n",
              "    <tr>\n",
              "      <th>min</th>\n",
              "      <td>2017.0</td>\n",
              "      <td>1.000000</td>\n",
              "      <td>1.000000</td>\n",
              "      <td>1.000000</td>\n",
              "      <td>1.000000</td>\n",
              "      <td>1.000000</td>\n",
              "      <td>1.000000</td>\n",
              "      <td>1.000000</td>\n",
              "      <td>1.000000</td>\n",
              "      <td>20100.000000</td>\n",
              "      <td>10.0</td>\n",
              "      <td>1.000000</td>\n",
              "      <td>2.000000</td>\n",
              "      <td>1.000000</td>\n",
              "      <td>1.000000</td>\n",
              "      <td>1.000000</td>\n",
              "      <td>1.000000</td>\n",
              "      <td>1.000000</td>\n",
              "      <td>4.0</td>\n",
              "      <td>5.0</td>\n",
              "      <td>1.000000</td>\n",
              "      <td>2.000000</td>\n",
              "      <td>3.000000</td>\n",
              "      <td>4.0</td>\n",
              "      <td>5.0</td>\n",
              "      <td>1.000000</td>\n",
              "      <td>1.000000</td>\n",
              "      <td>1.000000</td>\n",
              "      <td>0.000000</td>\n",
              "      <td>1.000000</td>\n",
              "      <td>1.000000</td>\n",
              "      <td>1.000000</td>\n",
              "      <td>1.500000</td>\n",
              "      <td>1.000000</td>\n",
              "      <td>1.000000</td>\n",
              "      <td>NaN</td>\n",
              "      <td>NaN</td>\n",
              "      <td>NaN</td>\n",
              "      <td>637.000000</td>\n",
              "      <td>0.000000</td>\n",
              "      <td>65000.000000</td>\n",
              "      <td>13.360000</td>\n",
              "      <td>2.000000</td>\n",
              "      <td>471.000000</td>\n",
              "      <td>NaN</td>\n",
              "    </tr>\n",
              "    <tr>\n",
              "      <th>25%</th>\n",
              "      <td>2017.0</td>\n",
              "      <td>7.000000</td>\n",
              "      <td>1.000000</td>\n",
              "      <td>1.000000</td>\n",
              "      <td>1.000000</td>\n",
              "      <td>1.000000</td>\n",
              "      <td>133.000000</td>\n",
              "      <td>3.000000</td>\n",
              "      <td>1.000000</td>\n",
              "      <td>41540.000000</td>\n",
              "      <td>10.0</td>\n",
              "      <td>3.000000</td>\n",
              "      <td>142.000000</td>\n",
              "      <td>2.000000</td>\n",
              "      <td>2.000000</td>\n",
              "      <td>5.000000</td>\n",
              "      <td>3.000000</td>\n",
              "      <td>5.000000</td>\n",
              "      <td>4.0</td>\n",
              "      <td>5.0</td>\n",
              "      <td>5.000000</td>\n",
              "      <td>4.000000</td>\n",
              "      <td>3.000000</td>\n",
              "      <td>4.0</td>\n",
              "      <td>5.0</td>\n",
              "      <td>1.000000</td>\n",
              "      <td>2.000000</td>\n",
              "      <td>50.000000</td>\n",
              "      <td>0.000000</td>\n",
              "      <td>2.000000</td>\n",
              "      <td>3.000000</td>\n",
              "      <td>3.000000</td>\n",
              "      <td>1.630000</td>\n",
              "      <td>2.000000</td>\n",
              "      <td>1.000000</td>\n",
              "      <td>NaN</td>\n",
              "      <td>NaN</td>\n",
              "      <td>NaN</td>\n",
              "      <td>3777.000000</td>\n",
              "      <td>16.959999</td>\n",
              "      <td>65500.000000</td>\n",
              "      <td>88.669998</td>\n",
              "      <td>1040.000000</td>\n",
              "      <td>1525.000000</td>\n",
              "      <td>NaN</td>\n",
              "    </tr>\n",
              "    <tr>\n",
              "      <th>50%</th>\n",
              "      <td>2017.0</td>\n",
              "      <td>7.000000</td>\n",
              "      <td>1.000000</td>\n",
              "      <td>1.000000</td>\n",
              "      <td>1.000000</td>\n",
              "      <td>1.000000</td>\n",
              "      <td>196.000000</td>\n",
              "      <td>3.000000</td>\n",
              "      <td>2.000000</td>\n",
              "      <td>48864.000000</td>\n",
              "      <td>10.0</td>\n",
              "      <td>3.000000</td>\n",
              "      <td>168.040000</td>\n",
              "      <td>2.000000</td>\n",
              "      <td>5.000000</td>\n",
              "      <td>5.000000</td>\n",
              "      <td>5.000000</td>\n",
              "      <td>5.000000</td>\n",
              "      <td>4.0</td>\n",
              "      <td>5.0</td>\n",
              "      <td>8.000000</td>\n",
              "      <td>5.000000</td>\n",
              "      <td>4.000000</td>\n",
              "      <td>4.0</td>\n",
              "      <td>5.0</td>\n",
              "      <td>1.000000</td>\n",
              "      <td>5.000000</td>\n",
              "      <td>75.000000</td>\n",
              "      <td>1.000000</td>\n",
              "      <td>3.000000</td>\n",
              "      <td>3.000000</td>\n",
              "      <td>5.000000</td>\n",
              "      <td>1.780000</td>\n",
              "      <td>2.000000</td>\n",
              "      <td>1.000000</td>\n",
              "      <td>NaN</td>\n",
              "      <td>NaN</td>\n",
              "      <td>NaN</td>\n",
              "      <td>4944.000000</td>\n",
              "      <td>28.250000</td>\n",
              "      <td>81400.000000</td>\n",
              "      <td>106.070000</td>\n",
              "      <td>1416.000000</td>\n",
              "      <td>1964.000000</td>\n",
              "      <td>NaN</td>\n",
              "    </tr>\n",
              "    <tr>\n",
              "      <th>75%</th>\n",
              "      <td>2017.0</td>\n",
              "      <td>9.000000</td>\n",
              "      <td>2.000000</td>\n",
              "      <td>1.000000</td>\n",
              "      <td>3.000000</td>\n",
              "      <td>1.000000</td>\n",
              "      <td>271.000000</td>\n",
              "      <td>3.000000</td>\n",
              "      <td>4.000000</td>\n",
              "      <td>48864.000000</td>\n",
              "      <td>10.0</td>\n",
              "      <td>5.000000</td>\n",
              "      <td>504.080000</td>\n",
              "      <td>2.000000</td>\n",
              "      <td>5.000000</td>\n",
              "      <td>5.000000</td>\n",
              "      <td>5.000000</td>\n",
              "      <td>5.000000</td>\n",
              "      <td>4.0</td>\n",
              "      <td>5.0</td>\n",
              "      <td>8.000000</td>\n",
              "      <td>5.000000</td>\n",
              "      <td>5.000000</td>\n",
              "      <td>4.0</td>\n",
              "      <td>5.0</td>\n",
              "      <td>2.000000</td>\n",
              "      <td>5.000000</td>\n",
              "      <td>120.000000</td>\n",
              "      <td>2.000000</td>\n",
              "      <td>5.000000</td>\n",
              "      <td>6.000000</td>\n",
              "      <td>7.000000</td>\n",
              "      <td>2.270000</td>\n",
              "      <td>2.000000</td>\n",
              "      <td>1.000000</td>\n",
              "      <td>NaN</td>\n",
              "      <td>NaN</td>\n",
              "      <td>NaN</td>\n",
              "      <td>6581.000000</td>\n",
              "      <td>40.040001</td>\n",
              "      <td>81400.000000</td>\n",
              "      <td>123.440002</td>\n",
              "      <td>1994.000000</td>\n",
              "      <td>2589.000000</td>\n",
              "      <td>NaN</td>\n",
              "    </tr>\n",
              "    <tr>\n",
              "      <th>max</th>\n",
              "      <td>2017.0</td>\n",
              "      <td>9.000000</td>\n",
              "      <td>4.000000</td>\n",
              "      <td>3.000000</td>\n",
              "      <td>3.000000</td>\n",
              "      <td>3.000000</td>\n",
              "      <td>300000.000000</td>\n",
              "      <td>3.000000</td>\n",
              "      <td>6.000000</td>\n",
              "      <td>48864.000000</td>\n",
              "      <td>10.0</td>\n",
              "      <td>5.000000</td>\n",
              "      <td>519.000000</td>\n",
              "      <td>4.000000</td>\n",
              "      <td>5.000000</td>\n",
              "      <td>7.000000</td>\n",
              "      <td>5.000000</td>\n",
              "      <td>5.000000</td>\n",
              "      <td>4.0</td>\n",
              "      <td>5.0</td>\n",
              "      <td>8.000000</td>\n",
              "      <td>5.000000</td>\n",
              "      <td>5.000000</td>\n",
              "      <td>4.0</td>\n",
              "      <td>5.0</td>\n",
              "      <td>4.000000</td>\n",
              "      <td>5.000000</td>\n",
              "      <td>107000.000000</td>\n",
              "      <td>9.000000</td>\n",
              "      <td>9.000000</td>\n",
              "      <td>9.000000</td>\n",
              "      <td>9.000000</td>\n",
              "      <td>8.490000</td>\n",
              "      <td>2.000000</td>\n",
              "      <td>4.000000</td>\n",
              "      <td>NaN</td>\n",
              "      <td>NaN</td>\n",
              "      <td>NaN</td>\n",
              "      <td>14528.000000</td>\n",
              "      <td>98.540001</td>\n",
              "      <td>81400.000000</td>\n",
              "      <td>262.649994</td>\n",
              "      <td>4228.000000</td>\n",
              "      <td>5393.000000</td>\n",
              "      <td>NaN</td>\n",
              "    </tr>\n",
              "  </tbody>\n",
              "</table>\n",
              "</div>\n",
              "      <button class=\"colab-df-convert\" onclick=\"convertToInteractive('df-1feade72-2b6b-4b0b-8f43-128bf34d7b0a')\"\n",
              "              title=\"Convert this dataframe to an interactive table.\"\n",
              "              style=\"display:none;\">\n",
              "        \n",
              "  <svg xmlns=\"http://www.w3.org/2000/svg\" height=\"24px\"viewBox=\"0 0 24 24\"\n",
              "       width=\"24px\">\n",
              "    <path d=\"M0 0h24v24H0V0z\" fill=\"none\"/>\n",
              "    <path d=\"M18.56 5.44l.94 2.06.94-2.06 2.06-.94-2.06-.94-.94-2.06-.94 2.06-2.06.94zm-11 1L8.5 8.5l.94-2.06 2.06-.94-2.06-.94L8.5 2.5l-.94 2.06-2.06.94zm10 10l.94 2.06.94-2.06 2.06-.94-2.06-.94-.94-2.06-.94 2.06-2.06.94z\"/><path d=\"M17.41 7.96l-1.37-1.37c-.4-.4-.92-.59-1.43-.59-.52 0-1.04.2-1.43.59L10.3 9.45l-7.72 7.72c-.78.78-.78 2.05 0 2.83L4 21.41c.39.39.9.59 1.41.59.51 0 1.02-.2 1.41-.59l7.78-7.78 2.81-2.81c.8-.78.8-2.07 0-2.86zM5.41 20L4 18.59l7.72-7.72 1.47 1.35L5.41 20z\"/>\n",
              "  </svg>\n",
              "      </button>\n",
              "      \n",
              "  <style>\n",
              "    .colab-df-container {\n",
              "      display:flex;\n",
              "      flex-wrap:wrap;\n",
              "      gap: 12px;\n",
              "    }\n",
              "\n",
              "    .colab-df-convert {\n",
              "      background-color: #E8F0FE;\n",
              "      border: none;\n",
              "      border-radius: 50%;\n",
              "      cursor: pointer;\n",
              "      display: none;\n",
              "      fill: #1967D2;\n",
              "      height: 32px;\n",
              "      padding: 0 0 0 0;\n",
              "      width: 32px;\n",
              "    }\n",
              "\n",
              "    .colab-df-convert:hover {\n",
              "      background-color: #E2EBFA;\n",
              "      box-shadow: 0px 1px 2px rgba(60, 64, 67, 0.3), 0px 1px 3px 1px rgba(60, 64, 67, 0.15);\n",
              "      fill: #174EA6;\n",
              "    }\n",
              "\n",
              "    [theme=dark] .colab-df-convert {\n",
              "      background-color: #3B4455;\n",
              "      fill: #D2E3FC;\n",
              "    }\n",
              "\n",
              "    [theme=dark] .colab-df-convert:hover {\n",
              "      background-color: #434B5C;\n",
              "      box-shadow: 0px 1px 3px 1px rgba(0, 0, 0, 0.15);\n",
              "      filter: drop-shadow(0px 1px 2px rgba(0, 0, 0, 0.3));\n",
              "      fill: #FFFFFF;\n",
              "    }\n",
              "  </style>\n",
              "\n",
              "      <script>\n",
              "        const buttonEl =\n",
              "          document.querySelector('#df-1feade72-2b6b-4b0b-8f43-128bf34d7b0a button.colab-df-convert');\n",
              "        buttonEl.style.display =\n",
              "          google.colab.kernel.accessAllowed ? 'block' : 'none';\n",
              "\n",
              "        async function convertToInteractive(key) {\n",
              "          const element = document.querySelector('#df-1feade72-2b6b-4b0b-8f43-128bf34d7b0a');\n",
              "          const dataTable =\n",
              "            await google.colab.kernel.invokeFunction('convertToInteractive',\n",
              "                                                     [key], {});\n",
              "          if (!dataTable) return;\n",
              "\n",
              "          const docLinkHtml = 'Like what you see? Visit the ' +\n",
              "            '<a target=\"_blank\" href=https://colab.research.google.com/notebooks/data_table.ipynb>data table notebook</a>'\n",
              "            + ' to learn more about interactive tables.';\n",
              "          element.innerHTML = '';\n",
              "          dataTable['output_type'] = 'display_data';\n",
              "          await google.colab.output.renderOutput(dataTable, element);\n",
              "          const docLink = document.createElement('div');\n",
              "          docLink.innerHTML = docLinkHtml;\n",
              "          element.appendChild(docLink);\n",
              "        }\n",
              "      </script>\n",
              "    </div>\n",
              "  </div>\n",
              "  "
            ],
            "text/plain": [
              "       as_of_year  ...  application_date_indicator\n",
              "count     49695.0  ...                         0.0\n",
              "mean       2017.0  ...                         NaN\n",
              "std           0.0  ...                         NaN\n",
              "min        2017.0  ...                         NaN\n",
              "25%        2017.0  ...                         NaN\n",
              "50%        2017.0  ...                         NaN\n",
              "75%        2017.0  ...                         NaN\n",
              "max        2017.0  ...                         NaN\n",
              "\n",
              "[8 rows x 45 columns]"
            ]
          },
          "metadata": {},
          "execution_count": 8
        }
      ]
    },
    {
      "cell_type": "markdown",
      "source": [
        "## Part 3. Choose & Rename Variables (Columns)"
      ],
      "metadata": {
        "id": "kYP-99y7-ka_"
      }
    },
    {
      "cell_type": "markdown",
      "source": [
        "### 1. Rename columns"
      ],
      "metadata": {
        "id": "sU7RlEDi9jP-"
      }
    },
    {
      "cell_type": "code",
      "source": [
        "# put all columns name to lower case, then replace ' ' with '_'\n",
        "df.columns = df.columns.str.lower().str.replace(' ','_')\n",
        "df.keys()"
      ],
      "metadata": {
        "colab": {
          "base_uri": "https://localhost:8080/"
        },
        "id": "flMfXKgB9iLW",
        "outputId": "9e9aa3fd-eaa6-474a-d059-0e678d422e9a"
      },
      "execution_count": null,
      "outputs": [
        {
          "output_type": "execute_result",
          "data": {
            "text/plain": [
              "Index(['as_of_year', 'respondent_id', 'agency_name', 'agency_abbr',\n",
              "       'agency_code', 'loan_type_name', 'loan_type', 'property_type_name',\n",
              "       'property_type', 'loan_purpose_name', 'loan_purpose',\n",
              "       'owner_occupancy_name', 'owner_occupancy', 'loan_amount_000s',\n",
              "       'preapproval_name', 'preapproval', 'action_taken_name', 'action_taken',\n",
              "       'msamd_name', 'msamd', 'state_name', 'state_abbr', 'state_code',\n",
              "       'county_name', 'county_code', 'census_tract_number',\n",
              "       'applicant_ethnicity_name', 'applicant_ethnicity',\n",
              "       'co_applicant_ethnicity_name', 'co_applicant_ethnicity',\n",
              "       'applicant_race_name_1', 'applicant_race_1', 'applicant_race_name_2',\n",
              "       'applicant_race_2', 'applicant_race_name_3', 'applicant_race_3',\n",
              "       'applicant_race_name_4', 'applicant_race_4', 'applicant_race_name_5',\n",
              "       'applicant_race_5', 'co_applicant_race_name_1', 'co_applicant_race_1',\n",
              "       'co_applicant_race_name_2', 'co_applicant_race_2',\n",
              "       'co_applicant_race_name_3', 'co_applicant_race_3',\n",
              "       'co_applicant_race_name_4', 'co_applicant_race_4',\n",
              "       'co_applicant_race_name_5', 'co_applicant_race_5', 'applicant_sex_name',\n",
              "       'applicant_sex', 'co_applicant_sex_name', 'co_applicant_sex',\n",
              "       'applicant_income_000s', 'purchaser_type_name', 'purchaser_type',\n",
              "       'denial_reason_name_1', 'denial_reason_1', 'denial_reason_name_2',\n",
              "       'denial_reason_2', 'denial_reason_name_3', 'denial_reason_3',\n",
              "       'rate_spread', 'hoepa_status_name', 'hoepa_status', 'lien_status_name',\n",
              "       'lien_status', 'edit_status_name', 'edit_status', 'sequence_number',\n",
              "       'population', 'minority_population', 'hud_median_family_income',\n",
              "       'tract_to_msamd_income', 'number_of_owner_occupied_units',\n",
              "       'number_of_1_to_4_family_units', 'application_date_indicator'],\n",
              "      dtype='object')"
            ]
          },
          "metadata": {},
          "execution_count": 9
        }
      ]
    },
    {
      "cell_type": "markdown",
      "source": [
        "### 2. Drop Columns"
      ],
      "metadata": {
        "id": "COKCsEuj-N1l"
      }
    },
    {
      "cell_type": "code",
      "source": [
        "drop_columns = ['respondent_id']\n",
        "df.drop(drop_columns, axis=1, inplace=True)\n",
        "df.keys()"
      ],
      "metadata": {
        "colab": {
          "base_uri": "https://localhost:8080/"
        },
        "id": "aG9nOluv-M5d",
        "outputId": "a07500ab-58ac-4ba0-83a1-1a78e1551d29"
      },
      "execution_count": null,
      "outputs": [
        {
          "output_type": "execute_result",
          "data": {
            "text/plain": [
              "Index(['as_of_year', 'agency_name', 'agency_abbr', 'agency_code',\n",
              "       'loan_type_name', 'loan_type', 'property_type_name', 'property_type',\n",
              "       'loan_purpose_name', 'loan_purpose', 'owner_occupancy_name',\n",
              "       'owner_occupancy', 'loan_amount_000s', 'preapproval_name',\n",
              "       'preapproval', 'action_taken_name', 'action_taken', 'msamd_name',\n",
              "       'msamd', 'state_name', 'state_abbr', 'state_code', 'county_name',\n",
              "       'county_code', 'census_tract_number', 'applicant_ethnicity_name',\n",
              "       'applicant_ethnicity', 'co_applicant_ethnicity_name',\n",
              "       'co_applicant_ethnicity', 'applicant_race_name_1', 'applicant_race_1',\n",
              "       'applicant_race_name_2', 'applicant_race_2', 'applicant_race_name_3',\n",
              "       'applicant_race_3', 'applicant_race_name_4', 'applicant_race_4',\n",
              "       'applicant_race_name_5', 'applicant_race_5', 'co_applicant_race_name_1',\n",
              "       'co_applicant_race_1', 'co_applicant_race_name_2',\n",
              "       'co_applicant_race_2', 'co_applicant_race_name_3',\n",
              "       'co_applicant_race_3', 'co_applicant_race_name_4',\n",
              "       'co_applicant_race_4', 'co_applicant_race_name_5',\n",
              "       'co_applicant_race_5', 'applicant_sex_name', 'applicant_sex',\n",
              "       'co_applicant_sex_name', 'co_applicant_sex', 'applicant_income_000s',\n",
              "       'purchaser_type_name', 'purchaser_type', 'denial_reason_name_1',\n",
              "       'denial_reason_1', 'denial_reason_name_2', 'denial_reason_2',\n",
              "       'denial_reason_name_3', 'denial_reason_3', 'rate_spread',\n",
              "       'hoepa_status_name', 'hoepa_status', 'lien_status_name', 'lien_status',\n",
              "       'edit_status_name', 'edit_status', 'sequence_number', 'population',\n",
              "       'minority_population', 'hud_median_family_income',\n",
              "       'tract_to_msamd_income', 'number_of_owner_occupied_units',\n",
              "       'number_of_1_to_4_family_units', 'application_date_indicator'],\n",
              "      dtype='object')"
            ]
          },
          "metadata": {},
          "execution_count": 10
        }
      ]
    },
    {
      "cell_type": "markdown",
      "source": [
        "### 3. keep columns"
      ],
      "metadata": {
        "id": "cvBAyEpRG45V"
      }
    },
    {
      "cell_type": "code",
      "source": [
        "keep_columns = ['loan_purpose_name','loan_type_name','applicant_race_name_1','action_taken_name','applicant_sex_name','applicant_income_000s','population','minority_population','hud_median_family_income']\n",
        "df = df[keep_columns]\n",
        "df.keys()"
      ],
      "metadata": {
        "colab": {
          "base_uri": "https://localhost:8080/"
        },
        "id": "MggwZ70LG7dL",
        "outputId": "415ce763-42cb-4089-8aa9-9f148ba24810"
      },
      "execution_count": null,
      "outputs": [
        {
          "output_type": "execute_result",
          "data": {
            "text/plain": [
              "Index(['loan_purpose_name', 'loan_type_name', 'applicant_race_name_1',\n",
              "       'action_taken_name', 'applicant_sex_name', 'applicant_income_000s',\n",
              "       'population', 'minority_population', 'hud_median_family_income'],\n",
              "      dtype='object')"
            ]
          },
          "metadata": {},
          "execution_count": 11
        }
      ]
    },
    {
      "cell_type": "markdown",
      "source": [
        "## Part 4. Handling Missing Data"
      ],
      "metadata": {
        "id": "SUQfxAmV1VOY"
      }
    },
    {
      "cell_type": "markdown",
      "source": [
        "### 1. Find Missing Data"
      ],
      "metadata": {
        "id": "i20HVO982Xky"
      }
    },
    {
      "cell_type": "code",
      "source": [
        "# find missing data\n",
        "df.isna()"
      ],
      "metadata": {
        "colab": {
          "base_uri": "https://localhost:8080/",
          "height": 488
        },
        "id": "ND_cYudh1nEa",
        "outputId": "89b8fcfa-d34a-4861-d39b-a41aab0fc8f7"
      },
      "execution_count": null,
      "outputs": [
        {
          "output_type": "execute_result",
          "data": {
            "text/html": [
              "\n",
              "  <div id=\"df-9662a5a2-65b9-4838-9d8a-1badc64c8309\">\n",
              "    <div class=\"colab-df-container\">\n",
              "      <div>\n",
              "<style scoped>\n",
              "    .dataframe tbody tr th:only-of-type {\n",
              "        vertical-align: middle;\n",
              "    }\n",
              "\n",
              "    .dataframe tbody tr th {\n",
              "        vertical-align: top;\n",
              "    }\n",
              "\n",
              "    .dataframe thead th {\n",
              "        text-align: right;\n",
              "    }\n",
              "</style>\n",
              "<table border=\"1\" class=\"dataframe\">\n",
              "  <thead>\n",
              "    <tr style=\"text-align: right;\">\n",
              "      <th></th>\n",
              "      <th>loan_purpose_name</th>\n",
              "      <th>loan_type_name</th>\n",
              "      <th>applicant_race_name_1</th>\n",
              "      <th>action_taken_name</th>\n",
              "      <th>applicant_sex_name</th>\n",
              "      <th>applicant_income_000s</th>\n",
              "      <th>population</th>\n",
              "      <th>minority_population</th>\n",
              "      <th>hud_median_family_income</th>\n",
              "    </tr>\n",
              "  </thead>\n",
              "  <tbody>\n",
              "    <tr>\n",
              "      <th>0</th>\n",
              "      <td>False</td>\n",
              "      <td>False</td>\n",
              "      <td>False</td>\n",
              "      <td>False</td>\n",
              "      <td>False</td>\n",
              "      <td>False</td>\n",
              "      <td>False</td>\n",
              "      <td>False</td>\n",
              "      <td>False</td>\n",
              "    </tr>\n",
              "    <tr>\n",
              "      <th>1</th>\n",
              "      <td>False</td>\n",
              "      <td>False</td>\n",
              "      <td>False</td>\n",
              "      <td>False</td>\n",
              "      <td>False</td>\n",
              "      <td>False</td>\n",
              "      <td>False</td>\n",
              "      <td>False</td>\n",
              "      <td>False</td>\n",
              "    </tr>\n",
              "    <tr>\n",
              "      <th>2</th>\n",
              "      <td>False</td>\n",
              "      <td>False</td>\n",
              "      <td>False</td>\n",
              "      <td>False</td>\n",
              "      <td>False</td>\n",
              "      <td>False</td>\n",
              "      <td>False</td>\n",
              "      <td>False</td>\n",
              "      <td>False</td>\n",
              "    </tr>\n",
              "    <tr>\n",
              "      <th>3</th>\n",
              "      <td>False</td>\n",
              "      <td>False</td>\n",
              "      <td>False</td>\n",
              "      <td>False</td>\n",
              "      <td>False</td>\n",
              "      <td>False</td>\n",
              "      <td>True</td>\n",
              "      <td>True</td>\n",
              "      <td>True</td>\n",
              "    </tr>\n",
              "    <tr>\n",
              "      <th>4</th>\n",
              "      <td>False</td>\n",
              "      <td>False</td>\n",
              "      <td>False</td>\n",
              "      <td>False</td>\n",
              "      <td>False</td>\n",
              "      <td>True</td>\n",
              "      <td>False</td>\n",
              "      <td>False</td>\n",
              "      <td>False</td>\n",
              "    </tr>\n",
              "    <tr>\n",
              "      <th>...</th>\n",
              "      <td>...</td>\n",
              "      <td>...</td>\n",
              "      <td>...</td>\n",
              "      <td>...</td>\n",
              "      <td>...</td>\n",
              "      <td>...</td>\n",
              "      <td>...</td>\n",
              "      <td>...</td>\n",
              "      <td>...</td>\n",
              "    </tr>\n",
              "    <tr>\n",
              "      <th>49690</th>\n",
              "      <td>False</td>\n",
              "      <td>False</td>\n",
              "      <td>False</td>\n",
              "      <td>False</td>\n",
              "      <td>False</td>\n",
              "      <td>True</td>\n",
              "      <td>False</td>\n",
              "      <td>False</td>\n",
              "      <td>False</td>\n",
              "    </tr>\n",
              "    <tr>\n",
              "      <th>49691</th>\n",
              "      <td>False</td>\n",
              "      <td>False</td>\n",
              "      <td>False</td>\n",
              "      <td>False</td>\n",
              "      <td>False</td>\n",
              "      <td>True</td>\n",
              "      <td>False</td>\n",
              "      <td>False</td>\n",
              "      <td>False</td>\n",
              "    </tr>\n",
              "    <tr>\n",
              "      <th>49692</th>\n",
              "      <td>False</td>\n",
              "      <td>False</td>\n",
              "      <td>False</td>\n",
              "      <td>False</td>\n",
              "      <td>False</td>\n",
              "      <td>True</td>\n",
              "      <td>False</td>\n",
              "      <td>False</td>\n",
              "      <td>False</td>\n",
              "    </tr>\n",
              "    <tr>\n",
              "      <th>49693</th>\n",
              "      <td>False</td>\n",
              "      <td>False</td>\n",
              "      <td>False</td>\n",
              "      <td>False</td>\n",
              "      <td>False</td>\n",
              "      <td>True</td>\n",
              "      <td>False</td>\n",
              "      <td>False</td>\n",
              "      <td>False</td>\n",
              "    </tr>\n",
              "    <tr>\n",
              "      <th>49694</th>\n",
              "      <td>False</td>\n",
              "      <td>False</td>\n",
              "      <td>False</td>\n",
              "      <td>False</td>\n",
              "      <td>False</td>\n",
              "      <td>True</td>\n",
              "      <td>False</td>\n",
              "      <td>False</td>\n",
              "      <td>False</td>\n",
              "    </tr>\n",
              "  </tbody>\n",
              "</table>\n",
              "<p>49695 rows × 9 columns</p>\n",
              "</div>\n",
              "      <button class=\"colab-df-convert\" onclick=\"convertToInteractive('df-9662a5a2-65b9-4838-9d8a-1badc64c8309')\"\n",
              "              title=\"Convert this dataframe to an interactive table.\"\n",
              "              style=\"display:none;\">\n",
              "        \n",
              "  <svg xmlns=\"http://www.w3.org/2000/svg\" height=\"24px\"viewBox=\"0 0 24 24\"\n",
              "       width=\"24px\">\n",
              "    <path d=\"M0 0h24v24H0V0z\" fill=\"none\"/>\n",
              "    <path d=\"M18.56 5.44l.94 2.06.94-2.06 2.06-.94-2.06-.94-.94-2.06-.94 2.06-2.06.94zm-11 1L8.5 8.5l.94-2.06 2.06-.94-2.06-.94L8.5 2.5l-.94 2.06-2.06.94zm10 10l.94 2.06.94-2.06 2.06-.94-2.06-.94-.94-2.06-.94 2.06-2.06.94z\"/><path d=\"M17.41 7.96l-1.37-1.37c-.4-.4-.92-.59-1.43-.59-.52 0-1.04.2-1.43.59L10.3 9.45l-7.72 7.72c-.78.78-.78 2.05 0 2.83L4 21.41c.39.39.9.59 1.41.59.51 0 1.02-.2 1.41-.59l7.78-7.78 2.81-2.81c.8-.78.8-2.07 0-2.86zM5.41 20L4 18.59l7.72-7.72 1.47 1.35L5.41 20z\"/>\n",
              "  </svg>\n",
              "      </button>\n",
              "      \n",
              "  <style>\n",
              "    .colab-df-container {\n",
              "      display:flex;\n",
              "      flex-wrap:wrap;\n",
              "      gap: 12px;\n",
              "    }\n",
              "\n",
              "    .colab-df-convert {\n",
              "      background-color: #E8F0FE;\n",
              "      border: none;\n",
              "      border-radius: 50%;\n",
              "      cursor: pointer;\n",
              "      display: none;\n",
              "      fill: #1967D2;\n",
              "      height: 32px;\n",
              "      padding: 0 0 0 0;\n",
              "      width: 32px;\n",
              "    }\n",
              "\n",
              "    .colab-df-convert:hover {\n",
              "      background-color: #E2EBFA;\n",
              "      box-shadow: 0px 1px 2px rgba(60, 64, 67, 0.3), 0px 1px 3px 1px rgba(60, 64, 67, 0.15);\n",
              "      fill: #174EA6;\n",
              "    }\n",
              "\n",
              "    [theme=dark] .colab-df-convert {\n",
              "      background-color: #3B4455;\n",
              "      fill: #D2E3FC;\n",
              "    }\n",
              "\n",
              "    [theme=dark] .colab-df-convert:hover {\n",
              "      background-color: #434B5C;\n",
              "      box-shadow: 0px 1px 3px 1px rgba(0, 0, 0, 0.15);\n",
              "      filter: drop-shadow(0px 1px 2px rgba(0, 0, 0, 0.3));\n",
              "      fill: #FFFFFF;\n",
              "    }\n",
              "  </style>\n",
              "\n",
              "      <script>\n",
              "        const buttonEl =\n",
              "          document.querySelector('#df-9662a5a2-65b9-4838-9d8a-1badc64c8309 button.colab-df-convert');\n",
              "        buttonEl.style.display =\n",
              "          google.colab.kernel.accessAllowed ? 'block' : 'none';\n",
              "\n",
              "        async function convertToInteractive(key) {\n",
              "          const element = document.querySelector('#df-9662a5a2-65b9-4838-9d8a-1badc64c8309');\n",
              "          const dataTable =\n",
              "            await google.colab.kernel.invokeFunction('convertToInteractive',\n",
              "                                                     [key], {});\n",
              "          if (!dataTable) return;\n",
              "\n",
              "          const docLinkHtml = 'Like what you see? Visit the ' +\n",
              "            '<a target=\"_blank\" href=https://colab.research.google.com/notebooks/data_table.ipynb>data table notebook</a>'\n",
              "            + ' to learn more about interactive tables.';\n",
              "          element.innerHTML = '';\n",
              "          dataTable['output_type'] = 'display_data';\n",
              "          await google.colab.output.renderOutput(dataTable, element);\n",
              "          const docLink = document.createElement('div');\n",
              "          docLink.innerHTML = docLinkHtml;\n",
              "          element.appendChild(docLink);\n",
              "        }\n",
              "      </script>\n",
              "    </div>\n",
              "  </div>\n",
              "  "
            ],
            "text/plain": [
              "       loan_purpose_name  ...  hud_median_family_income\n",
              "0                  False  ...                     False\n",
              "1                  False  ...                     False\n",
              "2                  False  ...                     False\n",
              "3                  False  ...                      True\n",
              "4                  False  ...                     False\n",
              "...                  ...  ...                       ...\n",
              "49690              False  ...                     False\n",
              "49691              False  ...                     False\n",
              "49692              False  ...                     False\n",
              "49693              False  ...                     False\n",
              "49694              False  ...                     False\n",
              "\n",
              "[49695 rows x 9 columns]"
            ]
          },
          "metadata": {},
          "execution_count": 12
        }
      ]
    },
    {
      "cell_type": "code",
      "source": [
        "# number of missing data by columns\n",
        "df.isna().sum()"
      ],
      "metadata": {
        "colab": {
          "base_uri": "https://localhost:8080/"
        },
        "id": "eeY0ro_S1nII",
        "outputId": "90e8f553-6041-4389-809d-18045ca7a737"
      },
      "execution_count": null,
      "outputs": [
        {
          "output_type": "execute_result",
          "data": {
            "text/plain": [
              "loan_purpose_name              0\n",
              "loan_type_name                 0\n",
              "applicant_race_name_1          0\n",
              "action_taken_name              0\n",
              "applicant_sex_name             0\n",
              "applicant_income_000s       7911\n",
              "population                   215\n",
              "minority_population          215\n",
              "hud_median_family_income     215\n",
              "dtype: int64"
            ]
          },
          "metadata": {},
          "execution_count": 13
        }
      ]
    },
    {
      "cell_type": "code",
      "source": [
        "# total number of missing data\n",
        "df.isna().sum().sum()"
      ],
      "metadata": {
        "colab": {
          "base_uri": "https://localhost:8080/"
        },
        "id": "sdt57BjG1nLc",
        "outputId": "71ca8362-1a00-4f53-9a0c-6b3ee10c4f58"
      },
      "execution_count": null,
      "outputs": [
        {
          "output_type": "execute_result",
          "data": {
            "text/plain": [
              "8556"
            ]
          },
          "metadata": {},
          "execution_count": 14
        }
      ]
    },
    {
      "cell_type": "markdown",
      "source": [
        "### 2. Handle Missing Data"
      ],
      "metadata": {
        "id": "iPAz1tMa2cl_"
      }
    },
    {
      "cell_type": "code",
      "source": [
        "# Method 1. drop missing data\n",
        "drop_df = df.dropna(how='any')\n",
        "drop_df.shape"
      ],
      "metadata": {
        "colab": {
          "base_uri": "https://localhost:8080/"
        },
        "id": "_aPOi0EO1nOP",
        "outputId": "5dcd05a4-60ad-4107-b08f-3b67b83ed44b"
      },
      "execution_count": null,
      "outputs": [
        {
          "output_type": "execute_result",
          "data": {
            "text/plain": [
              "(41581, 9)"
            ]
          },
          "metadata": {},
          "execution_count": 15
        }
      ]
    },
    {
      "cell_type": "code",
      "source": [
        "# Method 2. fill all the NA/NaNs with some fixed value, for example 0\n",
        "fill_df = df\n",
        "fill_df.fillna(value=0, inplace = True) "
      ],
      "metadata": {
        "id": "I31XVEmF2jb3"
      },
      "execution_count": null,
      "outputs": []
    },
    {
      "cell_type": "code",
      "source": [
        "# Method 3. fill missing for selected columns with zero (or other numbers)\n",
        "partialfill_df = df\n",
        "partialfill_df[['applicant_income_000s', 'population']] = df[['applicant_income_000s', 'population']].fillna(value=0)\n"
      ],
      "metadata": {
        "id": "5o_4vgmI2j2t"
      },
      "execution_count": null,
      "outputs": []
    },
    {
      "cell_type": "code",
      "source": [
        "# Method 4. missing data for columns with ‘object’ dtypes\n",
        "obj_df = df\n",
        "obj_df['loan_purpose_name'].fillna(\"missing information\", inplace=True)"
      ],
      "metadata": {
        "id": "bW79zQgB2j5_"
      },
      "execution_count": null,
      "outputs": []
    },
    {
      "cell_type": "code",
      "source": [
        "# Method 5. ffill & bfill\n",
        "# ffill - propagates last valid observation to the next\n",
        "# bfill - uses next observation to fill gap\n",
        "ffillobj_df = df\n",
        "ffillobj_df['loan_purpose_name'].fillna(method='ffill', inplace=True)"
      ],
      "metadata": {
        "id": "ixg2J6lp2j9X"
      },
      "execution_count": null,
      "outputs": []
    },
    {
      "cell_type": "code",
      "source": [
        "# Method 6. use the mean of the column to fill the missing values\n",
        "mean_df = df\n",
        "mean_df['applicant_income_000s'].fillna(mean_df['applicant_income_000s'].mean(), inplace=True)"
      ],
      "metadata": {
        "id": "E4UHuqMW2kAI"
      },
      "execution_count": null,
      "outputs": []
    },
    {
      "cell_type": "code",
      "source": [
        "# for this exercise, let's use Method 1 (drop all missing)\n",
        "df = drop_df\n",
        "df.shape"
      ],
      "metadata": {
        "id": "sF43lzNm8fvj",
        "colab": {
          "base_uri": "https://localhost:8080/"
        },
        "outputId": "8d6bd371-f28e-471d-f614-3a8854ef02b9"
      },
      "execution_count": null,
      "outputs": [
        {
          "output_type": "execute_result",
          "data": {
            "text/plain": [
              "(41581, 9)"
            ]
          },
          "metadata": {},
          "execution_count": 21
        }
      ]
    },
    {
      "cell_type": "markdown",
      "source": [
        "## Part 5. Duplicate Data"
      ],
      "metadata": {
        "id": "qNn-Cd6s49DN"
      }
    },
    {
      "cell_type": "code",
      "source": [
        "# Find Duplicate Data\n",
        "duplicate_rows_df = df[df.duplicated()]\n",
        "duplicate_rows_df.shape"
      ],
      "metadata": {
        "colab": {
          "base_uri": "https://localhost:8080/"
        },
        "id": "47nsY9Vg1nRs",
        "outputId": "f6f02252-8e9c-4758-e0ba-89cb0fc22563"
      },
      "execution_count": null,
      "outputs": [
        {
          "output_type": "execute_result",
          "data": {
            "text/plain": [
              "(1760, 9)"
            ]
          },
          "metadata": {},
          "execution_count": 22
        }
      ]
    },
    {
      "cell_type": "code",
      "source": [
        "# duplicate data for individual column\n",
        "duplicated_rows_df_income = df[df.duplicated(['applicant_income_000s'])]\n",
        "duplicated_rows_df_income.shape"
      ],
      "metadata": {
        "colab": {
          "base_uri": "https://localhost:8080/"
        },
        "id": "AK1Ijl9s46oP",
        "outputId": "d8c79faf-3107-4a85-fbf2-e76a903872b1"
      },
      "execution_count": null,
      "outputs": [
        {
          "output_type": "execute_result",
          "data": {
            "text/plain": [
              "(40800, 9)"
            ]
          },
          "metadata": {},
          "execution_count": 23
        }
      ]
    },
    {
      "cell_type": "code",
      "source": [
        "# alternative method to check duplicate data\n",
        "len(df.applicant_income_000s.unique())"
      ],
      "metadata": {
        "colab": {
          "base_uri": "https://localhost:8080/"
        },
        "id": "8b2md6MY46uu",
        "outputId": "284c40ac-62d5-43e5-8a09-811090b52b52"
      },
      "execution_count": null,
      "outputs": [
        {
          "output_type": "execute_result",
          "data": {
            "text/plain": [
              "781"
            ]
          },
          "metadata": {},
          "execution_count": 24
        }
      ]
    },
    {
      "cell_type": "code",
      "source": [
        "# drop duplicate data\n",
        "df.drop_duplicates().shape "
      ],
      "metadata": {
        "colab": {
          "base_uri": "https://localhost:8080/"
        },
        "id": "UfaUkNQP6Fch",
        "outputId": "d9fa68f5-4490-4dd2-a452-b44461a566d7"
      },
      "execution_count": null,
      "outputs": [
        {
          "output_type": "execute_result",
          "data": {
            "text/plain": [
              "(39821, 9)"
            ]
          },
          "metadata": {},
          "execution_count": 25
        }
      ]
    },
    {
      "cell_type": "markdown",
      "source": [
        "## Part 6. Create Bins"
      ],
      "metadata": {
        "id": "1MHWYw_p6RX4"
      }
    },
    {
      "cell_type": "code",
      "source": [
        "# Based on the score [0.,30.,100.,250.], I want to put movies in different buckets [‘poor’, ‘average’, ‘rich’]. \n",
        "# As you can understand movies with score between 0–4 will be put into the ‘poor’ bucket and so on.\n",
        "op_labels = ['poor', 'average', 'rich']\n",
        "category = [0.,30.,100.,250.]\n",
        "df['wealth_level'] = pd.cut(df['applicant_income_000s'], labels=op_labels, bins=category, include_lowest=False)\n",
        "# Check bin data\n",
        "print(df[['applicant_income_000s', 'wealth_level']][209:220])"
      ],
      "metadata": {
        "colab": {
          "base_uri": "https://localhost:8080/"
        },
        "id": "F_jnjywh6Ffy",
        "outputId": "334b62c4-ccf8-4eb1-b32e-973640677e5b"
      },
      "execution_count": null,
      "outputs": [
        {
          "output_type": "stream",
          "name": "stdout",
          "text": [
            "     applicant_income_000s wealth_level\n",
            "261                   41.0      average\n",
            "263                   22.0         poor\n",
            "265                  210.0         rich\n",
            "266                  144.0         rich\n",
            "267                   73.0      average\n",
            "269                  148.0         rich\n",
            "271                   67.0      average\n",
            "272                  150.0         rich\n",
            "273                   80.0      average\n",
            "275                  140.0         rich\n",
            "276                   45.0      average\n"
          ]
        },
        {
          "output_type": "stream",
          "name": "stderr",
          "text": [
            "/usr/local/lib/python3.7/dist-packages/ipykernel_launcher.py:5: SettingWithCopyWarning: \n",
            "A value is trying to be set on a copy of a slice from a DataFrame.\n",
            "Try using .loc[row_indexer,col_indexer] = value instead\n",
            "\n",
            "See the caveats in the documentation: https://pandas.pydata.org/pandas-docs/stable/user_guide/indexing.html#returning-a-view-versus-a-copy\n",
            "  \"\"\"\n"
          ]
        }
      ]
    },
    {
      "cell_type": "markdown",
      "source": [
        "## Part 7. Detect Outliers"
      ],
      "metadata": {
        "id": "bs-lusMl6y0t"
      }
    },
    {
      "cell_type": "code",
      "source": [
        "# Box Plots\n",
        "sns.boxplot(x=df['applicant_income_000s'], color='lime')\n",
        "plt.xlabel('Income (1000)', fontsize=14)\n",
        "plt.show()"
      ],
      "metadata": {
        "colab": {
          "base_uri": "https://localhost:8080/",
          "height": 283
        },
        "id": "9R7qyjko6FjZ",
        "outputId": "2d456fc1-cbcb-4ce3-89b7-da324d3efb00"
      },
      "execution_count": null,
      "outputs": [
        {
          "output_type": "display_data",
          "data": {
            "image/png": "[encoded data removed]",
            "text/plain": [
              "<Figure size 432x288 with 1 Axes>"
            ]
          },
          "metadata": {
            "needs_background": "light"
          }
        }
      ]
    },
    {
      "cell_type": "code",
      "source": [
        "# check maximum income\n",
        "print(df[['applicant_income_000s']].iloc[df['applicant_income_000s'].idxmax()])"
      ],
      "metadata": {
        "colab": {
          "base_uri": "https://localhost:8080/"
        },
        "id": "X8ZGlLQu62Yn",
        "outputId": "2b03519e-f5fe-4b11-8c69-7c9c34208f9a"
      },
      "execution_count": null,
      "outputs": [
        {
          "output_type": "stream",
          "name": "stdout",
          "text": [
            "applicant_income_000s    50.0\n",
            "Name: 1734, dtype: float64\n"
          ]
        }
      ]
    },
    {
      "cell_type": "code",
      "source": [
        "# summary statistics\n",
        "print(df['applicant_income_000s'].describe())"
      ],
      "metadata": {
        "colab": {
          "base_uri": "https://localhost:8080/"
        },
        "id": "kWLhdO4O7RHJ",
        "outputId": "d55492ea-9f48-4cad-8659-c2a591af9879"
      },
      "execution_count": null,
      "outputs": [
        {
          "output_type": "stream",
          "name": "stdout",
          "text": [
            "count     41581.000000\n",
            "mean        108.779587\n",
            "std         729.371437\n",
            "min           1.000000\n",
            "25%          50.000000\n",
            "50%          76.000000\n",
            "75%         120.000000\n",
            "max      107000.000000\n",
            "Name: applicant_income_000s, dtype: float64\n"
          ]
        }
      ]
    },
    {
      "cell_type": "markdown",
      "source": [
        "## Part 8. Keep Only Numeric Data"
      ],
      "metadata": {
        "id": "NbeZedozBbyM"
      }
    },
    {
      "cell_type": "code",
      "source": [
        "# check data types\n",
        "df.dtypes"
      ],
      "metadata": {
        "colab": {
          "base_uri": "https://localhost:8080/"
        },
        "id": "JvEImzIf62cR",
        "outputId": "60b71be8-b2b4-453c-d5de-0dc0d227eee5"
      },
      "execution_count": null,
      "outputs": [
        {
          "output_type": "execute_result",
          "data": {
            "text/plain": [
              "loan_purpose_name             object\n",
              "loan_type_name                object\n",
              "applicant_race_name_1         object\n",
              "action_taken_name             object\n",
              "applicant_sex_name            object\n",
              "applicant_income_000s        float64\n",
              "population                   float64\n",
              "minority_population          float64\n",
              "hud_median_family_income     float64\n",
              "wealth_level                category\n",
              "dtype: object"
            ]
          },
          "metadata": {},
          "execution_count": 30
        }
      ]
    },
    {
      "cell_type": "code",
      "source": [
        "# Create a new data-frame excluding all the ‘object’ types column\n",
        "print(\"shape before :\", df.shape)\n",
        "df_numeric = df.select_dtypes(exclude=['object'])\n",
        "print(\"shape after excluding object columns: \", df_numeric.shape)"
      ],
      "metadata": {
        "colab": {
          "base_uri": "https://localhost:8080/"
        },
        "id": "oqWAskrW6Fmw",
        "outputId": "8f1817de-58b7-4e61-9c68-f2148ab83cbb"
      },
      "execution_count": null,
      "outputs": [
        {
          "output_type": "stream",
          "name": "stdout",
          "text": [
            "shape before : (41581, 10)\n",
            "shape after excluding object columns:  (41581, 5)\n"
          ]
        }
      ]
    },
    {
      "cell_type": "markdown",
      "source": [
        "## Part 8. Save Data"
      ],
      "metadata": {
        "id": "mPq8p8B5-8lb"
      }
    },
    {
      "cell_type": "code",
      "source": [
        "# Export as CSV, save on local drive\n",
        "from google.colab import files\n",
        "df_numeric.to_csv('hmda_numericonly.csv') \n",
        "files.download('hmda_numericonly.csv')"
      ],
      "metadata": {
        "colab": {
          "base_uri": "https://localhost:8080/",
          "height": 17
        },
        "id": "PG-xuUM5lGTw",
        "outputId": "c3e9f627-a81f-443d-c96a-cab4364fbe7e"
      },
      "execution_count": null,
      "outputs": [
        {
          "output_type": "display_data",
          "data": {
            "application/javascript": [
              "\n",
              "    async function download(id, filename, size) {\n",
              "      if (!google.colab.kernel.accessAllowed) {\n",
              "        return;\n",
              "      }\n",
              "      const div = document.createElement('div');\n",
              "      const label = document.createElement('label');\n",
              "      label.textContent = `Downloading \"${filename}\": `;\n",
              "      div.appendChild(label);\n",
              "      const progress = document.createElement('progress');\n",
              "      progress.max = size;\n",
              "      div.appendChild(progress);\n",
              "      document.body.appendChild(div);\n",
              "\n",
              "      const buffers = [];\n",
              "      let downloaded = 0;\n",
              "\n",
              "      const channel = await google.colab.kernel.comms.open(id);\n",
              "      // Send a message to notify the kernel that we're ready.\n",
              "      channel.send({})\n",
              "\n",
              "      for await (const message of channel.messages) {\n",
              "        // Send a message to notify the kernel that we're ready.\n",
              "        channel.send({})\n",
              "        if (message.buffers) {\n",
              "          for (const buffer of message.buffers) {\n",
              "            buffers.push(buffer);\n",
              "            downloaded += buffer.byteLength;\n",
              "            progress.value = downloaded;\n",
              "          }\n",
              "        }\n",
              "      }\n",
              "      const blob = new Blob(buffers, {type: 'application/binary'});\n",
              "      const a = document.createElement('a');\n",
              "      a.href = window.URL.createObjectURL(blob);\n",
              "      a.download = filename;\n",
              "      div.appendChild(a);\n",
              "      a.click();\n",
              "      div.remove();\n",
              "    }\n",
              "  "
            ],
            "text/plain": [
              "<IPython.core.display.Javascript object>"
            ]
          },
          "metadata": {}
        },
        {
          "output_type": "display_data",
          "data": {
            "application/javascript": [
              "download(\"download_f10c3200-07ae-4009-9e92-0c9f073bc272\", \"hmda_numericonly.csv\", 2102270)"
            ],
            "text/plain": [
              "<IPython.core.display.Javascript object>"
            ]
          },
          "metadata": {}
        }
      ]
    }
  ]
}