{
  "nbformat": 4,
  "nbformat_minor": 0,
  "metadata": {
    "colab": {
      "name": "ep19_SupervisedLearning1_CrossSection.ipynb",
      "provenance": [],
      "collapsed_sections": []
    },
    "kernelspec": {
      "name": "python3",
      "display_name": "Python 3"
    },
    "language_info": {
      "name": "python"
    }
  },
  "cells": [
    {
      "cell_type": "markdown",
      "source": [
        "# Episode 19. Supervised Learning For Cross-Sectional Analysis"
      ],
      "metadata": {
        "id": "NsxhYWy2VVtb"
      }
    },
    {
      "cell_type": "markdown",
      "source": [
        "## Data: Boston Housing Prices\n",
        "### Keras Built-in function - https://keras.io/api/datasets/boston_housing/\n",
        "### Excel file form Kaggle - https://www.kaggle.com/fedesoriano/the-boston-houseprice-data\n"
      ],
      "metadata": {
        "id": "bKOZQWNtVhxb"
      }
    },
    {
      "cell_type": "code",
      "source": [
        "### Original Data - http://lib.stat.cmu.edu/datasets/boston\n",
        "#### The Boston house-price data of Harrison, D. and Rubinfeld, D.L. 'Hedonic\n",
        "#### prices and the demand for clean air', J. Environ. Economics & Management,\n",
        "#### vol.5, 81-102, 1978.\n",
        "\n",
        "# There are 14 attributes in each case of the dataset. They are:\n",
        "# CRIM - per capita crime rate by town\n",
        "# ZN - proportion of residential land zoned for lots over 25,000 sq.ft.\n",
        "# INDUS - proportion of non-retail business acres per town.\n",
        "# CHAS - Charles River dummy variable (1 if tract bounds river; 0 otherwise)\n",
        "# NOX - nitric oxides concentration (parts per 10 million)\n",
        "# RM - average number of rooms per dwelling\n",
        "# AGE - proportion of owner-occupied units built prior to 1940\n",
        "# DIS - weighted distances to five Boston employment centres\n",
        "# RAD - index of accessibility to radial highways\n",
        "# TAX - full-value property-tax rate per $10,000\n",
        "# PTRATIO - pupil-teacher ratio by town\n",
        "# B - 1000(Bk - 0.63)^2 where Bk is the proportion of blacks by town\n",
        "# LSTAT - % lower status of the population\n",
        "# MEDV - Median value of owner-occupied homes in $1000's"
      ],
      "metadata": {
        "id": "BvervQHPVWRa"
      },
      "execution_count": null,
      "outputs": []
    },
    {
      "cell_type": "markdown",
      "source": [
        "## Step 1. Import Libraries"
      ],
      "metadata": {
        "id": "xCPH6ZnnZpvJ"
      }
    },
    {
      "cell_type": "code",
      "source": [
        "import numpy as np\n",
        "import pandas as pd\n",
        "import matplotlib.pyplot as plt\n",
        "import tensorflow as tf\n",
        "from tensorflow.keras.models import Sequential\n",
        "from tensorflow.keras.layers import Dense"
      ],
      "metadata": {
        "id": "nMZH5oWGXx1H"
      },
      "execution_count": null,
      "outputs": []
    },
    {
      "cell_type": "markdown",
      "source": [
        "## Step 2. Load Data"
      ],
      "metadata": {
        "id": "bhqWcSx5aLc9"
      }
    },
    {
      "cell_type": "code",
      "source": [
        "# Load Loan Default Data\n",
        "# Original Data Source: https://keras.io/api/datasets/boston_housing\n",
        "from google.colab import files\n",
        "uploaded = files.upload()"
      ],
      "metadata": {
        "colab": {
          "resources": {
            "http://localhost:8080/nbextensions/google.colab/files.js": {
              "data": "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",
              "ok": true,
              "headers": [
                [
                  "content-type",
                  "application/javascript"
                ]
              ],
              "status": 200,
              "status_text": ""
            }
          },
          "base_uri": "https://localhost:8080/",
          "height": 73
        },
        "id": "vY8aQ2xhaIIS",
        "outputId": "1e741eb7-e04c-40c6-84d5-1986dcd6e120"
      },
      "execution_count": null,
      "outputs": [
        {
          "output_type": "display_data",
          "data": {
            "text/html": [
              "\n",
              "     <input type=\"file\" id=\"files-de655bff-e0d9-41ac-98d9-e6c4c93e8775\" name=\"files[]\" multiple disabled\n",
              "        style=\"border:none\" />\n",
              "     <output id=\"result-de655bff-e0d9-41ac-98d9-e6c4c93e8775\">\n",
              "      Upload widget is only available when the cell has been executed in the\n",
              "      current browser session. Please rerun this cell to enable.\n",
              "      </output>\n",
              "      <script src=\"/nbextensions/google.colab/files.js\"></script> "
            ],
            "text/plain": [
              "<IPython.core.display.HTML object>"
            ]
          },
          "metadata": {}
        },
        {
          "output_type": "stream",
          "name": "stdout",
          "text": [
            "Saving boston.csv to boston (2).csv\n"
          ]
        }
      ]
    },
    {
      "cell_type": "code",
      "source": [
        "# Store data in DataFrame\n",
        "df = pd.read_csv(\"boston.csv\")"
      ],
      "metadata": {
        "id": "QzbAhYwhdlAU"
      },
      "execution_count": null,
      "outputs": []
    },
    {
      "cell_type": "markdown",
      "source": [
        "## Step 3. Check & Cleanup Data"
      ],
      "metadata": {
        "id": "4pDTQ1n4jNV-"
      }
    },
    {
      "cell_type": "code",
      "source": [
        "# check data\n",
        "print(df.keys())\n",
        "# rename columns: small letter, remove special characters and space\n",
        "df.columns = df.columns.str.lower()\n",
        "# check modified column names\n",
        "print(df.keys())"
      ],
      "metadata": {
        "colab": {
          "base_uri": "https://localhost:8080/"
        },
        "id": "1lMOzDFLjOJY",
        "outputId": "481d640f-e190-4986-fbd5-f538411910d9"
      },
      "execution_count": null,
      "outputs": [
        {
          "output_type": "stream",
          "name": "stdout",
          "text": [
            "Index(['CRIM', 'ZN', 'INDUS', 'CHAS', 'NOX', 'RM', 'AGE', 'DIS', 'RAD', 'TAX',\n",
            "       'PTRATIO', 'B', 'LSTAT', 'MEDV'],\n",
            "      dtype='object')\n",
            "Index(['crim', 'zn', 'indus', 'chas', 'nox', 'rm', 'age', 'dis', 'rad', 'tax',\n",
            "       'ptratio', 'b', 'lstat', 'medv'],\n",
            "      dtype='object')\n"
          ]
        }
      ]
    },
    {
      "cell_type": "code",
      "source": [
        "# number of missing data by columns\n",
        "print(df.isna().sum())\n",
        "# drop missing data\n",
        "drop_df = df.dropna(how='any')\n",
        "print(drop_df.shape)"
      ],
      "metadata": {
        "colab": {
          "base_uri": "https://localhost:8080/"
        },
        "id": "KeUsQeMSjcUE",
        "outputId": "a8bd061d-59f2-48a7-b855-675491bd5b75"
      },
      "execution_count": null,
      "outputs": [
        {
          "output_type": "stream",
          "name": "stdout",
          "text": [
            "crim       0\n",
            "zn         0\n",
            "indus      0\n",
            "chas       0\n",
            "nox        0\n",
            "rm         0\n",
            "age        0\n",
            "dis        0\n",
            "rad        0\n",
            "tax        0\n",
            "ptratio    0\n",
            "b          0\n",
            "lstat      0\n",
            "medv       0\n",
            "dtype: int64\n",
            "(506, 14)\n"
          ]
        }
      ]
    },
    {
      "cell_type": "code",
      "source": [
        "# Find Duplicate Data\n",
        "duplicate_rows_df = df[df.duplicated()]\n",
        "print(duplicate_rows_df.shape)\n",
        "# drop duplicate data\n",
        "print(df.drop_duplicates().shape) "
      ],
      "metadata": {
        "colab": {
          "base_uri": "https://localhost:8080/"
        },
        "id": "Z_vhWYHrjk5N",
        "outputId": "d24a0f1a-2807-4a2e-d7ab-db392442dab8"
      },
      "execution_count": null,
      "outputs": [
        {
          "output_type": "stream",
          "name": "stdout",
          "text": [
            "(0, 14)\n",
            "(506, 14)\n"
          ]
        }
      ]
    },
    {
      "cell_type": "code",
      "source": [
        "# summary statistics\n",
        "df.describe()"
      ],
      "metadata": {
        "colab": {
          "base_uri": "https://localhost:8080/",
          "height": 364
        },
        "id": "OZKAuQK8jxaR",
        "outputId": "de55dca2-9794-46d3-821d-f25192f06c7f"
      },
      "execution_count": null,
      "outputs": [
        {
          "output_type": "execute_result",
          "data": {
            "text/html": [
              "\n",
              "  <div id=\"df-c5e8740b-4128-4fec-929c-b18e6f1db08b\">\n",
              "    <div class=\"colab-df-container\">\n",
              "      <div>\n",
              "<style scoped>\n",
              "    .dataframe tbody tr th:only-of-type {\n",
              "        vertical-align: middle;\n",
              "    }\n",
              "\n",
              "    .dataframe tbody tr th {\n",
              "        vertical-align: top;\n",
              "    }\n",
              "\n",
              "    .dataframe thead th {\n",
              "        text-align: right;\n",
              "    }\n",
              "</style>\n",
              "<table border=\"1\" class=\"dataframe\">\n",
              "  <thead>\n",
              "    <tr style=\"text-align: right;\">\n",
              "      <th></th>\n",
              "      <th>crim</th>\n",
              "      <th>zn</th>\n",
              "      <th>indus</th>\n",
              "      <th>chas</th>\n",
              "      <th>nox</th>\n",
              "      <th>rm</th>\n",
              "      <th>age</th>\n",
              "      <th>dis</th>\n",
              "      <th>rad</th>\n",
              "      <th>tax</th>\n",
              "      <th>ptratio</th>\n",
              "      <th>b</th>\n",
              "      <th>lstat</th>\n",
              "      <th>medv</th>\n",
              "    </tr>\n",
              "  </thead>\n",
              "  <tbody>\n",
              "    <tr>\n",
              "      <th>count</th>\n",
              "      <td>506.000000</td>\n",
              "      <td>506.000000</td>\n",
              "      <td>506.000000</td>\n",
              "      <td>506.000000</td>\n",
              "      <td>506.000000</td>\n",
              "      <td>506.000000</td>\n",
              "      <td>506.000000</td>\n",
              "      <td>506.000000</td>\n",
              "      <td>506.000000</td>\n",
              "      <td>506.000000</td>\n",
              "      <td>506.000000</td>\n",
              "      <td>506.000000</td>\n",
              "      <td>506.000000</td>\n",
              "      <td>506.000000</td>\n",
              "    </tr>\n",
              "    <tr>\n",
              "      <th>mean</th>\n",
              "      <td>3.613524</td>\n",
              "      <td>11.363636</td>\n",
              "      <td>11.136779</td>\n",
              "      <td>0.069170</td>\n",
              "      <td>0.554695</td>\n",
              "      <td>6.284634</td>\n",
              "      <td>68.574901</td>\n",
              "      <td>3.795043</td>\n",
              "      <td>9.549407</td>\n",
              "      <td>408.237154</td>\n",
              "      <td>18.455534</td>\n",
              "      <td>356.674032</td>\n",
              "      <td>12.653063</td>\n",
              "      <td>22.532806</td>\n",
              "    </tr>\n",
              "    <tr>\n",
              "      <th>std</th>\n",
              "      <td>8.601545</td>\n",
              "      <td>23.322453</td>\n",
              "      <td>6.860353</td>\n",
              "      <td>0.253994</td>\n",
              "      <td>0.115878</td>\n",
              "      <td>0.702617</td>\n",
              "      <td>28.148861</td>\n",
              "      <td>2.105710</td>\n",
              "      <td>8.707259</td>\n",
              "      <td>168.537116</td>\n",
              "      <td>2.164946</td>\n",
              "      <td>91.294864</td>\n",
              "      <td>7.141062</td>\n",
              "      <td>9.197104</td>\n",
              "    </tr>\n",
              "    <tr>\n",
              "      <th>min</th>\n",
              "      <td>0.006320</td>\n",
              "      <td>0.000000</td>\n",
              "      <td>0.460000</td>\n",
              "      <td>0.000000</td>\n",
              "      <td>0.385000</td>\n",
              "      <td>3.561000</td>\n",
              "      <td>2.900000</td>\n",
              "      <td>1.129600</td>\n",
              "      <td>1.000000</td>\n",
              "      <td>187.000000</td>\n",
              "      <td>12.600000</td>\n",
              "      <td>0.320000</td>\n",
              "      <td>1.730000</td>\n",
              "      <td>5.000000</td>\n",
              "    </tr>\n",
              "    <tr>\n",
              "      <th>25%</th>\n",
              "      <td>0.082045</td>\n",
              "      <td>0.000000</td>\n",
              "      <td>5.190000</td>\n",
              "      <td>0.000000</td>\n",
              "      <td>0.449000</td>\n",
              "      <td>5.885500</td>\n",
              "      <td>45.025000</td>\n",
              "      <td>2.100175</td>\n",
              "      <td>4.000000</td>\n",
              "      <td>279.000000</td>\n",
              "      <td>17.400000</td>\n",
              "      <td>375.377500</td>\n",
              "      <td>6.950000</td>\n",
              "      <td>17.025000</td>\n",
              "    </tr>\n",
              "    <tr>\n",
              "      <th>50%</th>\n",
              "      <td>0.256510</td>\n",
              "      <td>0.000000</td>\n",
              "      <td>9.690000</td>\n",
              "      <td>0.000000</td>\n",
              "      <td>0.538000</td>\n",
              "      <td>6.208500</td>\n",
              "      <td>77.500000</td>\n",
              "      <td>3.207450</td>\n",
              "      <td>5.000000</td>\n",
              "      <td>330.000000</td>\n",
              "      <td>19.050000</td>\n",
              "      <td>391.440000</td>\n",
              "      <td>11.360000</td>\n",
              "      <td>21.200000</td>\n",
              "    </tr>\n",
              "    <tr>\n",
              "      <th>75%</th>\n",
              "      <td>3.677082</td>\n",
              "      <td>12.500000</td>\n",
              "      <td>18.100000</td>\n",
              "      <td>0.000000</td>\n",
              "      <td>0.624000</td>\n",
              "      <td>6.623500</td>\n",
              "      <td>94.075000</td>\n",
              "      <td>5.188425</td>\n",
              "      <td>24.000000</td>\n",
              "      <td>666.000000</td>\n",
              "      <td>20.200000</td>\n",
              "      <td>396.225000</td>\n",
              "      <td>16.955000</td>\n",
              "      <td>25.000000</td>\n",
              "    </tr>\n",
              "    <tr>\n",
              "      <th>max</th>\n",
              "      <td>88.976200</td>\n",
              "      <td>100.000000</td>\n",
              "      <td>27.740000</td>\n",
              "      <td>1.000000</td>\n",
              "      <td>0.871000</td>\n",
              "      <td>8.780000</td>\n",
              "      <td>100.000000</td>\n",
              "      <td>12.126500</td>\n",
              "      <td>24.000000</td>\n",
              "      <td>711.000000</td>\n",
              "      <td>22.000000</td>\n",
              "      <td>396.900000</td>\n",
              "      <td>37.970000</td>\n",
              "      <td>50.000000</td>\n",
              "    </tr>\n",
              "  </tbody>\n",
              "</table>\n",
              "</div>\n",
              "      <button class=\"colab-df-convert\" onclick=\"convertToInteractive('df-c5e8740b-4128-4fec-929c-b18e6f1db08b')\"\n",
              "              title=\"Convert this dataframe to an interactive table.\"\n",
              "              style=\"display:none;\">\n",
              "        \n",
              "  <svg xmlns=\"http://www.w3.org/2000/svg\" height=\"24px\"viewBox=\"0 0 24 24\"\n",
              "       width=\"24px\">\n",
              "    <path d=\"M0 0h24v24H0V0z\" fill=\"none\"/>\n",
              "    <path d=\"M18.56 5.44l.94 2.06.94-2.06 2.06-.94-2.06-.94-.94-2.06-.94 2.06-2.06.94zm-11 1L8.5 8.5l.94-2.06 2.06-.94-2.06-.94L8.5 2.5l-.94 2.06-2.06.94zm10 10l.94 2.06.94-2.06 2.06-.94-2.06-.94-.94-2.06-.94 2.06-2.06.94z\"/><path d=\"M17.41 7.96l-1.37-1.37c-.4-.4-.92-.59-1.43-.59-.52 0-1.04.2-1.43.59L10.3 9.45l-7.72 7.72c-.78.78-.78 2.05 0 2.83L4 21.41c.39.39.9.59 1.41.59.51 0 1.02-.2 1.41-.59l7.78-7.78 2.81-2.81c.8-.78.8-2.07 0-2.86zM5.41 20L4 18.59l7.72-7.72 1.47 1.35L5.41 20z\"/>\n",
              "  </svg>\n",
              "      </button>\n",
              "      \n",
              "  <style>\n",
              "    .colab-df-container {\n",
              "      display:flex;\n",
              "      flex-wrap:wrap;\n",
              "      gap: 12px;\n",
              "    }\n",
              "\n",
              "    .colab-df-convert {\n",
              "      background-color: #E8F0FE;\n",
              "      border: none;\n",
              "      border-radius: 50%;\n",
              "      cursor: pointer;\n",
              "      display: none;\n",
              "      fill: #1967D2;\n",
              "      height: 32px;\n",
              "      padding: 0 0 0 0;\n",
              "      width: 32px;\n",
              "    }\n",
              "\n",
              "    .colab-df-convert:hover {\n",
              "      background-color: #E2EBFA;\n",
              "      box-shadow: 0px 1px 2px rgba(60, 64, 67, 0.3), 0px 1px 3px 1px rgba(60, 64, 67, 0.15);\n",
              "      fill: #174EA6;\n",
              "    }\n",
              "\n",
              "    [theme=dark] .colab-df-convert {\n",
              "      background-color: #3B4455;\n",
              "      fill: #D2E3FC;\n",
              "    }\n",
              "\n",
              "    [theme=dark] .colab-df-convert:hover {\n",
              "      background-color: #434B5C;\n",
              "      box-shadow: 0px 1px 3px 1px rgba(0, 0, 0, 0.15);\n",
              "      filter: drop-shadow(0px 1px 2px rgba(0, 0, 0, 0.3));\n",
              "      fill: #FFFFFF;\n",
              "    }\n",
              "  </style>\n",
              "\n",
              "      <script>\n",
              "        const buttonEl =\n",
              "          document.querySelector('#df-c5e8740b-4128-4fec-929c-b18e6f1db08b button.colab-df-convert');\n",
              "        buttonEl.style.display =\n",
              "          google.colab.kernel.accessAllowed ? 'block' : 'none';\n",
              "\n",
              "        async function convertToInteractive(key) {\n",
              "          const element = document.querySelector('#df-c5e8740b-4128-4fec-929c-b18e6f1db08b');\n",
              "          const dataTable =\n",
              "            await google.colab.kernel.invokeFunction('convertToInteractive',\n",
              "                                                     [key], {});\n",
              "          if (!dataTable) return;\n",
              "\n",
              "          const docLinkHtml = 'Like what you see? Visit the ' +\n",
              "            '<a target=\"_blank\" href=https://colab.research.google.com/notebooks/data_table.ipynb>data table notebook</a>'\n",
              "            + ' to learn more about interactive tables.';\n",
              "          element.innerHTML = '';\n",
              "          dataTable['output_type'] = 'display_data';\n",
              "          await google.colab.output.renderOutput(dataTable, element);\n",
              "          const docLink = document.createElement('div');\n",
              "          docLink.innerHTML = docLinkHtml;\n",
              "          element.appendChild(docLink);\n",
              "        }\n",
              "      </script>\n",
              "    </div>\n",
              "  </div>\n",
              "  "
            ],
            "text/plain": [
              "             crim          zn       indus  ...           b       lstat        medv\n",
              "count  506.000000  506.000000  506.000000  ...  506.000000  506.000000  506.000000\n",
              "mean     3.613524   11.363636   11.136779  ...  356.674032   12.653063   22.532806\n",
              "std      8.601545   23.322453    6.860353  ...   91.294864    7.141062    9.197104\n",
              "min      0.006320    0.000000    0.460000  ...    0.320000    1.730000    5.000000\n",
              "25%      0.082045    0.000000    5.190000  ...  375.377500    6.950000   17.025000\n",
              "50%      0.256510    0.000000    9.690000  ...  391.440000   11.360000   21.200000\n",
              "75%      3.677082   12.500000   18.100000  ...  396.225000   16.955000   25.000000\n",
              "max     88.976200  100.000000   27.740000  ...  396.900000   37.970000   50.000000\n",
              "\n",
              "[8 rows x 14 columns]"
            ]
          },
          "metadata": {},
          "execution_count": 61
        }
      ]
    },
    {
      "cell_type": "markdown",
      "source": [
        "## Step 4. Set Training Variables"
      ],
      "metadata": {
        "id": "DgnfGz-sjo6c"
      }
    },
    {
      "cell_type": "code",
      "source": [
        "# split train & test data\n",
        "from sklearn.model_selection import train_test_split\n",
        "x = df.loc[:, df.columns != 'medv']\n",
        "y = df.loc[:, df.columns == 'medv']\n",
        "x_train, x_test, y_train, y_test = train_test_split(x, y, test_size=0.3, random_state=123)"
      ],
      "metadata": {
        "id": "18vGRi-Zjr-2"
      },
      "execution_count": null,
      "outputs": []
    },
    {
      "cell_type": "code",
      "source": [
        "# check train & test data\n",
        "print(x_train.shape)\n",
        "print(y_train.shape)\n",
        "print(x_test.shape)\n",
        "print(y_test.shape)"
      ],
      "metadata": {
        "colab": {
          "base_uri": "https://localhost:8080/"
        },
        "id": "QPiQEBiHk4Sx",
        "outputId": "cc1a2ae0-edd4-4d8d-bc9e-a7ac7027df20"
      },
      "execution_count": null,
      "outputs": [
        {
          "output_type": "stream",
          "name": "stdout",
          "text": [
            "(354, 13)\n",
            "(354, 1)\n",
            "(152, 13)\n",
            "(152, 1)\n"
          ]
        }
      ]
    },
    {
      "cell_type": "code",
      "source": [
        "# summary stats\n",
        "x_train.describe()"
      ],
      "metadata": {
        "colab": {
          "base_uri": "https://localhost:8080/",
          "height": 344
        },
        "id": "UQmLUGAwldUJ",
        "outputId": "a7597c0e-2b09-4ab3-e7a1-1dbc255b6c61"
      },
      "execution_count": null,
      "outputs": [
        {
          "output_type": "execute_result",
          "data": {
            "text/html": [
              "\n",
              "  <div id=\"df-5db5c767-5924-4616-9566-68a75f2a5360\">\n",
              "    <div class=\"colab-df-container\">\n",
              "      <div>\n",
              "<style scoped>\n",
              "    .dataframe tbody tr th:only-of-type {\n",
              "        vertical-align: middle;\n",
              "    }\n",
              "\n",
              "    .dataframe tbody tr th {\n",
              "        vertical-align: top;\n",
              "    }\n",
              "\n",
              "    .dataframe thead th {\n",
              "        text-align: right;\n",
              "    }\n",
              "</style>\n",
              "<table border=\"1\" class=\"dataframe\">\n",
              "  <thead>\n",
              "    <tr style=\"text-align: right;\">\n",
              "      <th></th>\n",
              "      <th>crim</th>\n",
              "      <th>zn</th>\n",
              "      <th>indus</th>\n",
              "      <th>chas</th>\n",
              "      <th>nox</th>\n",
              "      <th>rm</th>\n",
              "      <th>age</th>\n",
              "      <th>dis</th>\n",
              "      <th>rad</th>\n",
              "      <th>tax</th>\n",
              "      <th>ptratio</th>\n",
              "      <th>b</th>\n",
              "      <th>lstat</th>\n",
              "    </tr>\n",
              "  </thead>\n",
              "  <tbody>\n",
              "    <tr>\n",
              "      <th>count</th>\n",
              "      <td>354.000000</td>\n",
              "      <td>354.000000</td>\n",
              "      <td>354.000000</td>\n",
              "      <td>354.000000</td>\n",
              "      <td>354.000000</td>\n",
              "      <td>354.000000</td>\n",
              "      <td>354.000000</td>\n",
              "      <td>354.000000</td>\n",
              "      <td>354.000000</td>\n",
              "      <td>354.000000</td>\n",
              "      <td>354.000000</td>\n",
              "      <td>354.000000</td>\n",
              "      <td>354.000000</td>\n",
              "    </tr>\n",
              "    <tr>\n",
              "      <th>mean</th>\n",
              "      <td>3.515843</td>\n",
              "      <td>11.432203</td>\n",
              "      <td>10.889379</td>\n",
              "      <td>0.059322</td>\n",
              "      <td>0.550042</td>\n",
              "      <td>6.314153</td>\n",
              "      <td>67.660734</td>\n",
              "      <td>3.853660</td>\n",
              "      <td>9.214689</td>\n",
              "      <td>401.550847</td>\n",
              "      <td>18.441525</td>\n",
              "      <td>360.450537</td>\n",
              "      <td>12.592599</td>\n",
              "    </tr>\n",
              "    <tr>\n",
              "      <th>std</th>\n",
              "      <td>9.203000</td>\n",
              "      <td>22.989767</td>\n",
              "      <td>6.839935</td>\n",
              "      <td>0.236561</td>\n",
              "      <td>0.113865</td>\n",
              "      <td>0.708672</td>\n",
              "      <td>28.354127</td>\n",
              "      <td>2.127925</td>\n",
              "      <td>8.451106</td>\n",
              "      <td>166.332065</td>\n",
              "      <td>2.133292</td>\n",
              "      <td>87.909480</td>\n",
              "      <td>7.222552</td>\n",
              "    </tr>\n",
              "    <tr>\n",
              "      <th>min</th>\n",
              "      <td>0.013010</td>\n",
              "      <td>0.000000</td>\n",
              "      <td>0.460000</td>\n",
              "      <td>0.000000</td>\n",
              "      <td>0.392000</td>\n",
              "      <td>3.561000</td>\n",
              "      <td>6.000000</td>\n",
              "      <td>1.169100</td>\n",
              "      <td>1.000000</td>\n",
              "      <td>187.000000</td>\n",
              "      <td>12.600000</td>\n",
              "      <td>0.320000</td>\n",
              "      <td>1.730000</td>\n",
              "    </tr>\n",
              "    <tr>\n",
              "      <th>25%</th>\n",
              "      <td>0.080573</td>\n",
              "      <td>0.000000</td>\n",
              "      <td>5.145000</td>\n",
              "      <td>0.000000</td>\n",
              "      <td>0.448250</td>\n",
              "      <td>5.926500</td>\n",
              "      <td>42.325000</td>\n",
              "      <td>2.113700</td>\n",
              "      <td>4.000000</td>\n",
              "      <td>277.000000</td>\n",
              "      <td>17.400000</td>\n",
              "      <td>377.255000</td>\n",
              "      <td>6.877500</td>\n",
              "    </tr>\n",
              "    <tr>\n",
              "      <th>50%</th>\n",
              "      <td>0.223250</td>\n",
              "      <td>0.000000</td>\n",
              "      <td>8.560000</td>\n",
              "      <td>0.000000</td>\n",
              "      <td>0.524000</td>\n",
              "      <td>6.214000</td>\n",
              "      <td>76.500000</td>\n",
              "      <td>3.294800</td>\n",
              "      <td>5.000000</td>\n",
              "      <td>329.000000</td>\n",
              "      <td>18.950000</td>\n",
              "      <td>392.215000</td>\n",
              "      <td>10.805000</td>\n",
              "    </tr>\n",
              "    <tr>\n",
              "      <th>75%</th>\n",
              "      <td>2.662860</td>\n",
              "      <td>19.375000</td>\n",
              "      <td>18.100000</td>\n",
              "      <td>0.000000</td>\n",
              "      <td>0.624000</td>\n",
              "      <td>6.634000</td>\n",
              "      <td>92.975000</td>\n",
              "      <td>5.226975</td>\n",
              "      <td>8.000000</td>\n",
              "      <td>666.000000</td>\n",
              "      <td>20.200000</td>\n",
              "      <td>396.295000</td>\n",
              "      <td>17.117500</td>\n",
              "    </tr>\n",
              "    <tr>\n",
              "      <th>max</th>\n",
              "      <td>88.976200</td>\n",
              "      <td>100.000000</td>\n",
              "      <td>27.740000</td>\n",
              "      <td>1.000000</td>\n",
              "      <td>0.871000</td>\n",
              "      <td>8.725000</td>\n",
              "      <td>100.000000</td>\n",
              "      <td>12.126500</td>\n",
              "      <td>24.000000</td>\n",
              "      <td>711.000000</td>\n",
              "      <td>22.000000</td>\n",
              "      <td>396.900000</td>\n",
              "      <td>36.980000</td>\n",
              "    </tr>\n",
              "  </tbody>\n",
              "</table>\n",
              "</div>\n",
              "      <button class=\"colab-df-convert\" onclick=\"convertToInteractive('df-5db5c767-5924-4616-9566-68a75f2a5360')\"\n",
              "              title=\"Convert this dataframe to an interactive table.\"\n",
              "              style=\"display:none;\">\n",
              "        \n",
              "  <svg xmlns=\"http://www.w3.org/2000/svg\" height=\"24px\"viewBox=\"0 0 24 24\"\n",
              "       width=\"24px\">\n",
              "    <path d=\"M0 0h24v24H0V0z\" fill=\"none\"/>\n",
              "    <path d=\"M18.56 5.44l.94 2.06.94-2.06 2.06-.94-2.06-.94-.94-2.06-.94 2.06-2.06.94zm-11 1L8.5 8.5l.94-2.06 2.06-.94-2.06-.94L8.5 2.5l-.94 2.06-2.06.94zm10 10l.94 2.06.94-2.06 2.06-.94-2.06-.94-.94-2.06-.94 2.06-2.06.94z\"/><path d=\"M17.41 7.96l-1.37-1.37c-.4-.4-.92-.59-1.43-.59-.52 0-1.04.2-1.43.59L10.3 9.45l-7.72 7.72c-.78.78-.78 2.05 0 2.83L4 21.41c.39.39.9.59 1.41.59.51 0 1.02-.2 1.41-.59l7.78-7.78 2.81-2.81c.8-.78.8-2.07 0-2.86zM5.41 20L4 18.59l7.72-7.72 1.47 1.35L5.41 20z\"/>\n",
              "  </svg>\n",
              "      </button>\n",
              "      \n",
              "  <style>\n",
              "    .colab-df-container {\n",
              "      display:flex;\n",
              "      flex-wrap:wrap;\n",
              "      gap: 12px;\n",
              "    }\n",
              "\n",
              "    .colab-df-convert {\n",
              "      background-color: #E8F0FE;\n",
              "      border: none;\n",
              "      border-radius: 50%;\n",
              "      cursor: pointer;\n",
              "      display: none;\n",
              "      fill: #1967D2;\n",
              "      height: 32px;\n",
              "      padding: 0 0 0 0;\n",
              "      width: 32px;\n",
              "    }\n",
              "\n",
              "    .colab-df-convert:hover {\n",
              "      background-color: #E2EBFA;\n",
              "      box-shadow: 0px 1px 2px rgba(60, 64, 67, 0.3), 0px 1px 3px 1px rgba(60, 64, 67, 0.15);\n",
              "      fill: #174EA6;\n",
              "    }\n",
              "\n",
              "    [theme=dark] .colab-df-convert {\n",
              "      background-color: #3B4455;\n",
              "      fill: #D2E3FC;\n",
              "    }\n",
              "\n",
              "    [theme=dark] .colab-df-convert:hover {\n",
              "      background-color: #434B5C;\n",
              "      box-shadow: 0px 1px 3px 1px rgba(0, 0, 0, 0.15);\n",
              "      filter: drop-shadow(0px 1px 2px rgba(0, 0, 0, 0.3));\n",
              "      fill: #FFFFFF;\n",
              "    }\n",
              "  </style>\n",
              "\n",
              "      <script>\n",
              "        const buttonEl =\n",
              "          document.querySelector('#df-5db5c767-5924-4616-9566-68a75f2a5360 button.colab-df-convert');\n",
              "        buttonEl.style.display =\n",
              "          google.colab.kernel.accessAllowed ? 'block' : 'none';\n",
              "\n",
              "        async function convertToInteractive(key) {\n",
              "          const element = document.querySelector('#df-5db5c767-5924-4616-9566-68a75f2a5360');\n",
              "          const dataTable =\n",
              "            await google.colab.kernel.invokeFunction('convertToInteractive',\n",
              "                                                     [key], {});\n",
              "          if (!dataTable) return;\n",
              "\n",
              "          const docLinkHtml = 'Like what you see? Visit the ' +\n",
              "            '<a target=\"_blank\" href=https://colab.research.google.com/notebooks/data_table.ipynb>data table notebook</a>'\n",
              "            + ' to learn more about interactive tables.';\n",
              "          element.innerHTML = '';\n",
              "          dataTable['output_type'] = 'display_data';\n",
              "          await google.colab.output.renderOutput(dataTable, element);\n",
              "          const docLink = document.createElement('div');\n",
              "          docLink.innerHTML = docLinkHtml;\n",
              "          element.appendChild(docLink);\n",
              "        }\n",
              "      </script>\n",
              "    </div>\n",
              "  </div>\n",
              "  "
            ],
            "text/plain": [
              "             crim          zn       indus  ...     ptratio           b       lstat\n",
              "count  354.000000  354.000000  354.000000  ...  354.000000  354.000000  354.000000\n",
              "mean     3.515843   11.432203   10.889379  ...   18.441525  360.450537   12.592599\n",
              "std      9.203000   22.989767    6.839935  ...    2.133292   87.909480    7.222552\n",
              "min      0.013010    0.000000    0.460000  ...   12.600000    0.320000    1.730000\n",
              "25%      0.080573    0.000000    5.145000  ...   17.400000  377.255000    6.877500\n",
              "50%      0.223250    0.000000    8.560000  ...   18.950000  392.215000   10.805000\n",
              "75%      2.662860   19.375000   18.100000  ...   20.200000  396.295000   17.117500\n",
              "max     88.976200  100.000000   27.740000  ...   22.000000  396.900000   36.980000\n",
              "\n",
              "[8 rows x 13 columns]"
            ]
          },
          "metadata": {},
          "execution_count": 64
        }
      ]
    },
    {
      "cell_type": "code",
      "source": [
        "# standardize data\n",
        "mean = x_train.mean(axis=0)\n",
        "std = x_train.std(axis=0)\n",
        "x_train = (x_train - mean) / std\n",
        "x_test = (x_test - mean) / std"
      ],
      "metadata": {
        "id": "CxD-PO_Vlut3"
      },
      "execution_count": null,
      "outputs": []
    },
    {
      "cell_type": "code",
      "source": [
        "# check mean\n",
        "print(x_train.mean(axis=0))\n",
        "print(x_test.mean(axis=0))"
      ],
      "metadata": {
        "colab": {
          "base_uri": "https://localhost:8080/"
        },
        "id": "WhMjB-gYnCSZ",
        "outputId": "0b56a559-469e-46d7-d25e-226cebfe76af"
      },
      "execution_count": null,
      "outputs": [
        {
          "output_type": "stream",
          "name": "stdout",
          "text": [
            "crim      -5.139486e-17\n",
            "zn        -6.742880e-17\n",
            "indus      3.329415e-15\n",
            "chas      -3.362031e-16\n",
            "nox        1.761303e-15\n",
            "rm         2.008437e-15\n",
            "age        4.522434e-16\n",
            "dis       -5.582477e-16\n",
            "rad       -5.394304e-17\n",
            "tax       -3.261672e-17\n",
            "ptratio    1.712378e-14\n",
            "b          7.638232e-15\n",
            "lstat      7.849967e-16\n",
            "dtype: float64\n",
            "crim       0.035334\n",
            "zn        -0.009929\n",
            "indus      0.120408\n",
            "chas       0.138583\n",
            "nox        0.136033\n",
            "rm        -0.138660\n",
            "age        0.107329\n",
            "dis       -0.091702\n",
            "rad        0.131848\n",
            "tax        0.133819\n",
            "ptratio    0.021859\n",
            "b         -0.143008\n",
            "lstat      0.027869\n",
            "dtype: float64\n"
          ]
        }
      ]
    },
    {
      "cell_type": "code",
      "source": [
        "# check std\n",
        "print(x_train.std(axis=0))\n",
        "print(x_test.std(axis=0))"
      ],
      "metadata": {
        "colab": {
          "base_uri": "https://localhost:8080/"
        },
        "id": "zzWHDO5yoEyR",
        "outputId": "7f33350b-2eb5-4fad-d5d7-6424f3aae962"
      },
      "execution_count": null,
      "outputs": [
        {
          "output_type": "stream",
          "name": "stdout",
          "text": [
            "crim       1.0\n",
            "zn         1.0\n",
            "indus      1.0\n",
            "chas       1.0\n",
            "nox        1.0\n",
            "rm         1.0\n",
            "age        1.0\n",
            "dis        1.0\n",
            "rad        1.0\n",
            "tax        1.0\n",
            "ptratio    1.0\n",
            "b          1.0\n",
            "lstat      1.0\n",
            "dtype: float64\n",
            "crim       0.763473\n",
            "zn         1.050736\n",
            "indus      1.008171\n",
            "chas       1.226452\n",
            "nox        1.054913\n",
            "rm         0.967565\n",
            "age        0.974814\n",
            "dis        0.965007\n",
            "rad        1.095531\n",
            "tax        1.040803\n",
            "ptratio    1.051794\n",
            "b          1.120162\n",
            "lstat      0.964901\n",
            "dtype: float64\n"
          ]
        }
      ]
    },
    {
      "cell_type": "code",
      "source": [
        "# check size\n",
        "print(x_train.shape)"
      ],
      "metadata": {
        "colab": {
          "base_uri": "https://localhost:8080/"
        },
        "id": "B1kuKqNHoGkA",
        "outputId": "38ff55eb-40d1-4993-8281-ef4e314828eb"
      },
      "execution_count": null,
      "outputs": [
        {
          "output_type": "stream",
          "name": "stdout",
          "text": [
            "(354, 13)\n"
          ]
        }
      ]
    },
    {
      "cell_type": "markdown",
      "source": [
        "## Step 5. Neural Network - Sequential"
      ],
      "metadata": {
        "id": "FOodl9Zen8x-"
      }
    },
    {
      "cell_type": "markdown",
      "source": [
        "### (1) Define Neural Network"
      ],
      "metadata": {
        "id": "yqpLfPwWodew"
      }
    },
    {
      "cell_type": "code",
      "source": [
        "model = Sequential()\n",
        "model.add(Dense(128, input_dim=13, activation='relu'))\n",
        "model.add(Dense(64, activation='relu'))\n",
        "model.add(Dense(1, activation='linear'))"
      ],
      "metadata": {
        "id": "gaDiQ2p_nGx5"
      },
      "execution_count": null,
      "outputs": []
    },
    {
      "cell_type": "markdown",
      "source": [
        "### (2) Compile the keras model"
      ],
      "metadata": {
        "id": "2bpec2_JoY_M"
      }
    },
    {
      "cell_type": "code",
      "source": [
        "model.compile(optimizer='adam', loss='mse', metrics=['mae'])\n",
        "model.summary()"
      ],
      "metadata": {
        "colab": {
          "base_uri": "https://localhost:8080/"
        },
        "id": "7P0MlgGqogTh",
        "outputId": "6ce76422-20c9-4981-fa53-09efc0995041"
      },
      "execution_count": null,
      "outputs": [
        {
          "output_type": "stream",
          "name": "stdout",
          "text": [
            "Model: \"sequential_1\"\n",
            "_________________________________________________________________\n",
            " Layer (type)                Output Shape              Param #   \n",
            "=================================================================\n",
            " dense_3 (Dense)             (None, 128)               1792      \n",
            "                                                                 \n",
            " dense_4 (Dense)             (None, 64)                8256      \n",
            "                                                                 \n",
            " dense_5 (Dense)             (None, 1)                 65        \n",
            "                                                                 \n",
            "=================================================================\n",
            "Total params: 10,113\n",
            "Trainable params: 10,113\n",
            "Non-trainable params: 0\n",
            "_________________________________________________________________\n"
          ]
        }
      ]
    },
    {
      "cell_type": "markdown",
      "source": [
        "### (3) Fit the keras model on the dataset"
      ],
      "metadata": {
        "id": "s7ctkI6toiJy"
      }
    },
    {
      "cell_type": "code",
      "source": [
        "history = model.fit(x_train, y_train, epochs=100, validation_split=0.05)"
      ],
      "metadata": {
        "colab": {
          "base_uri": "https://localhost:8080/"
        },
        "id": "oO8E6oo_oj-U",
        "outputId": "7d30a6ee-3889-4ff3-8f73-9153e7c332c2"
      },
      "execution_count": null,
      "outputs": [
        {
          "output_type": "stream",
          "name": "stdout",
          "text": [
            "Epoch 1/100\n",
            "11/11 [==============================] - 1s 18ms/step - loss: 569.4130 - mae: 22.0110 - val_loss: 569.9194 - val_mae: 22.0467\n",
            "Epoch 2/100\n",
            "11/11 [==============================] - 0s 4ms/step - loss: 501.5987 - mae: 20.4821 - val_loss: 495.0259 - val_mae: 20.4408\n",
            "Epoch 3/100\n",
            "11/11 [==============================] - 0s 3ms/step - loss: 415.2375 - mae: 18.4192 - val_loss: 393.2456 - val_mae: 18.0741\n",
            "Epoch 4/100\n",
            "11/11 [==============================] - 0s 4ms/step - loss: 301.3902 - mae: 15.4155 - val_loss: 268.8671 - val_mae: 14.6659\n",
            "Epoch 5/100\n",
            "11/11 [==============================] - 0s 3ms/step - loss: 182.1163 - mae: 11.4325 - val_loss: 147.5909 - val_mae: 10.2943\n",
            "Epoch 6/100\n",
            "11/11 [==============================] - 0s 4ms/step - loss: 88.2711 - mae: 7.4801 - val_loss: 74.0901 - val_mae: 7.0475\n",
            "Epoch 7/100\n",
            "11/11 [==============================] - 0s 4ms/step - loss: 52.1455 - mae: 5.5227 - val_loss: 46.9113 - val_mae: 5.3317\n",
            "Epoch 8/100\n",
            "11/11 [==============================] - 0s 3ms/step - loss: 38.6141 - mae: 4.6994 - val_loss: 33.4889 - val_mae: 4.3330\n",
            "Epoch 9/100\n",
            "11/11 [==============================] - 0s 4ms/step - loss: 28.6369 - mae: 3.9526 - val_loss: 26.6994 - val_mae: 3.6056\n",
            "Epoch 10/100\n",
            "11/11 [==============================] - 0s 3ms/step - loss: 24.2197 - mae: 3.5891 - val_loss: 22.5322 - val_mae: 3.2295\n",
            "Epoch 11/100\n",
            "11/11 [==============================] - 0s 4ms/step - loss: 22.1131 - mae: 3.4260 - val_loss: 20.0676 - val_mae: 2.9898\n",
            "Epoch 12/100\n",
            "11/11 [==============================] - 0s 4ms/step - loss: 20.8225 - mae: 3.3298 - val_loss: 19.0134 - val_mae: 2.8736\n",
            "Epoch 13/100\n",
            "11/11 [==============================] - 0s 4ms/step - loss: 19.8392 - mae: 3.2369 - val_loss: 18.2458 - val_mae: 2.8450\n",
            "Epoch 14/100\n",
            "11/11 [==============================] - 0s 5ms/step - loss: 19.0019 - mae: 3.1548 - val_loss: 17.5861 - val_mae: 2.8312\n",
            "Epoch 15/100\n",
            "11/11 [==============================] - 0s 3ms/step - loss: 18.2566 - mae: 3.0905 - val_loss: 16.6255 - val_mae: 2.7656\n",
            "Epoch 16/100\n",
            "11/11 [==============================] - 0s 3ms/step - loss: 17.6415 - mae: 3.0213 - val_loss: 15.9177 - val_mae: 2.7302\n",
            "Epoch 17/100\n",
            "11/11 [==============================] - 0s 4ms/step - loss: 17.0052 - mae: 2.9862 - val_loss: 15.1301 - val_mae: 2.6712\n",
            "Epoch 18/100\n",
            "11/11 [==============================] - 0s 4ms/step - loss: 16.4785 - mae: 2.9359 - val_loss: 14.6903 - val_mae: 2.6578\n",
            "Epoch 19/100\n",
            "11/11 [==============================] - 0s 4ms/step - loss: 16.0545 - mae: 2.9005 - val_loss: 14.0570 - val_mae: 2.5974\n",
            "Epoch 20/100\n",
            "11/11 [==============================] - 0s 5ms/step - loss: 15.5688 - mae: 2.8692 - val_loss: 13.5237 - val_mae: 2.5432\n",
            "Epoch 21/100\n",
            "11/11 [==============================] - 0s 4ms/step - loss: 15.0239 - mae: 2.8058 - val_loss: 13.1381 - val_mae: 2.5287\n",
            "Epoch 22/100\n",
            "11/11 [==============================] - 0s 4ms/step - loss: 14.6474 - mae: 2.7518 - val_loss: 12.5938 - val_mae: 2.4714\n",
            "Epoch 23/100\n",
            "11/11 [==============================] - 0s 4ms/step - loss: 14.3202 - mae: 2.7214 - val_loss: 12.0065 - val_mae: 2.4658\n",
            "Epoch 24/100\n",
            "11/11 [==============================] - 0s 4ms/step - loss: 13.9588 - mae: 2.6633 - val_loss: 11.5709 - val_mae: 2.4865\n",
            "Epoch 25/100\n",
            "11/11 [==============================] - 0s 4ms/step - loss: 13.7874 - mae: 2.6554 - val_loss: 11.3217 - val_mae: 2.5127\n",
            "Epoch 26/100\n",
            "11/11 [==============================] - 0s 5ms/step - loss: 13.3967 - mae: 2.6277 - val_loss: 10.8878 - val_mae: 2.4985\n",
            "Epoch 27/100\n",
            "11/11 [==============================] - 0s 4ms/step - loss: 13.0429 - mae: 2.5706 - val_loss: 10.5874 - val_mae: 2.4913\n",
            "Epoch 28/100\n",
            "11/11 [==============================] - 0s 4ms/step - loss: 12.8557 - mae: 2.5659 - val_loss: 10.1490 - val_mae: 2.4201\n",
            "Epoch 29/100\n",
            "11/11 [==============================] - 0s 6ms/step - loss: 12.8310 - mae: 2.5559 - val_loss: 10.1066 - val_mae: 2.5032\n",
            "Epoch 30/100\n",
            "11/11 [==============================] - 0s 4ms/step - loss: 12.3651 - mae: 2.4887 - val_loss: 9.7068 - val_mae: 2.4346\n",
            "Epoch 31/100\n",
            "11/11 [==============================] - 0s 4ms/step - loss: 12.1317 - mae: 2.4790 - val_loss: 9.6059 - val_mae: 2.4598\n",
            "Epoch 32/100\n",
            "11/11 [==============================] - 0s 4ms/step - loss: 11.8770 - mae: 2.4608 - val_loss: 9.7404 - val_mae: 2.5013\n",
            "Epoch 33/100\n",
            "11/11 [==============================] - 0s 4ms/step - loss: 11.8201 - mae: 2.4901 - val_loss: 9.4897 - val_mae: 2.4391\n",
            "Epoch 34/100\n",
            "11/11 [==============================] - 0s 4ms/step - loss: 11.5813 - mae: 2.3982 - val_loss: 9.1649 - val_mae: 2.4265\n",
            "Epoch 35/100\n",
            "11/11 [==============================] - 0s 4ms/step - loss: 11.4052 - mae: 2.3647 - val_loss: 8.8197 - val_mae: 2.3179\n",
            "Epoch 36/100\n",
            "11/11 [==============================] - 0s 4ms/step - loss: 11.2828 - mae: 2.3994 - val_loss: 9.2925 - val_mae: 2.4712\n",
            "Epoch 37/100\n",
            "11/11 [==============================] - 0s 4ms/step - loss: 10.9938 - mae: 2.3688 - val_loss: 8.9256 - val_mae: 2.4058\n",
            "Epoch 38/100\n",
            "11/11 [==============================] - 0s 4ms/step - loss: 10.9256 - mae: 2.3389 - val_loss: 8.5048 - val_mae: 2.3650\n",
            "Epoch 39/100\n",
            "11/11 [==============================] - 0s 4ms/step - loss: 10.6609 - mae: 2.3048 - val_loss: 8.6336 - val_mae: 2.3930\n",
            "Epoch 40/100\n",
            "11/11 [==============================] - 0s 4ms/step - loss: 10.5476 - mae: 2.2965 - val_loss: 8.5042 - val_mae: 2.3628\n",
            "Epoch 41/100\n",
            "11/11 [==============================] - 0s 4ms/step - loss: 10.4390 - mae: 2.2847 - val_loss: 8.6939 - val_mae: 2.3841\n",
            "Epoch 42/100\n",
            "11/11 [==============================] - 0s 4ms/step - loss: 10.2722 - mae: 2.2732 - val_loss: 8.7701 - val_mae: 2.4016\n",
            "Epoch 43/100\n",
            "11/11 [==============================] - 0s 4ms/step - loss: 10.1778 - mae: 2.2622 - val_loss: 8.4745 - val_mae: 2.3679\n",
            "Epoch 44/100\n",
            "11/11 [==============================] - 0s 4ms/step - loss: 10.0577 - mae: 2.2575 - val_loss: 8.2996 - val_mae: 2.3286\n",
            "Epoch 45/100\n",
            "11/11 [==============================] - 0s 4ms/step - loss: 9.9617 - mae: 2.2286 - val_loss: 8.2531 - val_mae: 2.3211\n",
            "Epoch 46/100\n",
            "11/11 [==============================] - 0s 4ms/step - loss: 9.8996 - mae: 2.2252 - val_loss: 8.6527 - val_mae: 2.3583\n",
            "Epoch 47/100\n",
            "11/11 [==============================] - 0s 4ms/step - loss: 9.7396 - mae: 2.2165 - val_loss: 8.2571 - val_mae: 2.3058\n",
            "Epoch 48/100\n",
            "11/11 [==============================] - 0s 4ms/step - loss: 9.7013 - mae: 2.1995 - val_loss: 8.3828 - val_mae: 2.3243\n",
            "Epoch 49/100\n",
            "11/11 [==============================] - 0s 4ms/step - loss: 9.6195 - mae: 2.1907 - val_loss: 8.4611 - val_mae: 2.3295\n",
            "Epoch 50/100\n",
            "11/11 [==============================] - 0s 4ms/step - loss: 9.7349 - mae: 2.2380 - val_loss: 8.9745 - val_mae: 2.4031\n",
            "Epoch 51/100\n",
            "11/11 [==============================] - 0s 4ms/step - loss: 9.4314 - mae: 2.1727 - val_loss: 8.3317 - val_mae: 2.3005\n",
            "Epoch 52/100\n",
            "11/11 [==============================] - 0s 4ms/step - loss: 9.4005 - mae: 2.1753 - val_loss: 8.6468 - val_mae: 2.3378\n",
            "Epoch 53/100\n",
            "11/11 [==============================] - 0s 4ms/step - loss: 9.2762 - mae: 2.1622 - val_loss: 8.5225 - val_mae: 2.2956\n",
            "Epoch 54/100\n",
            "11/11 [==============================] - 0s 5ms/step - loss: 9.1704 - mae: 2.1479 - val_loss: 8.7777 - val_mae: 2.3156\n",
            "Epoch 55/100\n",
            "11/11 [==============================] - 0s 4ms/step - loss: 9.1706 - mae: 2.1467 - val_loss: 8.5676 - val_mae: 2.2930\n",
            "Epoch 56/100\n",
            "11/11 [==============================] - 0s 4ms/step - loss: 9.1105 - mae: 2.1421 - val_loss: 8.5806 - val_mae: 2.2970\n",
            "Epoch 57/100\n",
            "11/11 [==============================] - 0s 4ms/step - loss: 9.0966 - mae: 2.1557 - val_loss: 8.7909 - val_mae: 2.3039\n",
            "Epoch 58/100\n",
            "11/11 [==============================] - 0s 4ms/step - loss: 9.0983 - mae: 2.1131 - val_loss: 8.5567 - val_mae: 2.2809\n",
            "Epoch 59/100\n",
            "11/11 [==============================] - 0s 4ms/step - loss: 9.0328 - mae: 2.1594 - val_loss: 9.1751 - val_mae: 2.3486\n",
            "Epoch 60/100\n",
            "11/11 [==============================] - 0s 4ms/step - loss: 8.8603 - mae: 2.1030 - val_loss: 8.4285 - val_mae: 2.2390\n",
            "Epoch 61/100\n",
            "11/11 [==============================] - 0s 4ms/step - loss: 8.8010 - mae: 2.1126 - val_loss: 9.9316 - val_mae: 2.3979\n",
            "Epoch 62/100\n",
            "11/11 [==============================] - 0s 5ms/step - loss: 8.7532 - mae: 2.1170 - val_loss: 9.2312 - val_mae: 2.3253\n",
            "Epoch 63/100\n",
            "11/11 [==============================] - 0s 4ms/step - loss: 8.6025 - mae: 2.0854 - val_loss: 9.0302 - val_mae: 2.2943\n",
            "Epoch 64/100\n",
            "11/11 [==============================] - 0s 4ms/step - loss: 8.7524 - mae: 2.0910 - val_loss: 8.7593 - val_mae: 2.2300\n",
            "Epoch 65/100\n",
            "11/11 [==============================] - 0s 3ms/step - loss: 8.5927 - mae: 2.0882 - val_loss: 10.3075 - val_mae: 2.3893\n",
            "Epoch 66/100\n",
            "11/11 [==============================] - 0s 4ms/step - loss: 8.5124 - mae: 2.0804 - val_loss: 9.5390 - val_mae: 2.3013\n",
            "Epoch 67/100\n",
            "11/11 [==============================] - 0s 4ms/step - loss: 8.4827 - mae: 2.0531 - val_loss: 8.7050 - val_mae: 2.2047\n",
            "Epoch 68/100\n",
            "11/11 [==============================] - 0s 3ms/step - loss: 8.5657 - mae: 2.0769 - val_loss: 10.6960 - val_mae: 2.4129\n",
            "Epoch 69/100\n",
            "11/11 [==============================] - 0s 4ms/step - loss: 8.3665 - mae: 2.0867 - val_loss: 9.9912 - val_mae: 2.3480\n",
            "Epoch 70/100\n",
            "11/11 [==============================] - 0s 4ms/step - loss: 8.2763 - mae: 2.0497 - val_loss: 9.4339 - val_mae: 2.2590\n",
            "Epoch 71/100\n",
            "11/11 [==============================] - 0s 4ms/step - loss: 8.4645 - mae: 2.0439 - val_loss: 8.9597 - val_mae: 2.2022\n",
            "Epoch 72/100\n",
            "11/11 [==============================] - 0s 4ms/step - loss: 8.2222 - mae: 2.0583 - val_loss: 10.7636 - val_mae: 2.4066\n",
            "Epoch 73/100\n",
            "11/11 [==============================] - 0s 4ms/step - loss: 8.1594 - mae: 2.0488 - val_loss: 9.9038 - val_mae: 2.2886\n",
            "Epoch 74/100\n",
            "11/11 [==============================] - 0s 4ms/step - loss: 8.1323 - mae: 2.0244 - val_loss: 9.6852 - val_mae: 2.2566\n",
            "Epoch 75/100\n",
            "11/11 [==============================] - 0s 4ms/step - loss: 8.0681 - mae: 2.0197 - val_loss: 10.1671 - val_mae: 2.3094\n",
            "Epoch 76/100\n",
            "11/11 [==============================] - 0s 4ms/step - loss: 8.1170 - mae: 2.0392 - val_loss: 10.6812 - val_mae: 2.3196\n",
            "Epoch 77/100\n",
            "11/11 [==============================] - 0s 4ms/step - loss: 7.9809 - mae: 2.0216 - val_loss: 10.1148 - val_mae: 2.3164\n",
            "Epoch 78/100\n",
            "11/11 [==============================] - 0s 4ms/step - loss: 7.9452 - mae: 2.0101 - val_loss: 10.1464 - val_mae: 2.3029\n",
            "Epoch 79/100\n",
            "11/11 [==============================] - 0s 4ms/step - loss: 7.8944 - mae: 1.9949 - val_loss: 10.4217 - val_mae: 2.2865\n",
            "Epoch 80/100\n",
            "11/11 [==============================] - 0s 4ms/step - loss: 7.8842 - mae: 2.0044 - val_loss: 10.9222 - val_mae: 2.3341\n",
            "Epoch 81/100\n",
            "11/11 [==============================] - 0s 4ms/step - loss: 7.8819 - mae: 2.0036 - val_loss: 10.3135 - val_mae: 2.2450\n",
            "Epoch 82/100\n",
            "11/11 [==============================] - 0s 4ms/step - loss: 7.9199 - mae: 2.0233 - val_loss: 11.0921 - val_mae: 2.3310\n",
            "Epoch 83/100\n",
            "11/11 [==============================] - 0s 5ms/step - loss: 7.8461 - mae: 1.9951 - val_loss: 10.9944 - val_mae: 2.3038\n",
            "Epoch 84/100\n",
            "11/11 [==============================] - 0s 4ms/step - loss: 7.7521 - mae: 2.0001 - val_loss: 11.2984 - val_mae: 2.3421\n",
            "Epoch 85/100\n",
            "11/11 [==============================] - 0s 4ms/step - loss: 7.9205 - mae: 1.9958 - val_loss: 11.1994 - val_mae: 2.2762\n",
            "Epoch 86/100\n",
            "11/11 [==============================] - 0s 4ms/step - loss: 7.7527 - mae: 2.0028 - val_loss: 11.9353 - val_mae: 2.4298\n",
            "Epoch 87/100\n",
            "11/11 [==============================] - 0s 4ms/step - loss: 7.6522 - mae: 1.9752 - val_loss: 10.4307 - val_mae: 2.2155\n",
            "Epoch 88/100\n",
            "11/11 [==============================] - 0s 4ms/step - loss: 7.6847 - mae: 1.9846 - val_loss: 12.3462 - val_mae: 2.3949\n",
            "Epoch 89/100\n",
            "11/11 [==============================] - 0s 4ms/step - loss: 7.5582 - mae: 1.9703 - val_loss: 11.6335 - val_mae: 2.3010\n",
            "Epoch 90/100\n",
            "11/11 [==============================] - 0s 4ms/step - loss: 7.6497 - mae: 1.9576 - val_loss: 11.0565 - val_mae: 2.2557\n",
            "Epoch 91/100\n",
            "11/11 [==============================] - 0s 4ms/step - loss: 7.5940 - mae: 1.9842 - val_loss: 12.6507 - val_mae: 2.3818\n",
            "Epoch 92/100\n",
            "11/11 [==============================] - 0s 4ms/step - loss: 7.4318 - mae: 1.9489 - val_loss: 11.4315 - val_mae: 2.3180\n",
            "Epoch 93/100\n",
            "11/11 [==============================] - 0s 4ms/step - loss: 7.5161 - mae: 1.9577 - val_loss: 11.2513 - val_mae: 2.2715\n",
            "Epoch 94/100\n",
            "11/11 [==============================] - 0s 3ms/step - loss: 7.4702 - mae: 1.9552 - val_loss: 11.8482 - val_mae: 2.3071\n",
            "Epoch 95/100\n",
            "11/11 [==============================] - 0s 4ms/step - loss: 7.4433 - mae: 1.9651 - val_loss: 12.3305 - val_mae: 2.3805\n",
            "Epoch 96/100\n",
            "11/11 [==============================] - 0s 5ms/step - loss: 7.7363 - mae: 1.9892 - val_loss: 11.9288 - val_mae: 2.3221\n",
            "Epoch 97/100\n",
            "11/11 [==============================] - 0s 4ms/step - loss: 7.5155 - mae: 1.9901 - val_loss: 10.9798 - val_mae: 2.2517\n",
            "Epoch 98/100\n",
            "11/11 [==============================] - 0s 4ms/step - loss: 7.4447 - mae: 1.9489 - val_loss: 12.8876 - val_mae: 2.4201\n",
            "Epoch 99/100\n",
            "11/11 [==============================] - 0s 4ms/step - loss: 7.4137 - mae: 1.9604 - val_loss: 11.6819 - val_mae: 2.3066\n",
            "Epoch 100/100\n",
            "11/11 [==============================] - 0s 4ms/step - loss: 7.2208 - mae: 1.9266 - val_loss: 12.0813 - val_mae: 2.2900\n"
          ]
        }
      ]
    },
    {
      "cell_type": "markdown",
      "source": [
        "### (4) Plot Training Performance (Loss, MAE)"
      ],
      "metadata": {
        "id": "txvOyHs9ol0i"
      }
    },
    {
      "cell_type": "code",
      "source": [
        "# plot training loss\n",
        "import plotly.graph_objects as go\n",
        "fig = go.Figure()\n",
        "fig.add_trace(go.Scattergl(y=history.history['loss'],name='Train'))\n",
        "fig.add_trace(go.Scattergl(y=history.history['val_loss'],name='Valid'))\n",
        "fig.update_layout(height=500, width=700,xaxis_title='Epoch',yaxis_title='Loss')\n",
        "fig.show()"
      ],
      "metadata": {
        "colab": {
          "base_uri": "https://localhost:8080/",
          "height": 517
        },
        "id": "kjOE185Ponw_",
        "outputId": "b368b9b7-0576-409c-ac68-2302a8e8bace"
      },
      "execution_count": null,
      "outputs": [
        {
          "output_type": "display_data",
          "data": {
            "text/html": [
              "<html>\n",
              "<head><meta charset=\"utf-8\" /></head>\n",
              "<body>\n",
              "    <div>\n",
              "            <script src=\"https://cdnjs.cloudflare.com/ajax/libs/mathjax/2.7.5/MathJax.js?config=TeX-AMS-MML_SVG\"></script><script type=\"text/javascript\">if (window.MathJax) {MathJax.Hub.Config({SVG: {font: \"STIX-Web\"}});}</script>\n",
              "                <script type=\"text/javascript\">window.PlotlyConfig = {MathJaxConfig: 'local'};</script>\n",
              "        <script src=\"https://cdn.plot.ly/plotly-latest.min.js\"></script>    \n",
              "            <div id=\"8776eb9f-9b85-4753-88c1-904b094953de\" class=\"plotly-graph-div\" style=\"height:500px; width:700px;\"></div>\n",
              "            <script type=\"text/javascript\">\n",
              "                \n",
              "                    window.PLOTLYENV=window.PLOTLYENV || {};\n",
              "                    \n",
              "                if (document.getElementById(\"8776eb9f-9b85-4753-88c1-904b094953de\")) {\n",
              "                    Plotly.newPlot(\n",
              "                        '8776eb9f-9b85-4753-88c1-904b094953de',\n",
              "                        [{\"name\": \"Train\", \"type\": \"scattergl\", \"y\": [569.4129638671875, 501.59869384765625, 415.237548828125, 301.39019775390625, 182.11630249023438, 88.27108764648438, 52.1455192565918, 38.61409378051758, 28.636911392211914, 24.219650268554688, 22.113065719604492, 20.82252311706543, 19.839176177978516, 19.00194549560547, 18.256559371948242, 17.64146614074707, 17.005151748657227, 16.4785099029541, 16.054452896118164, 15.568802833557129, 15.023937225341797, 14.647427558898926, 14.320152282714844, 13.958837509155273, 13.787375450134277, 13.396690368652344, 13.04285717010498, 12.8556547164917, 12.831013679504395, 12.365065574645996, 12.13170051574707, 11.877038955688477, 11.820058822631836, 11.581306457519531, 11.4052095413208, 11.282751083374023, 10.993834495544434, 10.925639152526855, 10.660916328430176, 10.54755973815918, 10.43897819519043, 10.2721529006958, 10.177833557128906, 10.057680130004883, 9.961689949035645, 9.89963150024414, 9.73963737487793, 9.701316833496094, 9.619508743286133, 9.7349271774292, 9.43140697479248, 9.400521278381348, 9.27621841430664, 9.170369148254395, 9.170571327209473, 9.110517501831055, 9.096590995788574, 9.098252296447754, 9.032822608947754, 8.860306739807129, 8.801036834716797, 8.753230094909668, 8.602538108825684, 8.752415657043457, 8.59274673461914, 8.512447357177734, 8.48267650604248, 8.565650939941406, 8.366472244262695, 8.276289939880371, 8.464532852172852, 8.222213745117188, 8.159360885620117, 8.13228988647461, 8.068074226379395, 8.11701488494873, 7.980897426605225, 7.945247173309326, 7.894381046295166, 7.884180545806885, 7.881896018981934, 7.91994571685791, 7.846114158630371, 7.752101421356201, 7.920505523681641, 7.752699851989746, 7.652237892150879, 7.684681415557861, 7.558152198791504, 7.649748802185059, 7.594003677368164, 7.431826591491699, 7.516119003295898, 7.470174312591553, 7.443280220031738, 7.736335277557373, 7.515522480010986, 7.444738388061523, 7.413712501525879, 7.220788955688477]}, {\"name\": \"Valid\", \"type\": \"scattergl\", \"y\": [569.9193725585938, 495.02593994140625, 393.2455749511719, 268.8670654296875, 147.5909423828125, 74.09012603759766, 46.91128921508789, 33.488929748535156, 26.699432373046875, 22.532194137573242, 20.067594528198242, 19.01339340209961, 18.245769500732422, 17.58614158630371, 16.62554359436035, 15.917739868164062, 15.130131721496582, 14.690299034118652, 14.057003021240234, 13.523683547973633, 13.138116836547852, 12.593756675720215, 12.006537437438965, 11.570907592773438, 11.321734428405762, 10.887834548950195, 10.58741283416748, 10.148962020874023, 10.106620788574219, 9.706767082214355, 9.60591983795166, 9.740351676940918, 9.48974609375, 9.164854049682617, 8.81966781616211, 9.292536735534668, 8.92560863494873, 8.504806518554688, 8.633639335632324, 8.504215240478516, 8.693852424621582, 8.77005672454834, 8.474527359008789, 8.299574851989746, 8.253108978271484, 8.6527099609375, 8.257099151611328, 8.382765769958496, 8.461122512817383, 8.974483489990234, 8.33169937133789, 8.64681339263916, 8.522533416748047, 8.777677536010742, 8.567612648010254, 8.58060073852539, 8.790887832641602, 8.556696891784668, 9.175084114074707, 8.428524017333984, 9.931571960449219, 9.231215476989746, 9.030237197875977, 8.75931167602539, 10.30752944946289, 9.538955688476562, 8.70500373840332, 10.69601058959961, 9.991168022155762, 9.433856964111328, 8.959651947021484, 10.763566970825195, 9.903844833374023, 9.685189247131348, 10.167144775390625, 10.681150436401367, 10.114811897277832, 10.146384239196777, 10.421732902526855, 10.922245979309082, 10.313549041748047, 11.09213924407959, 10.994380950927734, 11.298389434814453, 11.19942855834961, 11.93528938293457, 10.430699348449707, 12.34618854522705, 11.633454322814941, 11.05647087097168, 12.650740623474121, 11.431533813476562, 11.251273155212402, 11.848225593566895, 12.330460548400879, 11.928797721862793, 10.979788780212402, 12.88764476776123, 11.681918144226074, 12.081266403198242]}],\n",
              "                        {\"height\": 500, \"template\": {\"data\": {\"bar\": [{\"error_x\": {\"color\": \"#2a3f5f\"}, \"error_y\": {\"color\": \"#2a3f5f\"}, \"marker\": {\"line\": {\"color\": \"#E5ECF6\", \"width\": 0.5}}, \"type\": \"bar\"}], \"barpolar\": [{\"marker\": {\"line\": {\"color\": \"#E5ECF6\", \"width\": 0.5}}, \"type\": \"barpolar\"}], \"carpet\": [{\"aaxis\": {\"endlinecolor\": \"#2a3f5f\", \"gridcolor\": \"white\", \"linecolor\": \"white\", \"minorgridcolor\": \"white\", \"startlinecolor\": \"#2a3f5f\"}, \"baxis\": {\"endlinecolor\": \"#2a3f5f\", \"gridcolor\": \"white\", \"linecolor\": \"white\", \"minorgridcolor\": \"white\", \"startlinecolor\": \"#2a3f5f\"}, \"type\": \"carpet\"}], \"choropleth\": [{\"colorbar\": {\"outlinewidth\": 0, \"ticks\": \"\"}, \"type\": \"choropleth\"}], \"contour\": [{\"colorbar\": {\"outlinewidth\": 0, \"ticks\": \"\"}, \"colorscale\": [[0.0, \"#0d0887\"], [0.1111111111111111, \"#46039f\"], [0.2222222222222222, \"#7201a8\"], [0.3333333333333333, \"#9c179e\"], [0.4444444444444444, \"#bd3786\"], [0.5555555555555556, \"#d8576b\"], [0.6666666666666666, \"#ed7953\"], [0.7777777777777778, \"#fb9f3a\"], [0.8888888888888888, \"#fdca26\"], [1.0, \"#f0f921\"]], \"type\": \"contour\"}], \"contourcarpet\": [{\"colorbar\": {\"outlinewidth\": 0, \"ticks\": \"\"}, \"type\": \"contourcarpet\"}], \"heatmap\": [{\"colorbar\": {\"outlinewidth\": 0, \"ticks\": \"\"}, \"colorscale\": [[0.0, \"#0d0887\"], [0.1111111111111111, \"#46039f\"], [0.2222222222222222, \"#7201a8\"], [0.3333333333333333, \"#9c179e\"], [0.4444444444444444, \"#bd3786\"], [0.5555555555555556, \"#d8576b\"], [0.6666666666666666, \"#ed7953\"], [0.7777777777777778, \"#fb9f3a\"], [0.8888888888888888, \"#fdca26\"], [1.0, \"#f0f921\"]], \"type\": \"heatmap\"}], \"heatmapgl\": [{\"colorbar\": {\"outlinewidth\": 0, \"ticks\": \"\"}, \"colorscale\": [[0.0, \"#0d0887\"], [0.1111111111111111, \"#46039f\"], [0.2222222222222222, \"#7201a8\"], [0.3333333333333333, \"#9c179e\"], [0.4444444444444444, \"#bd3786\"], [0.5555555555555556, \"#d8576b\"], [0.6666666666666666, \"#ed7953\"], [0.7777777777777778, \"#fb9f3a\"], [0.8888888888888888, \"#fdca26\"], [1.0, \"#f0f921\"]], \"type\": \"heatmapgl\"}], \"histogram\": [{\"marker\": {\"colorbar\": {\"outlinewidth\": 0, \"ticks\": \"\"}}, \"type\": \"histogram\"}], \"histogram2d\": [{\"colorbar\": {\"outlinewidth\": 0, \"ticks\": \"\"}, \"colorscale\": [[0.0, \"#0d0887\"], [0.1111111111111111, \"#46039f\"], [0.2222222222222222, \"#7201a8\"], [0.3333333333333333, \"#9c179e\"], [0.4444444444444444, \"#bd3786\"], [0.5555555555555556, \"#d8576b\"], [0.6666666666666666, \"#ed7953\"], [0.7777777777777778, \"#fb9f3a\"], [0.8888888888888888, \"#fdca26\"], [1.0, \"#f0f921\"]], \"type\": \"histogram2d\"}], \"histogram2dcontour\": [{\"colorbar\": {\"outlinewidth\": 0, \"ticks\": \"\"}, \"colorscale\": [[0.0, \"#0d0887\"], [0.1111111111111111, \"#46039f\"], [0.2222222222222222, \"#7201a8\"], [0.3333333333333333, \"#9c179e\"], [0.4444444444444444, \"#bd3786\"], [0.5555555555555556, \"#d8576b\"], [0.6666666666666666, \"#ed7953\"], [0.7777777777777778, \"#fb9f3a\"], [0.8888888888888888, \"#fdca26\"], [1.0, \"#f0f921\"]], \"type\": \"histogram2dcontour\"}], \"mesh3d\": [{\"colorbar\": {\"outlinewidth\": 0, \"ticks\": \"\"}, \"type\": \"mesh3d\"}], \"parcoords\": [{\"line\": {\"colorbar\": {\"outlinewidth\": 0, \"ticks\": \"\"}}, \"type\": \"parcoords\"}], \"pie\": [{\"automargin\": true, \"type\": \"pie\"}], \"scatter\": [{\"marker\": {\"colorbar\": {\"outlinewidth\": 0, \"ticks\": \"\"}}, \"type\": \"scatter\"}], \"scatter3d\": [{\"line\": {\"colorbar\": {\"outlinewidth\": 0, \"ticks\": \"\"}}, \"marker\": {\"colorbar\": {\"outlinewidth\": 0, \"ticks\": \"\"}}, \"type\": \"scatter3d\"}], \"scattercarpet\": [{\"marker\": {\"colorbar\": {\"outlinewidth\": 0, \"ticks\": \"\"}}, \"type\": \"scattercarpet\"}], \"scattergeo\": [{\"marker\": {\"colorbar\": {\"outlinewidth\": 0, \"ticks\": \"\"}}, \"type\": \"scattergeo\"}], \"scattergl\": [{\"marker\": {\"colorbar\": {\"outlinewidth\": 0, \"ticks\": \"\"}}, \"type\": \"scattergl\"}], \"scattermapbox\": [{\"marker\": {\"colorbar\": {\"outlinewidth\": 0, \"ticks\": \"\"}}, \"type\": \"scattermapbox\"}], \"scatterpolar\": [{\"marker\": {\"colorbar\": {\"outlinewidth\": 0, \"ticks\": \"\"}}, \"type\": \"scatterpolar\"}], \"scatterpolargl\": [{\"marker\": {\"colorbar\": {\"outlinewidth\": 0, \"ticks\": \"\"}}, \"type\": \"scatterpolargl\"}], \"scatterternary\": [{\"marker\": {\"colorbar\": {\"outlinewidth\": 0, \"ticks\": \"\"}}, \"type\": \"scatterternary\"}], \"surface\": [{\"colorbar\": {\"outlinewidth\": 0, \"ticks\": \"\"}, \"colorscale\": [[0.0, \"#0d0887\"], [0.1111111111111111, \"#46039f\"], [0.2222222222222222, \"#7201a8\"], [0.3333333333333333, \"#9c179e\"], [0.4444444444444444, \"#bd3786\"], [0.5555555555555556, \"#d8576b\"], [0.6666666666666666, \"#ed7953\"], [0.7777777777777778, \"#fb9f3a\"], [0.8888888888888888, \"#fdca26\"], [1.0, \"#f0f921\"]], \"type\": \"surface\"}], \"table\": [{\"cells\": {\"fill\": {\"color\": \"#EBF0F8\"}, \"line\": {\"color\": \"white\"}}, \"header\": {\"fill\": {\"color\": \"#C8D4E3\"}, \"line\": {\"color\": \"white\"}}, \"type\": \"table\"}]}, \"layout\": {\"annotationdefaults\": {\"arrowcolor\": \"#2a3f5f\", \"arrowhead\": 0, \"arrowwidth\": 1}, \"coloraxis\": {\"colorbar\": {\"outlinewidth\": 0, \"ticks\": \"\"}}, \"colorscale\": {\"diverging\": [[0, \"#8e0152\"], [0.1, \"#c51b7d\"], [0.2, \"#de77ae\"], [0.3, \"#f1b6da\"], [0.4, \"#fde0ef\"], [0.5, \"#f7f7f7\"], [0.6, \"#e6f5d0\"], [0.7, \"#b8e186\"], [0.8, \"#7fbc41\"], [0.9, \"#4d9221\"], [1, \"#276419\"]], \"sequential\": [[0.0, \"#0d0887\"], [0.1111111111111111, \"#46039f\"], [0.2222222222222222, \"#7201a8\"], [0.3333333333333333, \"#9c179e\"], [0.4444444444444444, \"#bd3786\"], [0.5555555555555556, \"#d8576b\"], [0.6666666666666666, \"#ed7953\"], [0.7777777777777778, \"#fb9f3a\"], [0.8888888888888888, \"#fdca26\"], [1.0, \"#f0f921\"]], \"sequentialminus\": [[0.0, \"#0d0887\"], [0.1111111111111111, \"#46039f\"], [0.2222222222222222, \"#7201a8\"], [0.3333333333333333, \"#9c179e\"], [0.4444444444444444, \"#bd3786\"], [0.5555555555555556, \"#d8576b\"], [0.6666666666666666, \"#ed7953\"], [0.7777777777777778, \"#fb9f3a\"], [0.8888888888888888, \"#fdca26\"], [1.0, \"#f0f921\"]]}, \"colorway\": [\"#636efa\", \"#EF553B\", \"#00cc96\", \"#ab63fa\", \"#FFA15A\", \"#19d3f3\", \"#FF6692\", \"#B6E880\", \"#FF97FF\", \"#FECB52\"], \"font\": {\"color\": \"#2a3f5f\"}, \"geo\": {\"bgcolor\": \"white\", \"lakecolor\": \"white\", \"landcolor\": \"#E5ECF6\", \"showlakes\": true, \"showland\": true, \"subunitcolor\": \"white\"}, \"hoverlabel\": {\"align\": \"left\"}, \"hovermode\": \"closest\", \"mapbox\": {\"style\": \"light\"}, \"paper_bgcolor\": \"white\", \"plot_bgcolor\": \"#E5ECF6\", \"polar\": {\"angularaxis\": {\"gridcolor\": \"white\", \"linecolor\": \"white\", \"ticks\": \"\"}, \"bgcolor\": \"#E5ECF6\", \"radialaxis\": {\"gridcolor\": \"white\", \"linecolor\": \"white\", \"ticks\": \"\"}}, \"scene\": {\"xaxis\": {\"backgroundcolor\": \"#E5ECF6\", \"gridcolor\": \"white\", \"gridwidth\": 2, \"linecolor\": \"white\", \"showbackground\": true, \"ticks\": \"\", \"zerolinecolor\": \"white\"}, \"yaxis\": {\"backgroundcolor\": \"#E5ECF6\", \"gridcolor\": \"white\", \"gridwidth\": 2, \"linecolor\": \"white\", \"showbackground\": true, \"ticks\": \"\", \"zerolinecolor\": \"white\"}, \"zaxis\": {\"backgroundcolor\": \"#E5ECF6\", \"gridcolor\": \"white\", \"gridwidth\": 2, \"linecolor\": \"white\", \"showbackground\": true, \"ticks\": \"\", \"zerolinecolor\": \"white\"}}, \"shapedefaults\": {\"line\": {\"color\": \"#2a3f5f\"}}, \"ternary\": {\"aaxis\": {\"gridcolor\": \"white\", \"linecolor\": \"white\", \"ticks\": \"\"}, \"baxis\": {\"gridcolor\": \"white\", \"linecolor\": \"white\", \"ticks\": \"\"}, \"bgcolor\": \"#E5ECF6\", \"caxis\": {\"gridcolor\": \"white\", \"linecolor\": \"white\", \"ticks\": \"\"}}, \"title\": {\"x\": 0.05}, \"xaxis\": {\"automargin\": true, \"gridcolor\": \"white\", \"linecolor\": \"white\", \"ticks\": \"\", \"title\": {\"standoff\": 15}, \"zerolinecolor\": \"white\", \"zerolinewidth\": 2}, \"yaxis\": {\"automargin\": true, \"gridcolor\": \"white\", \"linecolor\": \"white\", \"ticks\": \"\", \"title\": {\"standoff\": 15}, \"zerolinecolor\": \"white\", \"zerolinewidth\": 2}}}, \"width\": 700, \"xaxis\": {\"title\": {\"text\": \"Epoch\"}}, \"yaxis\": {\"title\": {\"text\": \"Loss\"}}},\n",
              "                        {\"responsive\": true}\n",
              "                    ).then(function(){\n",
              "                            \n",
              "var gd = document.getElementById('8776eb9f-9b85-4753-88c1-904b094953de');\n",
              "var x = new MutationObserver(function (mutations, observer) {{\n",
              "        var display = window.getComputedStyle(gd).display;\n",
              "        if (!display || display === 'none') {{\n",
              "            console.log([gd, 'removed!']);\n",
              "            Plotly.purge(gd);\n",
              "            observer.disconnect();\n",
              "        }}\n",
              "}});\n",
              "\n",
              "// Listen for the removal of the full notebook cells\n",
              "var notebookContainer = gd.closest('#notebook-container');\n",
              "if (notebookContainer) {{\n",
              "    x.observe(notebookContainer, {childList: true});\n",
              "}}\n",
              "\n",
              "// Listen for the clearing of the current output cell\n",
              "var outputEl = gd.closest('.output');\n",
              "if (outputEl) {{\n",
              "    x.observe(outputEl, {childList: true});\n",
              "}}\n",
              "\n",
              "                        })\n",
              "                };\n",
              "                \n",
              "            </script>\n",
              "        </div>\n",
              "</body>\n",
              "</html>"
            ]
          },
          "metadata": {}
        }
      ]
    },
    {
      "cell_type": "code",
      "source": [
        "# plot mean absolute error\n",
        "fig = go.Figure()\n",
        "fig.add_trace(go.Scattergl(y=history.history['mae'],name='Train'))\n",
        "fig.add_trace(go.Scattergl(y=history.history['val_mae'],name='Valid'))\n",
        "fig.update_layout(height=500, width=700,xaxis_title='Epoch',yaxis_title='Mean Absolute Error')\n",
        "fig.show() "
      ],
      "metadata": {
        "colab": {
          "base_uri": "https://localhost:8080/",
          "height": 517
        },
        "id": "vViJj-OvqNpF",
        "outputId": "87074173-d173-4321-8e27-53a79f037414"
      },
      "execution_count": null,
      "outputs": [
        {
          "output_type": "display_data",
          "data": {
            "text/html": [
              "<html>\n",
              "<head><meta charset=\"utf-8\" /></head>\n",
              "<body>\n",
              "    <div>\n",
              "            <script src=\"https://cdnjs.cloudflare.com/ajax/libs/mathjax/2.7.5/MathJax.js?config=TeX-AMS-MML_SVG\"></script><script type=\"text/javascript\">if (window.MathJax) {MathJax.Hub.Config({SVG: {font: \"STIX-Web\"}});}</script>\n",
              "                <script type=\"text/javascript\">window.PlotlyConfig = {MathJaxConfig: 'local'};</script>\n",
              "        <script src=\"https://cdn.plot.ly/plotly-latest.min.js\"></script>    \n",
              "            <div id=\"f77500e5-ab99-4613-b0df-71272a3c1393\" class=\"plotly-graph-div\" style=\"height:500px; width:700px;\"></div>\n",
              "            <script type=\"text/javascript\">\n",
              "                \n",
              "                    window.PLOTLYENV=window.PLOTLYENV || {};\n",
              "                    \n",
              "                if (document.getElementById(\"f77500e5-ab99-4613-b0df-71272a3c1393\")) {\n",
              "                    Plotly.newPlot(\n",
              "                        'f77500e5-ab99-4613-b0df-71272a3c1393',\n",
              "                        [{\"name\": \"Train\", \"type\": \"scattergl\", \"y\": [22.010953903198242, 20.482141494750977, 18.41922378540039, 15.415460586547852, 11.432453155517578, 7.480109691619873, 5.522729396820068, 4.699414253234863, 3.952643871307373, 3.589113235473633, 3.426046848297119, 3.329784631729126, 3.2369384765625, 3.1548330783843994, 3.090486764907837, 3.0212864875793457, 2.986243963241577, 2.9359238147735596, 2.900531053543091, 2.8692283630371094, 2.8058102130889893, 2.751810073852539, 2.7213902473449707, 2.663259983062744, 2.6553585529327393, 2.627678394317627, 2.570643901824951, 2.5658977031707764, 2.555900812149048, 2.488679885864258, 2.4789721965789795, 2.46081280708313, 2.490129232406616, 2.3981823921203613, 2.3647170066833496, 2.399362087249756, 2.3688418865203857, 2.338872194290161, 2.3048269748687744, 2.2964789867401123, 2.284695863723755, 2.273233413696289, 2.262150287628174, 2.2575221061706543, 2.228555679321289, 2.2251811027526855, 2.2165026664733887, 2.199506998062134, 2.190688133239746, 2.2380430698394775, 2.172654867172241, 2.175340175628662, 2.1622276306152344, 2.14788556098938, 2.1467061042785645, 2.1420576572418213, 2.155689239501953, 2.113079071044922, 2.1593661308288574, 2.1030232906341553, 2.112593650817871, 2.116964817047119, 2.085402250289917, 2.0910396575927734, 2.088168144226074, 2.0803654193878174, 2.05314564704895, 2.0769450664520264, 2.0867130756378174, 2.049696922302246, 2.043943405151367, 2.0582523345947266, 2.048833131790161, 2.0244221687316895, 2.0197079181671143, 2.039245128631592, 2.0216338634490967, 2.0101234912872314, 1.9949060678482056, 2.0043857097625732, 2.003552198410034, 2.0232605934143066, 1.9950716495513916, 2.0000813007354736, 1.9957563877105713, 2.002753973007202, 1.9751569032669067, 1.9845924377441406, 1.9702661037445068, 1.957553505897522, 1.984223484992981, 1.9489139318466187, 1.9577224254608154, 1.9552373886108398, 1.9651448726654053, 1.989169716835022, 1.9900939464569092, 1.9488599300384521, 1.960355281829834, 1.9266290664672852]}, {\"name\": \"Valid\", \"type\": \"scattergl\", \"y\": [22.046735763549805, 20.440818786621094, 18.074064254760742, 14.6658935546875, 10.294271469116211, 7.047538757324219, 5.33165168762207, 4.333005905151367, 3.6056463718414307, 3.229485034942627, 2.989794969558716, 2.8735761642456055, 2.8449525833129883, 2.831231117248535, 2.7656209468841553, 2.730198621749878, 2.671205759048462, 2.6578452587127686, 2.597393035888672, 2.543208360671997, 2.528731346130371, 2.4714388847351074, 2.465827703475952, 2.4864752292633057, 2.5126523971557617, 2.498512029647827, 2.49127197265625, 2.420132875442505, 2.5032453536987305, 2.434645652770996, 2.4598379135131836, 2.501255512237549, 2.4390602111816406, 2.4265239238739014, 2.317899465560913, 2.4711828231811523, 2.405766487121582, 2.3649797439575195, 2.3929972648620605, 2.3628475666046143, 2.3840768337249756, 2.4015934467315674, 2.367865562438965, 2.328550100326538, 2.3211300373077393, 2.3583288192749023, 2.3057796955108643, 2.324324369430542, 2.3295485973358154, 2.403050661087036, 2.3005497455596924, 2.337754964828491, 2.2955589294433594, 2.315589189529419, 2.2930476665496826, 2.296992540359497, 2.303894281387329, 2.2809019088745117, 2.3486292362213135, 2.2390031814575195, 2.3978991508483887, 2.325305461883545, 2.2942941188812256, 2.2300474643707275, 2.3892617225646973, 2.301251173019409, 2.204693555831909, 2.4129464626312256, 2.3479905128479004, 2.2590081691741943, 2.2021543979644775, 2.4065921306610107, 2.288620710372925, 2.2566115856170654, 2.309357166290283, 2.3196496963500977, 2.316370725631714, 2.302891492843628, 2.286515712738037, 2.3341422080993652, 2.245030164718628, 2.331026554107666, 2.303751230239868, 2.3421478271484375, 2.2761731147766113, 2.4298248291015625, 2.2155423164367676, 2.394923686981201, 2.3009936809539795, 2.2556886672973633, 2.381758689880371, 2.3180036544799805, 2.271495819091797, 2.30708909034729, 2.3805384635925293, 2.32205867767334, 2.2517292499542236, 2.42006778717041, 2.3066294193267822, 2.290015935897827]}],\n",
              "                        {\"height\": 500, \"template\": {\"data\": {\"bar\": [{\"error_x\": {\"color\": \"#2a3f5f\"}, \"error_y\": {\"color\": \"#2a3f5f\"}, \"marker\": {\"line\": {\"color\": \"#E5ECF6\", \"width\": 0.5}}, \"type\": \"bar\"}], \"barpolar\": [{\"marker\": {\"line\": {\"color\": \"#E5ECF6\", \"width\": 0.5}}, \"type\": \"barpolar\"}], \"carpet\": [{\"aaxis\": {\"endlinecolor\": \"#2a3f5f\", \"gridcolor\": \"white\", \"linecolor\": \"white\", \"minorgridcolor\": \"white\", \"startlinecolor\": \"#2a3f5f\"}, \"baxis\": {\"endlinecolor\": \"#2a3f5f\", \"gridcolor\": \"white\", \"linecolor\": \"white\", \"minorgridcolor\": \"white\", \"startlinecolor\": \"#2a3f5f\"}, \"type\": \"carpet\"}], \"choropleth\": [{\"colorbar\": {\"outlinewidth\": 0, \"ticks\": \"\"}, \"type\": \"choropleth\"}], \"contour\": [{\"colorbar\": {\"outlinewidth\": 0, \"ticks\": \"\"}, \"colorscale\": [[0.0, \"#0d0887\"], [0.1111111111111111, \"#46039f\"], [0.2222222222222222, \"#7201a8\"], [0.3333333333333333, \"#9c179e\"], [0.4444444444444444, \"#bd3786\"], [0.5555555555555556, \"#d8576b\"], [0.6666666666666666, \"#ed7953\"], [0.7777777777777778, \"#fb9f3a\"], [0.8888888888888888, \"#fdca26\"], [1.0, \"#f0f921\"]], \"type\": \"contour\"}], \"contourcarpet\": [{\"colorbar\": {\"outlinewidth\": 0, \"ticks\": \"\"}, \"type\": \"contourcarpet\"}], \"heatmap\": [{\"colorbar\": {\"outlinewidth\": 0, \"ticks\": \"\"}, \"colorscale\": [[0.0, \"#0d0887\"], [0.1111111111111111, \"#46039f\"], [0.2222222222222222, \"#7201a8\"], [0.3333333333333333, \"#9c179e\"], [0.4444444444444444, \"#bd3786\"], [0.5555555555555556, \"#d8576b\"], [0.6666666666666666, \"#ed7953\"], [0.7777777777777778, \"#fb9f3a\"], [0.8888888888888888, \"#fdca26\"], [1.0, \"#f0f921\"]], \"type\": \"heatmap\"}], \"heatmapgl\": [{\"colorbar\": {\"outlinewidth\": 0, \"ticks\": \"\"}, \"colorscale\": [[0.0, \"#0d0887\"], [0.1111111111111111, \"#46039f\"], [0.2222222222222222, \"#7201a8\"], [0.3333333333333333, \"#9c179e\"], [0.4444444444444444, \"#bd3786\"], [0.5555555555555556, \"#d8576b\"], [0.6666666666666666, \"#ed7953\"], [0.7777777777777778, \"#fb9f3a\"], [0.8888888888888888, \"#fdca26\"], [1.0, \"#f0f921\"]], \"type\": \"heatmapgl\"}], \"histogram\": [{\"marker\": {\"colorbar\": {\"outlinewidth\": 0, \"ticks\": \"\"}}, \"type\": \"histogram\"}], \"histogram2d\": [{\"colorbar\": {\"outlinewidth\": 0, \"ticks\": \"\"}, \"colorscale\": [[0.0, \"#0d0887\"], [0.1111111111111111, \"#46039f\"], [0.2222222222222222, \"#7201a8\"], [0.3333333333333333, \"#9c179e\"], [0.4444444444444444, \"#bd3786\"], [0.5555555555555556, \"#d8576b\"], [0.6666666666666666, \"#ed7953\"], [0.7777777777777778, \"#fb9f3a\"], [0.8888888888888888, \"#fdca26\"], [1.0, \"#f0f921\"]], \"type\": \"histogram2d\"}], \"histogram2dcontour\": [{\"colorbar\": {\"outlinewidth\": 0, \"ticks\": \"\"}, \"colorscale\": [[0.0, \"#0d0887\"], [0.1111111111111111, \"#46039f\"], [0.2222222222222222, \"#7201a8\"], [0.3333333333333333, \"#9c179e\"], [0.4444444444444444, \"#bd3786\"], [0.5555555555555556, \"#d8576b\"], [0.6666666666666666, \"#ed7953\"], [0.7777777777777778, \"#fb9f3a\"], [0.8888888888888888, \"#fdca26\"], [1.0, \"#f0f921\"]], \"type\": \"histogram2dcontour\"}], \"mesh3d\": [{\"colorbar\": {\"outlinewidth\": 0, \"ticks\": \"\"}, \"type\": \"mesh3d\"}], \"parcoords\": [{\"line\": {\"colorbar\": {\"outlinewidth\": 0, \"ticks\": \"\"}}, \"type\": \"parcoords\"}], \"pie\": [{\"automargin\": true, \"type\": \"pie\"}], \"scatter\": [{\"marker\": {\"colorbar\": {\"outlinewidth\": 0, \"ticks\": \"\"}}, \"type\": \"scatter\"}], \"scatter3d\": [{\"line\": {\"colorbar\": {\"outlinewidth\": 0, \"ticks\": \"\"}}, \"marker\": {\"colorbar\": {\"outlinewidth\": 0, \"ticks\": \"\"}}, \"type\": \"scatter3d\"}], \"scattercarpet\": [{\"marker\": {\"colorbar\": {\"outlinewidth\": 0, \"ticks\": \"\"}}, \"type\": \"scattercarpet\"}], \"scattergeo\": [{\"marker\": {\"colorbar\": {\"outlinewidth\": 0, \"ticks\": \"\"}}, \"type\": \"scattergeo\"}], \"scattergl\": [{\"marker\": {\"colorbar\": {\"outlinewidth\": 0, \"ticks\": \"\"}}, \"type\": \"scattergl\"}], \"scattermapbox\": [{\"marker\": {\"colorbar\": {\"outlinewidth\": 0, \"ticks\": \"\"}}, \"type\": \"scattermapbox\"}], \"scatterpolar\": [{\"marker\": {\"colorbar\": {\"outlinewidth\": 0, \"ticks\": \"\"}}, \"type\": \"scatterpolar\"}], \"scatterpolargl\": [{\"marker\": {\"colorbar\": {\"outlinewidth\": 0, \"ticks\": \"\"}}, \"type\": \"scatterpolargl\"}], \"scatterternary\": [{\"marker\": {\"colorbar\": {\"outlinewidth\": 0, \"ticks\": \"\"}}, \"type\": \"scatterternary\"}], \"surface\": [{\"colorbar\": {\"outlinewidth\": 0, \"ticks\": \"\"}, \"colorscale\": [[0.0, \"#0d0887\"], [0.1111111111111111, \"#46039f\"], [0.2222222222222222, \"#7201a8\"], [0.3333333333333333, \"#9c179e\"], [0.4444444444444444, \"#bd3786\"], [0.5555555555555556, \"#d8576b\"], [0.6666666666666666, \"#ed7953\"], [0.7777777777777778, \"#fb9f3a\"], [0.8888888888888888, \"#fdca26\"], [1.0, \"#f0f921\"]], \"type\": \"surface\"}], \"table\": [{\"cells\": {\"fill\": {\"color\": \"#EBF0F8\"}, \"line\": {\"color\": \"white\"}}, \"header\": {\"fill\": {\"color\": \"#C8D4E3\"}, \"line\": {\"color\": \"white\"}}, \"type\": \"table\"}]}, \"layout\": {\"annotationdefaults\": {\"arrowcolor\": \"#2a3f5f\", \"arrowhead\": 0, \"arrowwidth\": 1}, \"coloraxis\": {\"colorbar\": {\"outlinewidth\": 0, \"ticks\": \"\"}}, \"colorscale\": {\"diverging\": [[0, \"#8e0152\"], [0.1, \"#c51b7d\"], [0.2, \"#de77ae\"], [0.3, \"#f1b6da\"], [0.4, \"#fde0ef\"], [0.5, \"#f7f7f7\"], [0.6, \"#e6f5d0\"], [0.7, \"#b8e186\"], [0.8, \"#7fbc41\"], [0.9, \"#4d9221\"], [1, \"#276419\"]], \"sequential\": [[0.0, \"#0d0887\"], [0.1111111111111111, \"#46039f\"], [0.2222222222222222, \"#7201a8\"], [0.3333333333333333, \"#9c179e\"], [0.4444444444444444, \"#bd3786\"], [0.5555555555555556, \"#d8576b\"], [0.6666666666666666, \"#ed7953\"], [0.7777777777777778, \"#fb9f3a\"], [0.8888888888888888, \"#fdca26\"], [1.0, \"#f0f921\"]], \"sequentialminus\": [[0.0, \"#0d0887\"], [0.1111111111111111, \"#46039f\"], [0.2222222222222222, \"#7201a8\"], [0.3333333333333333, \"#9c179e\"], [0.4444444444444444, \"#bd3786\"], [0.5555555555555556, \"#d8576b\"], [0.6666666666666666, \"#ed7953\"], [0.7777777777777778, \"#fb9f3a\"], [0.8888888888888888, \"#fdca26\"], [1.0, \"#f0f921\"]]}, \"colorway\": [\"#636efa\", \"#EF553B\", \"#00cc96\", \"#ab63fa\", \"#FFA15A\", \"#19d3f3\", \"#FF6692\", \"#B6E880\", \"#FF97FF\", \"#FECB52\"], \"font\": {\"color\": \"#2a3f5f\"}, \"geo\": {\"bgcolor\": \"white\", \"lakecolor\": \"white\", \"landcolor\": \"#E5ECF6\", \"showlakes\": true, \"showland\": true, \"subunitcolor\": \"white\"}, \"hoverlabel\": {\"align\": \"left\"}, \"hovermode\": \"closest\", \"mapbox\": {\"style\": \"light\"}, \"paper_bgcolor\": \"white\", \"plot_bgcolor\": \"#E5ECF6\", \"polar\": {\"angularaxis\": {\"gridcolor\": \"white\", \"linecolor\": \"white\", \"ticks\": \"\"}, \"bgcolor\": \"#E5ECF6\", \"radialaxis\": {\"gridcolor\": \"white\", \"linecolor\": \"white\", \"ticks\": \"\"}}, \"scene\": {\"xaxis\": {\"backgroundcolor\": \"#E5ECF6\", \"gridcolor\": \"white\", \"gridwidth\": 2, \"linecolor\": \"white\", \"showbackground\": true, \"ticks\": \"\", \"zerolinecolor\": \"white\"}, \"yaxis\": {\"backgroundcolor\": \"#E5ECF6\", \"gridcolor\": \"white\", \"gridwidth\": 2, \"linecolor\": \"white\", \"showbackground\": true, \"ticks\": \"\", \"zerolinecolor\": \"white\"}, \"zaxis\": {\"backgroundcolor\": \"#E5ECF6\", \"gridcolor\": \"white\", \"gridwidth\": 2, \"linecolor\": \"white\", \"showbackground\": true, \"ticks\": \"\", \"zerolinecolor\": \"white\"}}, \"shapedefaults\": {\"line\": {\"color\": \"#2a3f5f\"}}, \"ternary\": {\"aaxis\": {\"gridcolor\": \"white\", \"linecolor\": \"white\", \"ticks\": \"\"}, \"baxis\": {\"gridcolor\": \"white\", \"linecolor\": \"white\", \"ticks\": \"\"}, \"bgcolor\": \"#E5ECF6\", \"caxis\": {\"gridcolor\": \"white\", \"linecolor\": \"white\", \"ticks\": \"\"}}, \"title\": {\"x\": 0.05}, \"xaxis\": {\"automargin\": true, \"gridcolor\": \"white\", \"linecolor\": \"white\", \"ticks\": \"\", \"title\": {\"standoff\": 15}, \"zerolinecolor\": \"white\", \"zerolinewidth\": 2}, \"yaxis\": {\"automargin\": true, \"gridcolor\": \"white\", \"linecolor\": \"white\", \"ticks\": \"\", \"title\": {\"standoff\": 15}, \"zerolinecolor\": \"white\", \"zerolinewidth\": 2}}}, \"width\": 700, \"xaxis\": {\"title\": {\"text\": \"Epoch\"}}, \"yaxis\": {\"title\": {\"text\": \"Mean Absolute Error\"}}},\n",
              "                        {\"responsive\": true}\n",
              "                    ).then(function(){\n",
              "                            \n",
              "var gd = document.getElementById('f77500e5-ab99-4613-b0df-71272a3c1393');\n",
              "var x = new MutationObserver(function (mutations, observer) {{\n",
              "        var display = window.getComputedStyle(gd).display;\n",
              "        if (!display || display === 'none') {{\n",
              "            console.log([gd, 'removed!']);\n",
              "            Plotly.purge(gd);\n",
              "            observer.disconnect();\n",
              "        }}\n",
              "}});\n",
              "\n",
              "// Listen for the removal of the full notebook cells\n",
              "var notebookContainer = gd.closest('#notebook-container');\n",
              "if (notebookContainer) {{\n",
              "    x.observe(notebookContainer, {childList: true});\n",
              "}}\n",
              "\n",
              "// Listen for the clearing of the current output cell\n",
              "var outputEl = gd.closest('.output');\n",
              "if (outputEl) {{\n",
              "    x.observe(outputEl, {childList: true});\n",
              "}}\n",
              "\n",
              "                        })\n",
              "                };\n",
              "                \n",
              "            </script>\n",
              "        </div>\n",
              "</body>\n",
              "</html>"
            ]
          },
          "metadata": {}
        }
      ]
    },
    {
      "cell_type": "markdown",
      "source": [
        "### (5) Evaluate Model using Test Data"
      ],
      "metadata": {
        "id": "W5HKfE0GrDp6"
      }
    },
    {
      "cell_type": "code",
      "source": [
        "mse_testdata, mae_testdata = model.evaluate(x_test, y_test)\n",
        "print('Mean squared error on test data: ', mse_testdata)\n",
        "print('Mean absolute error on test data: ', mae_testdata)"
      ],
      "metadata": {
        "colab": {
          "base_uri": "https://localhost:8080/"
        },
        "id": "0Gg6K_z4rITZ",
        "outputId": "7eec0c13-c6ad-448c-e8e1-053f7636ffb5"
      },
      "execution_count": null,
      "outputs": [
        {
          "output_type": "stream",
          "name": "stdout",
          "text": [
            "5/5 [==============================] - 0s 2ms/step - loss: 18.8924 - mae: 2.7837\n",
            "Mean squared error on test data:  18.892393112182617\n",
            "Mean absolute error on test data:  2.783689498901367\n"
          ]
        }
      ]
    }
  ]
}