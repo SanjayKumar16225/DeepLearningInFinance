{
  "nbformat": 4,
  "nbformat_minor": 0,
  "metadata": {
    "colab": {
      "name": "ep17_Keras_Sequential.ipynb",
      "provenance": [],
      "collapsed_sections": []
    },
    "kernelspec": {
      "name": "python3",
      "display_name": "Python 3"
    },
    "language_info": {
      "name": "python"
    }
  },
  "cells": [
    {
      "cell_type": "markdown",
      "source": [
        "# Episode 17. Neural Networks - Keras (Sequential)"
      ],
      "metadata": {
        "id": "BhvmAiQafe8Y"
      }
    },
    {
      "cell_type": "markdown",
      "source": [
        "## Step 1. Import Libraries"
      ],
      "metadata": {
        "id": "8V_ZRRwss0GG"
      }
    },
    {
      "cell_type": "code",
      "source": [
        "import numpy as np\n",
        "import pandas as pd\n",
        "import tensorflow as tf\n",
        "from tensorflow.keras.models import Sequential, Model\n",
        "from tensorflow.keras.layers import Input, Dense, ReLU"
      ],
      "metadata": {
        "id": "GEGX5Ui9gpNj"
      },
      "execution_count": 1,
      "outputs": []
    },
    {
      "cell_type": "markdown",
      "source": [
        "## Step 2. Load Data"
      ],
      "metadata": {
        "id": "Zb6Teb70icBv"
      }
    },
    {
      "cell_type": "code",
      "source": [
        "# Load Loan Default Data\n",
        "# Original Data Source: https://www.kaggle.com/kmldas/loan-default-prediction\n",
        "from google.colab import files\n",
        "uploaded = files.upload()"
      ],
      "metadata": {
        "colab": {
          "resources": {
            "http://localhost:8080/nbextensions/google.colab/files.js": {
              "data": "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",
              "ok": true,
              "headers": [
                [
                  "content-type",
                  "application/javascript"
                ]
              ],
              "status": 200,
              "status_text": ""
            }
          },
          "base_uri": "https://localhost:8080/",
          "height": 73
        },
        "id": "XUabBJw4fjHf",
        "outputId": "cfea2fff-4f3e-4e8f-db92-509c23277d4a"
      },
      "execution_count": 2,
      "outputs": [
        {
          "output_type": "display_data",
          "data": {
            "text/html": [
              "\n",
              "     <input type=\"file\" id=\"files-fb4e9a57-9ce2-42f1-a8c1-548fe6f1bf4e\" name=\"files[]\" multiple disabled\n",
              "        style=\"border:none\" />\n",
              "     <output id=\"result-fb4e9a57-9ce2-42f1-a8c1-548fe6f1bf4e\">\n",
              "      Upload widget is only available when the cell has been executed in the\n",
              "      current browser session. Please rerun this cell to enable.\n",
              "      </output>\n",
              "      <script src=\"/nbextensions/google.colab/files.js\"></script> "
            ],
            "text/plain": [
              "<IPython.core.display.HTML object>"
            ]
          },
          "metadata": {}
        },
        {
          "output_type": "stream",
          "name": "stdout",
          "text": [
            "Saving Default_Fin.csv to Default_Fin.csv\n"
          ]
        }
      ]
    },
    {
      "cell_type": "code",
      "source": [
        "# Store data in DataFrame\n",
        "df = pd.read_csv(\"Default_Fin.csv\")"
      ],
      "metadata": {
        "id": "c2iL1kjGgYiy"
      },
      "execution_count": 3,
      "outputs": []
    },
    {
      "cell_type": "markdown",
      "source": [
        "## Step 3. Check & Cleanup Data"
      ],
      "metadata": {
        "id": "221LI4Zaijyg"
      }
    },
    {
      "cell_type": "code",
      "source": [
        "# check data\n",
        "print(df.keys())\n",
        "# rename columns: small letter, remove special characters and space\n",
        "df.columns = df.columns.str.lower().str.replace('?','').str.replace(' ','')\n",
        "# check modified column names\n",
        "print(df.keys())"
      ],
      "metadata": {
        "colab": {
          "base_uri": "https://localhost:8080/"
        },
        "id": "t25PaxsBgd3i",
        "outputId": "433bb993-0d8b-49a6-a6e8-1b77695ca680"
      },
      "execution_count": 5,
      "outputs": [
        {
          "output_type": "stream",
          "name": "stdout",
          "text": [
            "Index(['Index', 'Employed', 'Bank Balance', 'Annual Salary', 'Defaulted?'], dtype='object')\n",
            "Index(['index', 'employed', 'bankbalance', 'annualsalary', 'defaulted'], dtype='object')\n"
          ]
        }
      ]
    },
    {
      "cell_type": "code",
      "source": [
        "# delete column 0 (index)\n",
        "drop_columns = ['index']\n",
        "df.drop(drop_columns, axis=1, inplace=True)\n",
        "df.keys()"
      ],
      "metadata": {
        "colab": {
          "base_uri": "https://localhost:8080/"
        },
        "id": "IgyLmYfmjl_u",
        "outputId": "eaceed39-8894-42a0-903b-f397f52f337a"
      },
      "execution_count": 6,
      "outputs": [
        {
          "output_type": "execute_result",
          "data": {
            "text/plain": [
              "Index(['employed', 'bankbalance', 'annualsalary', 'defaulted'], dtype='object')"
            ]
          },
          "metadata": {},
          "execution_count": 6
        }
      ]
    },
    {
      "cell_type": "code",
      "source": [
        "# number of missing data by columns\n",
        "print(df.isna().sum())\n",
        "# drop missing data\n",
        "drop_df = df.dropna(how='any')\n",
        "print(drop_df.shape)"
      ],
      "metadata": {
        "colab": {
          "base_uri": "https://localhost:8080/"
        },
        "id": "TDdTTWLihzZg",
        "outputId": "5a766a05-ac9e-4639-8e6d-eba542060fe1"
      },
      "execution_count": 7,
      "outputs": [
        {
          "output_type": "stream",
          "name": "stdout",
          "text": [
            "employed        0\n",
            "bankbalance     0\n",
            "annualsalary    0\n",
            "defaulted       0\n",
            "dtype: int64\n",
            "(10000, 4)\n"
          ]
        }
      ]
    },
    {
      "cell_type": "code",
      "source": [
        "# Find Duplicate Data\n",
        "duplicate_rows_df = df[df.duplicated()]\n",
        "print(duplicate_rows_df.shape)\n",
        "# drop duplicate data\n",
        "print(df.drop_duplicates().shape) "
      ],
      "metadata": {
        "colab": {
          "base_uri": "https://localhost:8080/"
        },
        "id": "yI1KAK8lh6fv",
        "outputId": "2c4e2f42-6c9e-4d9a-b416-0ee7ca9e2b09"
      },
      "execution_count": 8,
      "outputs": [
        {
          "output_type": "stream",
          "name": "stdout",
          "text": [
            "(0, 4)\n",
            "(10000, 4)\n"
          ]
        }
      ]
    },
    {
      "cell_type": "markdown",
      "source": [
        "## Step 4. Set Training Variables"
      ],
      "metadata": {
        "id": "MyrVTL25i6in"
      }
    },
    {
      "cell_type": "code",
      "source": [
        "# convert dataframe to numpy array\n",
        "x = df.to_numpy()\n",
        "# output target (y)\n",
        "y = x[:,3]\n",
        "# input\n",
        "x = x[:,0:3]"
      ],
      "metadata": {
        "id": "WbocCOuEo1pv"
      },
      "execution_count": 9,
      "outputs": []
    },
    {
      "cell_type": "markdown",
      "source": [
        "## Step 5. Neural Network - Method 1: Sequential"
      ],
      "metadata": {
        "id": "p5f5ai7PmrRO"
      }
    },
    {
      "cell_type": "markdown",
      "source": [
        "### (1) Define Neural Network"
      ],
      "metadata": {
        "id": "166Jl3BIqZNN"
      }
    },
    {
      "cell_type": "code",
      "source": [
        "model = Sequential()\n",
        "model.add(Dense(5, input_dim=3, activation='relu'))\n",
        "model.add(Dense(5, activation='relu'))\n",
        "model.add(Dense(1, activation='sigmoid'))"
      ],
      "metadata": {
        "id": "j7yYX766moM3"
      },
      "execution_count": 12,
      "outputs": []
    },
    {
      "cell_type": "markdown",
      "source": [
        "### (2) Compile the keras model"
      ],
      "metadata": {
        "id": "SV6Unxgsm2ci"
      }
    },
    {
      "cell_type": "code",
      "source": [
        "model.compile(loss='binary_crossentropy', optimizer='adam', metrics=['accuracy'])"
      ],
      "metadata": {
        "id": "uHfwyWtWm7Nv"
      },
      "execution_count": 13,
      "outputs": []
    },
    {
      "cell_type": "markdown",
      "source": [
        "### (3) Fit the keras model on the dataset"
      ],
      "metadata": {
        "id": "ur2ewhKsnMm9"
      }
    },
    {
      "cell_type": "code",
      "source": [
        "model.fit(x, y, epochs=50, batch_size=10)"
      ],
      "metadata": {
        "id": "WNRPs1m6nRzm",
        "colab": {
          "base_uri": "https://localhost:8080/"
        },
        "outputId": "31a2e074-9aa6-453b-b385-f3792718ea28"
      },
      "execution_count": 14,
      "outputs": [
        {
          "output_type": "stream",
          "name": "stdout",
          "text": [
            "Epoch 1/50\n",
            "1000/1000 [==============================] - 2s 2ms/step - loss: 1.7786 - accuracy: 0.9529\n",
            "Epoch 2/50\n",
            "1000/1000 [==============================] - 2s 2ms/step - loss: 0.3015 - accuracy: 0.9667\n",
            "Epoch 3/50\n",
            "1000/1000 [==============================] - 2s 2ms/step - loss: 0.2126 - accuracy: 0.9667\n",
            "Epoch 4/50\n",
            "1000/1000 [==============================] - 2s 2ms/step - loss: 0.1739 - accuracy: 0.9667\n",
            "Epoch 5/50\n",
            "1000/1000 [==============================] - 1s 1ms/step - loss: 0.1569 - accuracy: 0.9667\n",
            "Epoch 6/50\n",
            "1000/1000 [==============================] - 1s 1ms/step - loss: 0.1498 - accuracy: 0.9667\n",
            "Epoch 7/50\n",
            "1000/1000 [==============================] - 1s 1ms/step - loss: 0.1473 - accuracy: 0.9667\n",
            "Epoch 8/50\n",
            "1000/1000 [==============================] - 2s 2ms/step - loss: 0.1464 - accuracy: 0.9667\n",
            "Epoch 9/50\n",
            "1000/1000 [==============================] - 1s 1ms/step - loss: 0.1462 - accuracy: 0.9667\n",
            "Epoch 10/50\n",
            "1000/1000 [==============================] - 1s 1ms/step - loss: 0.1461 - accuracy: 0.9667\n",
            "Epoch 11/50\n",
            "1000/1000 [==============================] - 1s 1ms/step - loss: 0.1461 - accuracy: 0.9667\n",
            "Epoch 12/50\n",
            "1000/1000 [==============================] - 1s 1ms/step - loss: 0.1461 - accuracy: 0.9667\n",
            "Epoch 13/50\n",
            "1000/1000 [==============================] - 2s 2ms/step - loss: 0.1461 - accuracy: 0.9667\n",
            "Epoch 14/50\n",
            "1000/1000 [==============================] - 2s 2ms/step - loss: 0.1461 - accuracy: 0.9667\n",
            "Epoch 15/50\n",
            "1000/1000 [==============================] - 1s 1ms/step - loss: 0.1461 - accuracy: 0.9667\n",
            "Epoch 16/50\n",
            "1000/1000 [==============================] - 1s 1ms/step - loss: 0.1461 - accuracy: 0.9667\n",
            "Epoch 17/50\n",
            "1000/1000 [==============================] - 1s 1ms/step - loss: 0.1461 - accuracy: 0.9667\n",
            "Epoch 18/50\n",
            "1000/1000 [==============================] - 2s 2ms/step - loss: 0.1461 - accuracy: 0.9667\n",
            "Epoch 19/50\n",
            "1000/1000 [==============================] - 2s 2ms/step - loss: 0.1461 - accuracy: 0.9667\n",
            "Epoch 20/50\n",
            "1000/1000 [==============================] - 2s 2ms/step - loss: 0.1461 - accuracy: 0.9667\n",
            "Epoch 21/50\n",
            "1000/1000 [==============================] - 2s 2ms/step - loss: 0.1461 - accuracy: 0.9667\n",
            "Epoch 22/50\n",
            "1000/1000 [==============================] - 2s 2ms/step - loss: 0.1461 - accuracy: 0.9667\n",
            "Epoch 23/50\n",
            "1000/1000 [==============================] - 2s 2ms/step - loss: 0.1461 - accuracy: 0.9667\n",
            "Epoch 24/50\n",
            "1000/1000 [==============================] - 2s 2ms/step - loss: 0.1461 - accuracy: 0.9667\n",
            "Epoch 25/50\n",
            "1000/1000 [==============================] - 2s 2ms/step - loss: 0.1461 - accuracy: 0.9667\n",
            "Epoch 26/50\n",
            "1000/1000 [==============================] - 2s 2ms/step - loss: 0.1461 - accuracy: 0.9667\n",
            "Epoch 27/50\n",
            "1000/1000 [==============================] - 2s 2ms/step - loss: 0.1461 - accuracy: 0.9667\n",
            "Epoch 28/50\n",
            "1000/1000 [==============================] - 2s 2ms/step - loss: 0.1461 - accuracy: 0.9667\n",
            "Epoch 29/50\n",
            "1000/1000 [==============================] - 2s 2ms/step - loss: 0.1461 - accuracy: 0.9667\n",
            "Epoch 30/50\n",
            "1000/1000 [==============================] - 2s 2ms/step - loss: 0.1461 - accuracy: 0.9667\n",
            "Epoch 31/50\n",
            "1000/1000 [==============================] - 2s 2ms/step - loss: 0.1461 - accuracy: 0.9667\n",
            "Epoch 32/50\n",
            "1000/1000 [==============================] - 2s 2ms/step - loss: 0.1461 - accuracy: 0.9667\n",
            "Epoch 33/50\n",
            "1000/1000 [==============================] - 2s 2ms/step - loss: 0.1461 - accuracy: 0.9667\n",
            "Epoch 34/50\n",
            "1000/1000 [==============================] - 2s 2ms/step - loss: 0.1461 - accuracy: 0.9667\n",
            "Epoch 35/50\n",
            "1000/1000 [==============================] - 2s 2ms/step - loss: 0.1461 - accuracy: 0.9667\n",
            "Epoch 36/50\n",
            "1000/1000 [==============================] - 2s 2ms/step - loss: 0.1461 - accuracy: 0.9667\n",
            "Epoch 37/50\n",
            "1000/1000 [==============================] - 2s 1ms/step - loss: 0.1461 - accuracy: 0.9667\n",
            "Epoch 38/50\n",
            "1000/1000 [==============================] - 2s 2ms/step - loss: 0.1461 - accuracy: 0.9667\n",
            "Epoch 39/50\n",
            "1000/1000 [==============================] - 2s 2ms/step - loss: 0.1461 - accuracy: 0.9667\n",
            "Epoch 40/50\n",
            "1000/1000 [==============================] - 2s 2ms/step - loss: 0.1461 - accuracy: 0.9667\n",
            "Epoch 41/50\n",
            "1000/1000 [==============================] - 2s 2ms/step - loss: 0.1461 - accuracy: 0.9667\n",
            "Epoch 42/50\n",
            "1000/1000 [==============================] - 2s 2ms/step - loss: 0.1461 - accuracy: 0.9667\n",
            "Epoch 43/50\n",
            "1000/1000 [==============================] - 1s 1ms/step - loss: 0.1461 - accuracy: 0.9667\n",
            "Epoch 44/50\n",
            "1000/1000 [==============================] - 2s 2ms/step - loss: 0.1461 - accuracy: 0.9667\n",
            "Epoch 45/50\n",
            "1000/1000 [==============================] - 1s 1ms/step - loss: 0.1461 - accuracy: 0.9667\n",
            "Epoch 46/50\n",
            "1000/1000 [==============================] - 2s 2ms/step - loss: 0.1461 - accuracy: 0.9667\n",
            "Epoch 47/50\n",
            "1000/1000 [==============================] - 2s 2ms/step - loss: 0.1461 - accuracy: 0.9667\n",
            "Epoch 48/50\n",
            "1000/1000 [==============================] - 2s 2ms/step - loss: 0.1461 - accuracy: 0.9667\n",
            "Epoch 49/50\n",
            "1000/1000 [==============================] - 1s 1ms/step - loss: 0.1461 - accuracy: 0.9667\n",
            "Epoch 50/50\n",
            "1000/1000 [==============================] - 2s 2ms/step - loss: 0.1461 - accuracy: 0.9667\n"
          ]
        },
        {
          "output_type": "execute_result",
          "data": {
            "text/plain": [
              "<keras.callbacks.History at 0x7f13e36d1810>"
            ]
          },
          "metadata": {},
          "execution_count": 14
        }
      ]
    },
    {
      "cell_type": "markdown",
      "source": [
        "### (4) Evaluate the keras model"
      ],
      "metadata": {
        "id": "8DQWGoEmnQ9u"
      }
    },
    {
      "cell_type": "code",
      "source": [
        "_, accuracy = model.evaluate(x, y)\n",
        "print('Accuracy: %.2f' % (accuracy*100))"
      ],
      "metadata": {
        "colab": {
          "base_uri": "https://localhost:8080/"
        },
        "id": "-Dfn-9i_ncTl",
        "outputId": "d82da08a-25a4-48f4-8a9c-81c4b7e6d5e0"
      },
      "execution_count": 15,
      "outputs": [
        {
          "output_type": "stream",
          "name": "stdout",
          "text": [
            "313/313 [==============================] - 1s 1ms/step - loss: 0.1460 - accuracy: 0.9667\n",
            "Accuracy: 96.67\n"
          ]
        }
      ]
    },
    {
      "cell_type": "markdown",
      "source": [
        "### (5) Make Predictions"
      ],
      "metadata": {
        "id": "iuWFWzOmucMa"
      }
    },
    {
      "cell_type": "code",
      "source": [
        "# make class predictions with the model\n",
        "predictions = model.predict(x)\n",
        "# summarize the first 5 cases\n",
        "for i in range(5):\n",
        "\tprint('%s => %d (expected %d)' % (x[i].tolist(), predictions[i], y[i]))"
      ],
      "metadata": {
        "id": "HEmUaEjWuj1-",
        "colab": {
          "base_uri": "https://localhost:8080/"
        },
        "outputId": "f60c3764-4907-4a5a-b56b-6e7a1a501831"
      },
      "execution_count": 21,
      "outputs": [
        {
          "output_type": "stream",
          "name": "stdout",
          "text": [
            "[1.0, 8754.36, 532339.56] => 0 (expected 0)\n",
            "[0.0, 9806.16, 145273.56] => 0 (expected 0)\n",
            "[1.0, 12882.6, 381205.68] => 0 (expected 0)\n",
            "[1.0, 6351.0, 428453.88] => 0 (expected 0)\n",
            "[1.0, 9427.92, 461562.0] => 0 (expected 0)\n"
          ]
        }
      ]
    }
  ]
}